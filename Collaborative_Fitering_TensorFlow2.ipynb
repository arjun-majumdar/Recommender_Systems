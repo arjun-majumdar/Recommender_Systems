{
  "nbformat": 4,
  "nbformat_minor": 5,
  "metadata": {
    "kernelspec": {
      "display_name": "Python 3 (ipykernel)",
      "language": "python",
      "name": "python3"
    },
    "language_info": {
      "codemirror_mode": {
        "name": "ipython",
        "version": 3
      },
      "file_extension": ".py",
      "mimetype": "text/x-python",
      "name": "python",
      "nbconvert_exporter": "python",
      "pygments_lexer": "ipython3",
      "version": "3.8.10"
    },
    "colab": {
      "name": "Collaborative_Fitering_TensorFlow2.ipynb",
      "provenance": [],
      "collapsed_sections": []
    },
    "accelerator": "GPU"
  },
  "cells": [
    {
      "cell_type": "markdown",
      "metadata": {
        "id": "12686e09-bcd3-43b2-b7ce-79f073c52b55"
      },
      "source": [
        "# Collaborative Recommender System using TensorFlow2\n",
        "\n",
        "Recommendations are built upon the existing ratings of other users, who have similar ratings with the user to whom we want to recommend. Matrix factorization.\n",
        "\n",
        "__Collaborative Filtering is a technique widely used by recommender systems when you have a decent size of _user — item_ data. It makes recommendations based on the content preferences of similar users.__\n",
        "\n",
        "Therefore, collaborative filtering is not a suitable model to deal with [cold start](https://en.wikipedia.org/wiki/Cold_start_(computing)) problem, in which it cannot draw any inference for users or items about which it has not yet gathered sufficient information.\n",
        "\n",
        "But once you have relative large user — item interaction data, then collaborative filtering is the most widely used recommendation approach.\n",
        "\n",
        "\n",
        "[Refer](https://towardsdatascience.com/building-a-collaborative-filtering-recommender-system-with-tensorflow-82e63d27b420)"
      ],
      "id": "12686e09-bcd3-43b2-b7ce-79f073c52b55"
    },
    {
      "cell_type": "markdown",
      "metadata": {
        "id": "24270f09-7f6b-4c6a-a9b0-a08ab581a9e2"
      },
      "source": [
        "### Book-Crossing Dataset: Institut für Informatik Universität Freiburg\n",
        "\n",
        "The data pre-processing steps are as follows:\n",
        "\n",
        "1. Merge user, rating and book data.\n",
        "1. Remove unused columns.\n",
        "1. Filtering books that have had at least 25 ratings.\n",
        "1. Filtering users that have given at least 20 ratings → Remember, collaborative filtering algorithms often require users’ active participation.\n",
        "    \n",
        "[dataset reference](http://www2.informatik.uni-freiburg.de/~cziegler/BX/)"
      ],
      "id": "24270f09-7f6b-4c6a-a9b0-a08ab581a9e2"
    },
    {
      "cell_type": "code",
      "metadata": {
        "id": "ca04e157-0c0d-472f-80ef-b98d5b1859c0"
      },
      "source": [
        "import numpy as np\n",
        "import pandas as pd\n",
        "from tqdm import tqdm\n",
        "import matplotlib.pyplot as plt\n",
        "import seaborn as sns\n",
        "from sklearn.preprocessing import MinMaxScaler\n",
        "\n",
        "import tensorflow as tf\n",
        "import tensorflow\n",
        "from tensorflow.keras import Model, Sequential\n",
        "from tensorflow.keras.layers import Dense, InputLayer"
      ],
      "id": "ca04e157-0c0d-472f-80ef-b98d5b1859c0",
      "execution_count": 1,
      "outputs": []
    },
    {
      "cell_type": "code",
      "metadata": {
        "id": "f433171d-d0ee-495a-aa16-61ae8bfb21c6"
      },
      "source": [
        ""
      ],
      "id": "f433171d-d0ee-495a-aa16-61ae8bfb21c6",
      "execution_count": null,
      "outputs": []
    },
    {
      "cell_type": "code",
      "metadata": {
        "colab": {
          "base_uri": "https://localhost:8080/"
        },
        "id": "4ed595a5-199f-4a86-9adb-f82396ccf2f6",
        "outputId": "7e1bd234-dc2a-450d-bf3d-8e0f5ede1780"
      },
      "source": [
        "print(f\"TensorFlow version: {tf.__version__}\")"
      ],
      "id": "4ed595a5-199f-4a86-9adb-f82396ccf2f6",
      "execution_count": 2,
      "outputs": [
        {
          "output_type": "stream",
          "text": [
            "TensorFlow version: 2.5.0\n"
          ],
          "name": "stdout"
        }
      ]
    },
    {
      "cell_type": "code",
      "metadata": {
        "colab": {
          "base_uri": "https://localhost:8080/"
        },
        "id": "9a75f3ef-c2bb-44a9-9734-599ebffb6533",
        "outputId": "70cd379f-68ef-41ba-b022-5de5444977d7"
      },
      "source": [
        "gpu = tf.config.list_physical_devices('GPU')\n",
        "\n",
        "if len(gpu) == 0:\n",
        "    print(\"No GPU available\")\n",
        "else:\n",
        "    print(f\"number of available GPU(s) = {len(gpu)}\") "
      ],
      "id": "9a75f3ef-c2bb-44a9-9734-599ebffb6533",
      "execution_count": 3,
      "outputs": [
        {
          "output_type": "stream",
          "text": [
            "number of available GPU(s) = 1\n"
          ],
          "name": "stdout"
        }
      ]
    },
    {
      "cell_type": "code",
      "metadata": {
        "id": "947587cb-c128-480f-9294-a12bb45c7d06"
      },
      "source": [
        ""
      ],
      "id": "947587cb-c128-480f-9294-a12bb45c7d06",
      "execution_count": 3,
      "outputs": []
    },
    {
      "cell_type": "code",
      "metadata": {
        "colab": {
          "base_uri": "https://localhost:8080/"
        },
        "id": "Fflkq5QLrAwc",
        "outputId": "494a5c5d-ea5a-47f0-cc06-5ad66ba37c6a"
      },
      "source": [
        "from google.colab import drive\n",
        "drive.mount('/content/drive')"
      ],
      "id": "Fflkq5QLrAwc",
      "execution_count": 4,
      "outputs": [
        {
          "output_type": "stream",
          "text": [
            "Mounted at /content/drive\n"
          ],
          "name": "stdout"
        }
      ]
    },
    {
      "cell_type": "code",
      "metadata": {
        "id": "LWouuEuBrC7E"
      },
      "source": [
        ""
      ],
      "id": "LWouuEuBrC7E",
      "execution_count": 4,
      "outputs": []
    },
    {
      "cell_type": "code",
      "metadata": {
        "id": "xtzM9noerIH4"
      },
      "source": [
        "!cp /content/drive/MyDrive/BX-Book-Ratings.csv /content\n",
        "!cp /content/drive/MyDrive/BX-Books.csv /content\n",
        "!cp /content/drive/MyDrive/BX-Users.csv /content"
      ],
      "id": "xtzM9noerIH4",
      "execution_count": 5,
      "outputs": []
    },
    {
      "cell_type": "code",
      "metadata": {
        "id": "27f562ed-e0d6-443f-9b08-bcbb31c986be"
      },
      "source": [
        ""
      ],
      "id": "27f562ed-e0d6-443f-9b08-bcbb31c986be",
      "execution_count": null,
      "outputs": []
    },
    {
      "cell_type": "code",
      "metadata": {
        "colab": {
          "base_uri": "https://localhost:8080/"
        },
        "id": "b1a06b99-6cc0-4003-b8aa-e235c9215c0f",
        "outputId": "0dffb164-c07a-479a-eb5a-615f46d0bebd"
      },
      "source": [
        "# Read different CSV files-\n",
        "rating_data = pd.read_csv(\"BX-Book-Ratings.csv\", sep = ';', error_bad_lines = False, encoding = 'latin-1')\n",
        "user_data = pd.read_csv(\"BX-Users.csv\", sep = ';', error_bad_lines = False, encoding = 'latin-1')\n",
        "book_data = pd.read_csv(\"BX-Books.csv\", sep = ';', error_bad_lines = False, encoding = 'latin-1')"
      ],
      "id": "b1a06b99-6cc0-4003-b8aa-e235c9215c0f",
      "execution_count": 7,
      "outputs": [
        {
          "output_type": "stream",
          "text": [
            "b'Skipping line 6452: expected 8 fields, saw 9\\nSkipping line 43667: expected 8 fields, saw 10\\nSkipping line 51751: expected 8 fields, saw 9\\n'\n",
            "b'Skipping line 92038: expected 8 fields, saw 9\\nSkipping line 104319: expected 8 fields, saw 9\\nSkipping line 121768: expected 8 fields, saw 9\\n'\n",
            "b'Skipping line 144058: expected 8 fields, saw 9\\nSkipping line 150789: expected 8 fields, saw 9\\nSkipping line 157128: expected 8 fields, saw 9\\nSkipping line 180189: expected 8 fields, saw 9\\nSkipping line 185738: expected 8 fields, saw 9\\n'\n",
            "b'Skipping line 209388: expected 8 fields, saw 9\\nSkipping line 220626: expected 8 fields, saw 9\\nSkipping line 227933: expected 8 fields, saw 11\\nSkipping line 228957: expected 8 fields, saw 10\\nSkipping line 245933: expected 8 fields, saw 9\\nSkipping line 251296: expected 8 fields, saw 9\\nSkipping line 259941: expected 8 fields, saw 9\\nSkipping line 261529: expected 8 fields, saw 9\\n'\n",
            "/usr/local/lib/python3.7/dist-packages/IPython/core/interactiveshell.py:2718: DtypeWarning: Columns (3) have mixed types.Specify dtype option on import or set low_memory=False.\n",
            "  interactivity=interactivity, compiler=compiler, result=result)\n"
          ],
          "name": "stderr"
        }
      ]
    },
    {
      "cell_type": "code",
      "metadata": {
        "colab": {
          "base_uri": "https://localhost:8080/"
        },
        "id": "01b2be26-4c33-462e-bf2d-4c588a56ce07",
        "outputId": "7ba4fef3-72c1-4683-9273-afd122617ad4"
      },
      "source": [
        "rating_data.columns"
      ],
      "id": "01b2be26-4c33-462e-bf2d-4c588a56ce07",
      "execution_count": 8,
      "outputs": [
        {
          "output_type": "execute_result",
          "data": {
            "text/plain": [
              "Index(['User-ID', 'ISBN', 'Book-Rating'], dtype='object')"
            ]
          },
          "metadata": {
            "tags": []
          },
          "execution_count": 8
        }
      ]
    },
    {
      "cell_type": "code",
      "metadata": {
        "colab": {
          "base_uri": "https://localhost:8080/"
        },
        "id": "0c2aa47e-6d70-4a0e-9829-8e4d77d3f7a2",
        "outputId": "cabcba8b-2bcd-45af-dff1-8f5b93843c26"
      },
      "source": [
        "user_data.columns"
      ],
      "id": "0c2aa47e-6d70-4a0e-9829-8e4d77d3f7a2",
      "execution_count": 9,
      "outputs": [
        {
          "output_type": "execute_result",
          "data": {
            "text/plain": [
              "Index(['User-ID', 'Location', 'Age'], dtype='object')"
            ]
          },
          "metadata": {
            "tags": []
          },
          "execution_count": 9
        }
      ]
    },
    {
      "cell_type": "code",
      "metadata": {
        "colab": {
          "base_uri": "https://localhost:8080/"
        },
        "id": "7d98ffe1-f9fe-4aef-af14-32a0a76f36d4",
        "outputId": "eb0df572-fa72-43a2-c665-2ef13ad38a3c"
      },
      "source": [
        "book_data.columns"
      ],
      "id": "7d98ffe1-f9fe-4aef-af14-32a0a76f36d4",
      "execution_count": 10,
      "outputs": [
        {
          "output_type": "execute_result",
          "data": {
            "text/plain": [
              "Index(['ISBN', 'Book-Title', 'Book-Author', 'Year-Of-Publication', 'Publisher',\n",
              "       'Image-URL-S', 'Image-URL-M', 'Image-URL-L'],\n",
              "      dtype='object')"
            ]
          },
          "metadata": {
            "tags": []
          },
          "execution_count": 10
        }
      ]
    },
    {
      "cell_type": "code",
      "metadata": {
        "id": "9778b344-f741-4cf1-84d4-dc31372d9f70"
      },
      "source": [
        "book_rating_data = pd.merge(rating_data, book_data, on = 'ISBN')"
      ],
      "id": "9778b344-f741-4cf1-84d4-dc31372d9f70",
      "execution_count": 11,
      "outputs": []
    },
    {
      "cell_type": "code",
      "metadata": {
        "colab": {
          "base_uri": "https://localhost:8080/"
        },
        "id": "33de3380-055b-447a-bbfd-0a682c554129",
        "outputId": "bd02ffb7-afae-4870-e003-58efa666aab8"
      },
      "source": [
        "book_rating_data.columns"
      ],
      "id": "33de3380-055b-447a-bbfd-0a682c554129",
      "execution_count": 12,
      "outputs": [
        {
          "output_type": "execute_result",
          "data": {
            "text/plain": [
              "Index(['User-ID', 'ISBN', 'Book-Rating', 'Book-Title', 'Book-Author',\n",
              "       'Year-Of-Publication', 'Publisher', 'Image-URL-S', 'Image-URL-M',\n",
              "       'Image-URL-L'],\n",
              "      dtype='object')"
            ]
          },
          "metadata": {
            "tags": []
          },
          "execution_count": 12
        }
      ]
    },
    {
      "cell_type": "code",
      "metadata": {
        "id": "e645be34-6fb4-4764-8fa5-1e44ec57447e"
      },
      "source": [
        "# Features/columns to be removed-\n",
        "remove_features = ['Year-Of-Publication', 'Publisher', 'Book-Author', 'Image-URL-S', 'Image-URL-M', 'Image-URL-L']"
      ],
      "id": "e645be34-6fb4-4764-8fa5-1e44ec57447e",
      "execution_count": 13,
      "outputs": []
    },
    {
      "cell_type": "code",
      "metadata": {
        "id": "4f68547c-010f-48ad-86d3-35797cd38fc8"
      },
      "source": [
        "book_rating_data.drop(columns = remove_features, axis = 1, inplace = True)"
      ],
      "id": "4f68547c-010f-48ad-86d3-35797cd38fc8",
      "execution_count": 14,
      "outputs": []
    },
    {
      "cell_type": "code",
      "metadata": {
        "colab": {
          "base_uri": "https://localhost:8080/"
        },
        "id": "19502641-0d6e-49fa-a8ac-eee12e3d51f5",
        "outputId": "25573da8-e50d-4d67-c8ed-de53035d6ab9"
      },
      "source": [
        "book_rating_data.shape"
      ],
      "id": "19502641-0d6e-49fa-a8ac-eee12e3d51f5",
      "execution_count": 15,
      "outputs": [
        {
          "output_type": "execute_result",
          "data": {
            "text/plain": [
              "(1031136, 4)"
            ]
          },
          "metadata": {
            "tags": []
          },
          "execution_count": 15
        }
      ]
    },
    {
      "cell_type": "code",
      "metadata": {
        "colab": {
          "base_uri": "https://localhost:8080/"
        },
        "id": "f5b2af05-c280-4917-88e5-4ddec3184da0",
        "outputId": "2be9f378-f7ee-4e98-b9ed-9204f8136974"
      },
      "source": [
        "book_rating_data.isna().values.any()"
      ],
      "id": "f5b2af05-c280-4917-88e5-4ddec3184da0",
      "execution_count": 16,
      "outputs": [
        {
          "output_type": "execute_result",
          "data": {
            "text/plain": [
              "False"
            ]
          },
          "metadata": {
            "tags": []
          },
          "execution_count": 16
        }
      ]
    },
    {
      "cell_type": "code",
      "metadata": {
        "colab": {
          "base_uri": "https://localhost:8080/"
        },
        "id": "24e84ef9-0a1a-4672-91a9-674f14fa7775",
        "outputId": "decad575-f68d-4b81-b14b-fab9f87cebea"
      },
      "source": [
        "book_rating_data.columns"
      ],
      "id": "24e84ef9-0a1a-4672-91a9-674f14fa7775",
      "execution_count": 17,
      "outputs": [
        {
          "output_type": "execute_result",
          "data": {
            "text/plain": [
              "Index(['User-ID', 'ISBN', 'Book-Rating', 'Book-Title'], dtype='object')"
            ]
          },
          "metadata": {
            "tags": []
          },
          "execution_count": 17
        }
      ]
    },
    {
      "cell_type": "code",
      "metadata": {
        "id": "8bf98dd4-07f4-428c-ad2d-8001fcdc2865"
      },
      "source": [
        ""
      ],
      "id": "8bf98dd4-07f4-428c-ad2d-8001fcdc2865",
      "execution_count": null,
      "outputs": []
    },
    {
      "cell_type": "code",
      "metadata": {
        "id": "dfc5df20-5633-4d43-8567-e2478d1a9be5"
      },
      "source": [
        "# Group data-\n",
        "rating_count = (book_rating_data.groupby(\n",
        "    by = ['Book-Title'])['Book-Rating'].\n",
        "                count().\n",
        "                reset_index().\n",
        "                rename(columns = {'Book-Rating': 'RatingCount_book'})\n",
        "                [['Book-Title', 'RatingCount_book']]\n",
        "               )"
      ],
      "id": "dfc5df20-5633-4d43-8567-e2478d1a9be5",
      "execution_count": 18,
      "outputs": []
    },
    {
      "cell_type": "code",
      "metadata": {
        "colab": {
          "base_uri": "https://localhost:8080/",
          "height": 206
        },
        "id": "3a949a63-1178-412a-a945-94effb74a909",
        "outputId": "e3311e96-31fb-4b8e-d21c-e322e3ad2045"
      },
      "source": [
        "rating_count.head()"
      ],
      "id": "3a949a63-1178-412a-a945-94effb74a909",
      "execution_count": 19,
      "outputs": [
        {
          "output_type": "execute_result",
          "data": {
            "text/html": [
              "<div>\n",
              "<style scoped>\n",
              "    .dataframe tbody tr th:only-of-type {\n",
              "        vertical-align: middle;\n",
              "    }\n",
              "\n",
              "    .dataframe tbody tr th {\n",
              "        vertical-align: top;\n",
              "    }\n",
              "\n",
              "    .dataframe thead th {\n",
              "        text-align: right;\n",
              "    }\n",
              "</style>\n",
              "<table border=\"1\" class=\"dataframe\">\n",
              "  <thead>\n",
              "    <tr style=\"text-align: right;\">\n",
              "      <th></th>\n",
              "      <th>Book-Title</th>\n",
              "      <th>RatingCount_book</th>\n",
              "    </tr>\n",
              "  </thead>\n",
              "  <tbody>\n",
              "    <tr>\n",
              "      <th>0</th>\n",
              "      <td>A Light in the Storm: The Civil War Diary of ...</td>\n",
              "      <td>4</td>\n",
              "    </tr>\n",
              "    <tr>\n",
              "      <th>1</th>\n",
              "      <td>Always Have Popsicles</td>\n",
              "      <td>1</td>\n",
              "    </tr>\n",
              "    <tr>\n",
              "      <th>2</th>\n",
              "      <td>Apple Magic (The Collector's series)</td>\n",
              "      <td>1</td>\n",
              "    </tr>\n",
              "    <tr>\n",
              "      <th>3</th>\n",
              "      <td>Ask Lily (Young Women of Faith: Lily Series, ...</td>\n",
              "      <td>1</td>\n",
              "    </tr>\n",
              "    <tr>\n",
              "      <th>4</th>\n",
              "      <td>Beyond IBM: Leadership Marketing and Finance ...</td>\n",
              "      <td>1</td>\n",
              "    </tr>\n",
              "  </tbody>\n",
              "</table>\n",
              "</div>"
            ],
            "text/plain": [
              "                                          Book-Title  RatingCount_book\n",
              "0   A Light in the Storm: The Civil War Diary of ...                 4\n",
              "1                              Always Have Popsicles                 1\n",
              "2               Apple Magic (The Collector's series)                 1\n",
              "3   Ask Lily (Young Women of Faith: Lily Series, ...                 1\n",
              "4   Beyond IBM: Leadership Marketing and Finance ...                 1"
            ]
          },
          "metadata": {
            "tags": []
          },
          "execution_count": 19
        }
      ]
    },
    {
      "cell_type": "code",
      "metadata": {
        "id": "7858567e-ce0e-4564-9313-ae61dbd61ad1"
      },
      "source": [
        ""
      ],
      "id": "7858567e-ce0e-4564-9313-ae61dbd61ad1",
      "execution_count": null,
      "outputs": []
    },
    {
      "cell_type": "code",
      "metadata": {
        "colab": {
          "base_uri": "https://localhost:8080/",
          "height": 424
        },
        "id": "66223ae5-1c1b-43f7-9cb2-650d4640f95f",
        "outputId": "b9682bc5-e191-4632-e87b-b820bc5fc2fa"
      },
      "source": [
        "book_rating_data.groupby(by = 'Book-Title').count().reset_index().rename(columns = {'Book-Rating': 'RatingCount_book'})"
      ],
      "id": "66223ae5-1c1b-43f7-9cb2-650d4640f95f",
      "execution_count": 20,
      "outputs": [
        {
          "output_type": "execute_result",
          "data": {
            "text/html": [
              "<div>\n",
              "<style scoped>\n",
              "    .dataframe tbody tr th:only-of-type {\n",
              "        vertical-align: middle;\n",
              "    }\n",
              "\n",
              "    .dataframe tbody tr th {\n",
              "        vertical-align: top;\n",
              "    }\n",
              "\n",
              "    .dataframe thead th {\n",
              "        text-align: right;\n",
              "    }\n",
              "</style>\n",
              "<table border=\"1\" class=\"dataframe\">\n",
              "  <thead>\n",
              "    <tr style=\"text-align: right;\">\n",
              "      <th></th>\n",
              "      <th>Book-Title</th>\n",
              "      <th>User-ID</th>\n",
              "      <th>ISBN</th>\n",
              "      <th>RatingCount_book</th>\n",
              "    </tr>\n",
              "  </thead>\n",
              "  <tbody>\n",
              "    <tr>\n",
              "      <th>0</th>\n",
              "      <td>A Light in the Storm: The Civil War Diary of ...</td>\n",
              "      <td>4</td>\n",
              "      <td>4</td>\n",
              "      <td>4</td>\n",
              "    </tr>\n",
              "    <tr>\n",
              "      <th>1</th>\n",
              "      <td>Always Have Popsicles</td>\n",
              "      <td>1</td>\n",
              "      <td>1</td>\n",
              "      <td>1</td>\n",
              "    </tr>\n",
              "    <tr>\n",
              "      <th>2</th>\n",
              "      <td>Apple Magic (The Collector's series)</td>\n",
              "      <td>1</td>\n",
              "      <td>1</td>\n",
              "      <td>1</td>\n",
              "    </tr>\n",
              "    <tr>\n",
              "      <th>3</th>\n",
              "      <td>Ask Lily (Young Women of Faith: Lily Series, ...</td>\n",
              "      <td>1</td>\n",
              "      <td>1</td>\n",
              "      <td>1</td>\n",
              "    </tr>\n",
              "    <tr>\n",
              "      <th>4</th>\n",
              "      <td>Beyond IBM: Leadership Marketing and Finance ...</td>\n",
              "      <td>1</td>\n",
              "      <td>1</td>\n",
              "      <td>1</td>\n",
              "    </tr>\n",
              "    <tr>\n",
              "      <th>...</th>\n",
              "      <td>...</td>\n",
              "      <td>...</td>\n",
              "      <td>...</td>\n",
              "      <td>...</td>\n",
              "    </tr>\n",
              "    <tr>\n",
              "      <th>241066</th>\n",
              "      <td>Ã?Â?lpiraten.</td>\n",
              "      <td>2</td>\n",
              "      <td>2</td>\n",
              "      <td>2</td>\n",
              "    </tr>\n",
              "    <tr>\n",
              "      <th>241067</th>\n",
              "      <td>Ã?Â?rger mit Produkt X. Roman.</td>\n",
              "      <td>4</td>\n",
              "      <td>4</td>\n",
              "      <td>4</td>\n",
              "    </tr>\n",
              "    <tr>\n",
              "      <th>241068</th>\n",
              "      <td>Ã?Â?sterlich leben.</td>\n",
              "      <td>1</td>\n",
              "      <td>1</td>\n",
              "      <td>1</td>\n",
              "    </tr>\n",
              "    <tr>\n",
              "      <th>241069</th>\n",
              "      <td>Ã?Â?stlich der Berge.</td>\n",
              "      <td>3</td>\n",
              "      <td>3</td>\n",
              "      <td>3</td>\n",
              "    </tr>\n",
              "    <tr>\n",
              "      <th>241070</th>\n",
              "      <td>Ã?Â?thique en toc</td>\n",
              "      <td>2</td>\n",
              "      <td>2</td>\n",
              "      <td>2</td>\n",
              "    </tr>\n",
              "  </tbody>\n",
              "</table>\n",
              "<p>241071 rows × 4 columns</p>\n",
              "</div>"
            ],
            "text/plain": [
              "                                               Book-Title  ...  RatingCount_book\n",
              "0        A Light in the Storm: The Civil War Diary of ...  ...                 4\n",
              "1                                   Always Have Popsicles  ...                 1\n",
              "2                    Apple Magic (The Collector's series)  ...                 1\n",
              "3        Ask Lily (Young Women of Faith: Lily Series, ...  ...                 1\n",
              "4        Beyond IBM: Leadership Marketing and Finance ...  ...                 1\n",
              "...                                                   ...  ...               ...\n",
              "241066                                      Ã?Â?lpiraten.  ...                 2\n",
              "241067                     Ã?Â?rger mit Produkt X. Roman.  ...                 4\n",
              "241068                                Ã?Â?sterlich leben.  ...                 1\n",
              "241069                              Ã?Â?stlich der Berge.  ...                 3\n",
              "241070                                  Ã?Â?thique en toc  ...                 2\n",
              "\n",
              "[241071 rows x 4 columns]"
            ]
          },
          "metadata": {
            "tags": []
          },
          "execution_count": 20
        }
      ]
    },
    {
      "cell_type": "code",
      "metadata": {
        "colab": {
          "base_uri": "https://localhost:8080/",
          "height": 424
        },
        "id": "4c889360-ef57-44f4-81b7-194cd2e35c61",
        "outputId": "4d57015b-4434-44b5-b5a8-c3f189c17526"
      },
      "source": [
        "book_rating_data.groupby(by = 'Book-Title')['Book-Rating'].count().reset_index().rename(columns = {'Book-Rating': 'RatingCount_book'})"
      ],
      "id": "4c889360-ef57-44f4-81b7-194cd2e35c61",
      "execution_count": 21,
      "outputs": [
        {
          "output_type": "execute_result",
          "data": {
            "text/html": [
              "<div>\n",
              "<style scoped>\n",
              "    .dataframe tbody tr th:only-of-type {\n",
              "        vertical-align: middle;\n",
              "    }\n",
              "\n",
              "    .dataframe tbody tr th {\n",
              "        vertical-align: top;\n",
              "    }\n",
              "\n",
              "    .dataframe thead th {\n",
              "        text-align: right;\n",
              "    }\n",
              "</style>\n",
              "<table border=\"1\" class=\"dataframe\">\n",
              "  <thead>\n",
              "    <tr style=\"text-align: right;\">\n",
              "      <th></th>\n",
              "      <th>Book-Title</th>\n",
              "      <th>RatingCount_book</th>\n",
              "    </tr>\n",
              "  </thead>\n",
              "  <tbody>\n",
              "    <tr>\n",
              "      <th>0</th>\n",
              "      <td>A Light in the Storm: The Civil War Diary of ...</td>\n",
              "      <td>4</td>\n",
              "    </tr>\n",
              "    <tr>\n",
              "      <th>1</th>\n",
              "      <td>Always Have Popsicles</td>\n",
              "      <td>1</td>\n",
              "    </tr>\n",
              "    <tr>\n",
              "      <th>2</th>\n",
              "      <td>Apple Magic (The Collector's series)</td>\n",
              "      <td>1</td>\n",
              "    </tr>\n",
              "    <tr>\n",
              "      <th>3</th>\n",
              "      <td>Ask Lily (Young Women of Faith: Lily Series, ...</td>\n",
              "      <td>1</td>\n",
              "    </tr>\n",
              "    <tr>\n",
              "      <th>4</th>\n",
              "      <td>Beyond IBM: Leadership Marketing and Finance ...</td>\n",
              "      <td>1</td>\n",
              "    </tr>\n",
              "    <tr>\n",
              "      <th>...</th>\n",
              "      <td>...</td>\n",
              "      <td>...</td>\n",
              "    </tr>\n",
              "    <tr>\n",
              "      <th>241066</th>\n",
              "      <td>Ã?Â?lpiraten.</td>\n",
              "      <td>2</td>\n",
              "    </tr>\n",
              "    <tr>\n",
              "      <th>241067</th>\n",
              "      <td>Ã?Â?rger mit Produkt X. Roman.</td>\n",
              "      <td>4</td>\n",
              "    </tr>\n",
              "    <tr>\n",
              "      <th>241068</th>\n",
              "      <td>Ã?Â?sterlich leben.</td>\n",
              "      <td>1</td>\n",
              "    </tr>\n",
              "    <tr>\n",
              "      <th>241069</th>\n",
              "      <td>Ã?Â?stlich der Berge.</td>\n",
              "      <td>3</td>\n",
              "    </tr>\n",
              "    <tr>\n",
              "      <th>241070</th>\n",
              "      <td>Ã?Â?thique en toc</td>\n",
              "      <td>2</td>\n",
              "    </tr>\n",
              "  </tbody>\n",
              "</table>\n",
              "<p>241071 rows × 2 columns</p>\n",
              "</div>"
            ],
            "text/plain": [
              "                                               Book-Title  RatingCount_book\n",
              "0        A Light in the Storm: The Civil War Diary of ...                 4\n",
              "1                                   Always Have Popsicles                 1\n",
              "2                    Apple Magic (The Collector's series)                 1\n",
              "3        Ask Lily (Young Women of Faith: Lily Series, ...                 1\n",
              "4        Beyond IBM: Leadership Marketing and Finance ...                 1\n",
              "...                                                   ...               ...\n",
              "241066                                      Ã?Â?lpiraten.                 2\n",
              "241067                     Ã?Â?rger mit Produkt X. Roman.                 4\n",
              "241068                                Ã?Â?sterlich leben.                 1\n",
              "241069                              Ã?Â?stlich der Berge.                 3\n",
              "241070                                  Ã?Â?thique en toc                 2\n",
              "\n",
              "[241071 rows x 2 columns]"
            ]
          },
          "metadata": {
            "tags": []
          },
          "execution_count": 21
        }
      ]
    },
    {
      "cell_type": "code",
      "metadata": {
        "id": "008ce98b-3c52-4e32-a392-8e8b3375c02c"
      },
      "source": [
        ""
      ],
      "id": "008ce98b-3c52-4e32-a392-8e8b3375c02c",
      "execution_count": null,
      "outputs": []
    },
    {
      "cell_type": "code",
      "metadata": {
        "id": "82242144-8b57-4006-96e8-29216dad253b"
      },
      "source": [
        "threshold = 25\n",
        "rating_count = rating_count.query('RatingCount_book >= @threshold')\n",
        "# OR-\n",
        "# rating_count = rating_count[rating_count['RatingCount_book'] >= threshold]"
      ],
      "id": "82242144-8b57-4006-96e8-29216dad253b",
      "execution_count": 22,
      "outputs": []
    },
    {
      "cell_type": "code",
      "metadata": {
        "colab": {
          "base_uri": "https://localhost:8080/",
          "height": 206
        },
        "id": "c344d57c-0241-4639-91ed-93d276a9ef51",
        "outputId": "9a5dcdbc-c97f-4c4d-f067-b723b39dad64"
      },
      "source": [
        "rating_count.head()"
      ],
      "id": "c344d57c-0241-4639-91ed-93d276a9ef51",
      "execution_count": 23,
      "outputs": [
        {
          "output_type": "execute_result",
          "data": {
            "text/html": [
              "<div>\n",
              "<style scoped>\n",
              "    .dataframe tbody tr th:only-of-type {\n",
              "        vertical-align: middle;\n",
              "    }\n",
              "\n",
              "    .dataframe tbody tr th {\n",
              "        vertical-align: top;\n",
              "    }\n",
              "\n",
              "    .dataframe thead th {\n",
              "        text-align: right;\n",
              "    }\n",
              "</style>\n",
              "<table border=\"1\" class=\"dataframe\">\n",
              "  <thead>\n",
              "    <tr style=\"text-align: right;\">\n",
              "      <th></th>\n",
              "      <th>Book-Title</th>\n",
              "      <th>RatingCount_book</th>\n",
              "    </tr>\n",
              "  </thead>\n",
              "  <tbody>\n",
              "    <tr>\n",
              "      <th>75</th>\n",
              "      <td>'Salem's Lot</td>\n",
              "      <td>47</td>\n",
              "    </tr>\n",
              "    <tr>\n",
              "      <th>203</th>\n",
              "      <td>10 Lb. Penalty</td>\n",
              "      <td>61</td>\n",
              "    </tr>\n",
              "    <tr>\n",
              "      <th>422</th>\n",
              "      <td>101 Dalmatians</td>\n",
              "      <td>37</td>\n",
              "    </tr>\n",
              "    <tr>\n",
              "      <th>673</th>\n",
              "      <td>14,000 Things to Be Happy About</td>\n",
              "      <td>28</td>\n",
              "    </tr>\n",
              "    <tr>\n",
              "      <th>697</th>\n",
              "      <td>16 Lighthouse Road</td>\n",
              "      <td>65</td>\n",
              "    </tr>\n",
              "  </tbody>\n",
              "</table>\n",
              "</div>"
            ],
            "text/plain": [
              "                          Book-Title  RatingCount_book\n",
              "75                      'Salem's Lot                47\n",
              "203                   10 Lb. Penalty                61\n",
              "422                   101 Dalmatians                37\n",
              "673  14,000 Things to Be Happy About                28\n",
              "697               16 Lighthouse Road                65"
            ]
          },
          "metadata": {
            "tags": []
          },
          "execution_count": 23
        }
      ]
    },
    {
      "cell_type": "code",
      "metadata": {
        "id": "14de3532-7264-40c7-9abc-362b3379e04f"
      },
      "source": [
        "user_rating = pd.merge(rating_count, book_rating_data, left_on = 'Book-Title', right_on = 'Book-Title', how = 'left')"
      ],
      "id": "14de3532-7264-40c7-9abc-362b3379e04f",
      "execution_count": 24,
      "outputs": []
    },
    {
      "cell_type": "code",
      "metadata": {
        "colab": {
          "base_uri": "https://localhost:8080/",
          "height": 206
        },
        "id": "e76cfad3-2ee9-401f-8b9d-d0bec92d5240",
        "outputId": "0231be29-e3bd-436c-f39e-73c9ba4f37fb"
      },
      "source": [
        "user_rating.head()"
      ],
      "id": "e76cfad3-2ee9-401f-8b9d-d0bec92d5240",
      "execution_count": 25,
      "outputs": [
        {
          "output_type": "execute_result",
          "data": {
            "text/html": [
              "<div>\n",
              "<style scoped>\n",
              "    .dataframe tbody tr th:only-of-type {\n",
              "        vertical-align: middle;\n",
              "    }\n",
              "\n",
              "    .dataframe tbody tr th {\n",
              "        vertical-align: top;\n",
              "    }\n",
              "\n",
              "    .dataframe thead th {\n",
              "        text-align: right;\n",
              "    }\n",
              "</style>\n",
              "<table border=\"1\" class=\"dataframe\">\n",
              "  <thead>\n",
              "    <tr style=\"text-align: right;\">\n",
              "      <th></th>\n",
              "      <th>Book-Title</th>\n",
              "      <th>RatingCount_book</th>\n",
              "      <th>User-ID</th>\n",
              "      <th>ISBN</th>\n",
              "      <th>Book-Rating</th>\n",
              "    </tr>\n",
              "  </thead>\n",
              "  <tbody>\n",
              "    <tr>\n",
              "      <th>0</th>\n",
              "      <td>'Salem's Lot</td>\n",
              "      <td>47</td>\n",
              "      <td>8936</td>\n",
              "      <td>067103975X</td>\n",
              "      <td>0</td>\n",
              "    </tr>\n",
              "    <tr>\n",
              "      <th>1</th>\n",
              "      <td>'Salem's Lot</td>\n",
              "      <td>47</td>\n",
              "      <td>172245</td>\n",
              "      <td>067103975X</td>\n",
              "      <td>0</td>\n",
              "    </tr>\n",
              "    <tr>\n",
              "      <th>2</th>\n",
              "      <td>'Salem's Lot</td>\n",
              "      <td>47</td>\n",
              "      <td>189835</td>\n",
              "      <td>067103975X</td>\n",
              "      <td>5</td>\n",
              "    </tr>\n",
              "    <tr>\n",
              "      <th>3</th>\n",
              "      <td>'Salem's Lot</td>\n",
              "      <td>47</td>\n",
              "      <td>9226</td>\n",
              "      <td>0451168089</td>\n",
              "      <td>0</td>\n",
              "    </tr>\n",
              "    <tr>\n",
              "      <th>4</th>\n",
              "      <td>'Salem's Lot</td>\n",
              "      <td>47</td>\n",
              "      <td>33283</td>\n",
              "      <td>0451168089</td>\n",
              "      <td>10</td>\n",
              "    </tr>\n",
              "  </tbody>\n",
              "</table>\n",
              "</div>"
            ],
            "text/plain": [
              "     Book-Title  RatingCount_book  User-ID        ISBN  Book-Rating\n",
              "0  'Salem's Lot                47     8936  067103975X            0\n",
              "1  'Salem's Lot                47   172245  067103975X            0\n",
              "2  'Salem's Lot                47   189835  067103975X            5\n",
              "3  'Salem's Lot                47     9226  0451168089            0\n",
              "4  'Salem's Lot                47    33283  0451168089           10"
            ]
          },
          "metadata": {
            "tags": []
          },
          "execution_count": 25
        }
      ]
    },
    {
      "cell_type": "code",
      "metadata": {
        "id": "8e6495c1-3307-46ab-8002-b8d071b8bfa5"
      },
      "source": [
        "user_count = (user_rating.\n",
        "     groupby(by = ['User-ID'])['Book-Rating'].\n",
        "     count().\n",
        "     reset_index().\n",
        "     rename(columns = {'Book-Rating': 'RatingCount_user'})\n",
        "     [['User-ID', 'RatingCount_user']]\n",
        "    )"
      ],
      "id": "8e6495c1-3307-46ab-8002-b8d071b8bfa5",
      "execution_count": 26,
      "outputs": []
    },
    {
      "cell_type": "code",
      "metadata": {
        "colab": {
          "base_uri": "https://localhost:8080/",
          "height": 206
        },
        "id": "8432624c-e145-4e4d-8e79-44729674a029",
        "outputId": "55bf2e68-2934-4b5f-a468-cbf5a9d48dc4"
      },
      "source": [
        "user_count.head()"
      ],
      "id": "8432624c-e145-4e4d-8e79-44729674a029",
      "execution_count": 27,
      "outputs": [
        {
          "output_type": "execute_result",
          "data": {
            "text/html": [
              "<div>\n",
              "<style scoped>\n",
              "    .dataframe tbody tr th:only-of-type {\n",
              "        vertical-align: middle;\n",
              "    }\n",
              "\n",
              "    .dataframe tbody tr th {\n",
              "        vertical-align: top;\n",
              "    }\n",
              "\n",
              "    .dataframe thead th {\n",
              "        text-align: right;\n",
              "    }\n",
              "</style>\n",
              "<table border=\"1\" class=\"dataframe\">\n",
              "  <thead>\n",
              "    <tr style=\"text-align: right;\">\n",
              "      <th></th>\n",
              "      <th>User-ID</th>\n",
              "      <th>RatingCount_user</th>\n",
              "    </tr>\n",
              "  </thead>\n",
              "  <tbody>\n",
              "    <tr>\n",
              "      <th>0</th>\n",
              "      <td>8</td>\n",
              "      <td>2</td>\n",
              "    </tr>\n",
              "    <tr>\n",
              "      <th>1</th>\n",
              "      <td>9</td>\n",
              "      <td>2</td>\n",
              "    </tr>\n",
              "    <tr>\n",
              "      <th>2</th>\n",
              "      <td>10</td>\n",
              "      <td>1</td>\n",
              "    </tr>\n",
              "    <tr>\n",
              "      <th>3</th>\n",
              "      <td>14</td>\n",
              "      <td>1</td>\n",
              "    </tr>\n",
              "    <tr>\n",
              "      <th>4</th>\n",
              "      <td>16</td>\n",
              "      <td>2</td>\n",
              "    </tr>\n",
              "  </tbody>\n",
              "</table>\n",
              "</div>"
            ],
            "text/plain": [
              "   User-ID  RatingCount_user\n",
              "0        8                 2\n",
              "1        9                 2\n",
              "2       10                 1\n",
              "3       14                 1\n",
              "4       16                 2"
            ]
          },
          "metadata": {
            "tags": []
          },
          "execution_count": 27
        }
      ]
    },
    {
      "cell_type": "code",
      "metadata": {
        "id": "7a8a4049-a678-4133-ba77-1153ddf51670"
      },
      "source": [
        "threshold = 20\n",
        "# user_count = user_count.query('RatingCount_user >= @threshold')\n",
        "user_count = user_count[user_count['RatingCount_user'] >= threshold]"
      ],
      "id": "7a8a4049-a678-4133-ba77-1153ddf51670",
      "execution_count": 28,
      "outputs": []
    },
    {
      "cell_type": "code",
      "metadata": {
        "colab": {
          "base_uri": "https://localhost:8080/",
          "height": 206
        },
        "id": "d7125895-e8ed-4a25-adcc-a77326728016",
        "outputId": "244ee7f9-cedb-4ab7-a94c-422e1fc9ab30"
      },
      "source": [
        "user_count.head()"
      ],
      "id": "d7125895-e8ed-4a25-adcc-a77326728016",
      "execution_count": 29,
      "outputs": [
        {
          "output_type": "execute_result",
          "data": {
            "text/html": [
              "<div>\n",
              "<style scoped>\n",
              "    .dataframe tbody tr th:only-of-type {\n",
              "        vertical-align: middle;\n",
              "    }\n",
              "\n",
              "    .dataframe tbody tr th {\n",
              "        vertical-align: top;\n",
              "    }\n",
              "\n",
              "    .dataframe thead th {\n",
              "        text-align: right;\n",
              "    }\n",
              "</style>\n",
              "<table border=\"1\" class=\"dataframe\">\n",
              "  <thead>\n",
              "    <tr style=\"text-align: right;\">\n",
              "      <th></th>\n",
              "      <th>User-ID</th>\n",
              "      <th>RatingCount_user</th>\n",
              "    </tr>\n",
              "  </thead>\n",
              "  <tbody>\n",
              "    <tr>\n",
              "      <th>52</th>\n",
              "      <td>243</td>\n",
              "      <td>68</td>\n",
              "    </tr>\n",
              "    <tr>\n",
              "      <th>54</th>\n",
              "      <td>254</td>\n",
              "      <td>139</td>\n",
              "    </tr>\n",
              "    <tr>\n",
              "      <th>89</th>\n",
              "      <td>487</td>\n",
              "      <td>21</td>\n",
              "    </tr>\n",
              "    <tr>\n",
              "      <th>96</th>\n",
              "      <td>507</td>\n",
              "      <td>61</td>\n",
              "    </tr>\n",
              "    <tr>\n",
              "      <th>115</th>\n",
              "      <td>638</td>\n",
              "      <td>51</td>\n",
              "    </tr>\n",
              "  </tbody>\n",
              "</table>\n",
              "</div>"
            ],
            "text/plain": [
              "     User-ID  RatingCount_user\n",
              "52       243                68\n",
              "54       254               139\n",
              "89       487                21\n",
              "96       507                61\n",
              "115      638                51"
            ]
          },
          "metadata": {
            "tags": []
          },
          "execution_count": 29
        }
      ]
    },
    {
      "cell_type": "code",
      "metadata": {
        "id": "9f8d5c7a-718b-4bfc-aab7-3ffcd604bb59"
      },
      "source": [
        "combined_data = user_rating.merge(user_count, left_on = 'User-ID', right_on = 'User-ID', how = 'inner')"
      ],
      "id": "9f8d5c7a-718b-4bfc-aab7-3ffcd604bb59",
      "execution_count": 30,
      "outputs": []
    },
    {
      "cell_type": "code",
      "metadata": {
        "colab": {
          "base_uri": "https://localhost:8080/",
          "height": 206
        },
        "id": "d2b7bf85-7c7f-4624-bd16-963b0cb8e60e",
        "outputId": "b494a7be-fb63-40fb-b246-dfdf5c951666"
      },
      "source": [
        "combined_data.head()"
      ],
      "id": "d2b7bf85-7c7f-4624-bd16-963b0cb8e60e",
      "execution_count": 31,
      "outputs": [
        {
          "output_type": "execute_result",
          "data": {
            "text/html": [
              "<div>\n",
              "<style scoped>\n",
              "    .dataframe tbody tr th:only-of-type {\n",
              "        vertical-align: middle;\n",
              "    }\n",
              "\n",
              "    .dataframe tbody tr th {\n",
              "        vertical-align: top;\n",
              "    }\n",
              "\n",
              "    .dataframe thead th {\n",
              "        text-align: right;\n",
              "    }\n",
              "</style>\n",
              "<table border=\"1\" class=\"dataframe\">\n",
              "  <thead>\n",
              "    <tr style=\"text-align: right;\">\n",
              "      <th></th>\n",
              "      <th>Book-Title</th>\n",
              "      <th>RatingCount_book</th>\n",
              "      <th>User-ID</th>\n",
              "      <th>ISBN</th>\n",
              "      <th>Book-Rating</th>\n",
              "      <th>RatingCount_user</th>\n",
              "    </tr>\n",
              "  </thead>\n",
              "  <tbody>\n",
              "    <tr>\n",
              "      <th>0</th>\n",
              "      <td>'Salem's Lot</td>\n",
              "      <td>47</td>\n",
              "      <td>8936</td>\n",
              "      <td>067103975X</td>\n",
              "      <td>0</td>\n",
              "      <td>177</td>\n",
              "    </tr>\n",
              "    <tr>\n",
              "      <th>1</th>\n",
              "      <td>1st to Die: A Novel</td>\n",
              "      <td>509</td>\n",
              "      <td>8936</td>\n",
              "      <td>0446610038</td>\n",
              "      <td>0</td>\n",
              "      <td>177</td>\n",
              "    </tr>\n",
              "    <tr>\n",
              "      <th>2</th>\n",
              "      <td>A Case of Need</td>\n",
              "      <td>236</td>\n",
              "      <td>8936</td>\n",
              "      <td>0451210638</td>\n",
              "      <td>0</td>\n",
              "      <td>177</td>\n",
              "    </tr>\n",
              "    <tr>\n",
              "      <th>3</th>\n",
              "      <td>A Perfect Stranger</td>\n",
              "      <td>54</td>\n",
              "      <td>8936</td>\n",
              "      <td>0440168724</td>\n",
              "      <td>0</td>\n",
              "      <td>177</td>\n",
              "    </tr>\n",
              "    <tr>\n",
              "      <th>4</th>\n",
              "      <td>Accident</td>\n",
              "      <td>126</td>\n",
              "      <td>8936</td>\n",
              "      <td>0440217547</td>\n",
              "      <td>0</td>\n",
              "      <td>177</td>\n",
              "    </tr>\n",
              "  </tbody>\n",
              "</table>\n",
              "</div>"
            ],
            "text/plain": [
              "            Book-Title  RatingCount_book  ...  Book-Rating RatingCount_user\n",
              "0         'Salem's Lot                47  ...            0              177\n",
              "1  1st to Die: A Novel               509  ...            0              177\n",
              "2       A Case of Need               236  ...            0              177\n",
              "3   A Perfect Stranger                54  ...            0              177\n",
              "4             Accident               126  ...            0              177\n",
              "\n",
              "[5 rows x 6 columns]"
            ]
          },
          "metadata": {
            "tags": []
          },
          "execution_count": 31
        }
      ]
    },
    {
      "cell_type": "code",
      "metadata": {
        "colab": {
          "base_uri": "https://localhost:8080/"
        },
        "id": "00890bea-d681-4c76-96e0-0ad3561b349f",
        "outputId": "4ff6b875-0ad9-4eed-a365-eea8c6f023f0"
      },
      "source": [
        "print(f\"combined_data dimensions/shape = {combined_data.shape}\")"
      ],
      "id": "00890bea-d681-4c76-96e0-0ad3561b349f",
      "execution_count": 32,
      "outputs": [
        {
          "output_type": "stream",
          "text": [
            "combined_data dimensions/shape = (263467, 6)\n"
          ],
          "name": "stdout"
        }
      ]
    },
    {
      "cell_type": "code",
      "metadata": {
        "colab": {
          "base_uri": "https://localhost:8080/"
        },
        "id": "167442e1-0dda-4b18-bf85-b0ddb7b2a43a",
        "outputId": "404bd4ee-e285-4b3b-f55d-1399da075d14"
      },
      "source": [
        "print(f\"Number of unique users = {combined_data['User-ID'].nunique()} and number of unique books = {combined_data['Book-Title'].nunique()}\")"
      ],
      "id": "167442e1-0dda-4b18-bf85-b0ddb7b2a43a",
      "execution_count": 33,
      "outputs": [
        {
          "output_type": "stream",
          "text": [
            "Number of unique users = 3192 and number of unique books = 5850\n"
          ],
          "name": "stdout"
        }
      ]
    },
    {
      "cell_type": "markdown",
      "metadata": {
        "id": "466b3436-2e5d-4b10-bc04-b741ec422e5b"
      },
      "source": [
        "- Our final dataset ```combined_data``` contains 3,192 users for 5,850 books.\n",
        "- Each user has given at least 20 ratings and each book has received at least 25 ratings.\n",
        "\n",
        "The collaborative filtering approach focuses on finding users who have given similar ratings to the same books, thus creating a link between users, to whom books will be suggested that were reviewed in a positive way. Hence, __we look for associations between users and not between books__. __Therefore, collaborative filtering relies only on observed user behavior to make recommendations — no profile data or content data is necessary.__\n",
        "\n",
        "\n",
        "Our technique will be based on the following observations:\n",
        "\n",
        "- Users who rate books in a similar manner share one or more hidden preferences.\n",
        "- Users with shared preferences are likely to give ratings in the same way to the same books."
      ],
      "id": "466b3436-2e5d-4b10-bc04-b741ec422e5b"
    },
    {
      "cell_type": "code",
      "metadata": {
        "id": "90151330-03be-467c-9c6b-e1d7c4ef0e7a"
      },
      "source": [
        "combined_data['Book-Rating'] = combined_data['Book-Rating'].values.astype(float)"
      ],
      "id": "90151330-03be-467c-9c6b-e1d7c4ef0e7a",
      "execution_count": 34,
      "outputs": []
    },
    {
      "cell_type": "code",
      "metadata": {
        "colab": {
          "base_uri": "https://localhost:8080/",
          "height": 458
        },
        "id": "2fda24ae-32e4-4627-a196-d6d7dc7bc094",
        "outputId": "9d96ef9e-7cde-4429-a102-8a6f38657347"
      },
      "source": [
        "# Visualize distribution of 'Book-Rating' attribute-\n",
        "# plt.figure(figsize = (9, 7))\n",
        "# plt.hist(combined_data['Book-Rating'])\n",
        "\n",
        "fig_dims = (9, 7)\n",
        "fig, ax = plt.subplots(figsize = fig_dims)\n",
        "sns.histplot(data = combined_data, x = 'Book-Rating', ax = ax)\n",
        "plt.title(\"Book-Rating attribute distribution\")\n",
        "plt.xlabel(\"book rating\")\n",
        "plt.ylabel(\"count\")\n",
        "plt.show()\n"
      ],
      "id": "2fda24ae-32e4-4627-a196-d6d7dc7bc094",
      "execution_count": 35,
      "outputs": [
        {
          "output_type": "display_data",
          "data": {
            "image/png": "[encoded data removed]",
            "text/plain": [
              "<Figure size 648x504 with 1 Axes>"
            ]
          },
          "metadata": {
            "tags": [],
            "needs_background": "light"
          }
        }
      ]
    },
    {
      "cell_type": "code",
      "metadata": {
        "id": "c4e1f4dd-3b9a-4a77-881e-46163ba1885d"
      },
      "source": [
        ""
      ],
      "id": "c4e1f4dd-3b9a-4a77-881e-46163ba1885d",
      "execution_count": null,
      "outputs": []
    },
    {
      "cell_type": "code",
      "metadata": {
        "id": "9c50c14a-066c-4633-ad23-8bdeb7a44948"
      },
      "source": [
        "# Scale values-\n",
        "scaler_mm = MinMaxScaler()\n",
        "book_rating_scaled = scaler_mm.fit_transform(combined_data['Book-Rating'].values.reshape(-1, 1))\n",
        "combined_data['Book-Rating'] = book_rating_scaled"
      ],
      "id": "9c50c14a-066c-4633-ad23-8bdeb7a44948",
      "execution_count": 36,
      "outputs": []
    },
    {
      "cell_type": "code",
      "metadata": {
        "colab": {
          "base_uri": "https://localhost:8080/"
        },
        "id": "b16a5d64-c6ba-4e4a-893e-1c9a87f460dc",
        "outputId": "e6235d23-8683-43d1-a003-c4bb435667f0"
      },
      "source": [
        "# Sanity check-\n",
        "combined_data['Book-Rating'].min(), combined_data['Book-Rating'].max()"
      ],
      "id": "b16a5d64-c6ba-4e4a-893e-1c9a87f460dc",
      "execution_count": 37,
      "outputs": [
        {
          "output_type": "execute_result",
          "data": {
            "text/plain": [
              "(0.0, 1.0)"
            ]
          },
          "metadata": {
            "tags": []
          },
          "execution_count": 37
        }
      ]
    },
    {
      "cell_type": "code",
      "metadata": {
        "id": "73d4084b-2be1-4426-9fc8-02fe5788ce66"
      },
      "source": [
        ""
      ],
      "id": "73d4084b-2be1-4426-9fc8-02fe5788ce66",
      "execution_count": null,
      "outputs": []
    },
    {
      "cell_type": "code",
      "metadata": {
        "id": "2c92f24a-69c3-4e2d-9674-f793b866a72d"
      },
      "source": [
        "# Construct user and book matrices using 3 features/columns-\n",
        "\n",
        "# Drop duplicates in these 2 columns-\n",
        "combined_data = combined_data.drop_duplicates(['User-ID', 'Book-Title'])\n",
        "\n",
        "user_book_matrix = combined_data.pivot(index = 'User-ID', columns = 'Book-Title', values = 'Book-Rating')\n",
        "user_book_matrix.fillna(0, inplace = True)"
      ],
      "id": "2c92f24a-69c3-4e2d-9674-f793b866a72d",
      "execution_count": 38,
      "outputs": []
    },
    {
      "cell_type": "code",
      "metadata": {
        "colab": {
          "base_uri": "https://localhost:8080/"
        },
        "id": "4d242397-e6fb-40b5-bbaf-91ed9a2aea85",
        "outputId": "202c5039-fb64-4b03-f59a-3b4c5bb05231"
      },
      "source": [
        "user_book_matrix.shape"
      ],
      "id": "4d242397-e6fb-40b5-bbaf-91ed9a2aea85",
      "execution_count": 39,
      "outputs": [
        {
          "output_type": "execute_result",
          "data": {
            "text/plain": [
              "(3192, 5850)"
            ]
          },
          "metadata": {
            "tags": []
          },
          "execution_count": 39
        }
      ]
    },
    {
      "cell_type": "code",
      "metadata": {
        "id": "a4377704-ea91-47ad-ba12-8a9c636efa39"
      },
      "source": [
        "users = user_book_matrix.index.tolist()\n",
        "books = user_book_matrix.columns.tolist()\n",
        "\n",
        "user_book_matrix = user_book_matrix.values"
      ],
      "id": "a4377704-ea91-47ad-ba12-8a9c636efa39",
      "execution_count": 40,
      "outputs": []
    },
    {
      "cell_type": "code",
      "metadata": {
        "id": "9ded8ced-d6d4-4cc1-af57-38c152f2a1f4"
      },
      "source": [
        ""
      ],
      "id": "9ded8ced-d6d4-4cc1-af57-38c152f2a1f4",
      "execution_count": null,
      "outputs": []
    },
    {
      "cell_type": "code",
      "metadata": {
        "id": "627e39fc-4c83-4d40-99bb-d42a1474458d"
      },
      "source": [
        "num_input = combined_data['Book-Title'].nunique()\n",
        "num_hidden_1 = 10\n",
        "num_hidden_2 = 5"
      ],
      "id": "627e39fc-4c83-4d40-99bb-d42a1474458d",
      "execution_count": 41,
      "outputs": []
    },
    {
      "cell_type": "code",
      "metadata": {
        "colab": {
          "base_uri": "https://localhost:8080/"
        },
        "id": "4be47bf2-4bd7-4c11-b893-0540b5173972",
        "outputId": "3ebd549b-ab1f-4f09-dad1-6da66a3e13ec"
      },
      "source": [
        "num_input"
      ],
      "id": "4be47bf2-4bd7-4c11-b893-0540b5173972",
      "execution_count": 42,
      "outputs": [
        {
          "output_type": "execute_result",
          "data": {
            "text/plain": [
              "5850"
            ]
          },
          "metadata": {
            "tags": []
          },
          "execution_count": 42
        }
      ]
    },
    {
      "cell_type": "code",
      "metadata": {
        "id": "765ff857-10a9-47ef-81b7-ba388bce6bbf"
      },
      "source": [
        "X = tf.random.normal(shape = (1, num_input))"
      ],
      "id": "765ff857-10a9-47ef-81b7-ba388bce6bbf",
      "execution_count": 43,
      "outputs": []
    },
    {
      "cell_type": "code",
      "metadata": {
        "colab": {
          "base_uri": "https://localhost:8080/"
        },
        "id": "55175ac0-7f92-4263-89ae-83828e123bcd",
        "outputId": "8b068e7b-0693-40eb-f65f-b092576f86a4"
      },
      "source": [
        "X.shape"
      ],
      "id": "55175ac0-7f92-4263-89ae-83828e123bcd",
      "execution_count": 44,
      "outputs": [
        {
          "output_type": "execute_result",
          "data": {
            "text/plain": [
              "TensorShape([1, 5850])"
            ]
          },
          "metadata": {
            "tags": []
          },
          "execution_count": 44
        }
      ]
    },
    {
      "cell_type": "code",
      "metadata": {
        "id": "88ca7633-4da4-4a7d-b699-15c132faf6aa"
      },
      "source": [
        ""
      ],
      "id": "88ca7633-4da4-4a7d-b699-15c132faf6aa",
      "execution_count": null,
      "outputs": []
    },
    {
      "cell_type": "code",
      "metadata": {
        "id": "d8613aae-d38c-4ecd-b990-f57dea05a201"
      },
      "source": [
        ""
      ],
      "id": "d8613aae-d38c-4ecd-b990-f57dea05a201",
      "execution_count": null,
      "outputs": []
    },
    {
      "cell_type": "code",
      "metadata": {
        "id": "33b2d4f9-d968-405f-a18a-bbf4e87504b9"
      },
      "source": [
        "class Autoencoder(Model):\n",
        "    def __init__(self):\n",
        "        super(Autoencoder, self).__init__()\n",
        "        \n",
        "        self.encoder = Sequential([\n",
        "            InputLayer(input_shape = (num_input, )),\n",
        "            Dense(\n",
        "                units = 2925, activation = 'relu',\n",
        "                kernel_initializer = tf.keras.initializers.glorot_normal()\n",
        "            ),\n",
        "            Dense(\n",
        "                units = 1200, activation = 'relu',\n",
        "                kernel_initializer = tf.keras.initializers.glorot_normal()\n",
        "            ),\n",
        "            Dense(\n",
        "                units = 600, activation = 'relu',\n",
        "                kernel_initializer = tf.keras.initializers.glorot_normal()\n",
        "            ),\n",
        "            Dense(\n",
        "                units = 300, activation = 'relu',\n",
        "                kernel_initializer = tf.keras.initializers.glorot_normal()\n",
        "            ),\n",
        "            Dense(\n",
        "                units = 150, activation = 'relu',\n",
        "                kernel_initializer = tf.keras.initializers.glorot_normal()\n",
        "            ),\n",
        "            Dense(\n",
        "                units = 70, activation = 'relu',\n",
        "                kernel_initializer = tf.keras.initializers.glorot_normal()\n",
        "            ),\n",
        "            Dense(\n",
        "                units = 30, activation = 'relu',\n",
        "                kernel_initializer = tf.keras.initializers.glorot_normal()\n",
        "            ),\n",
        "            Dense(\n",
        "                units = 15, activation = 'relu',\n",
        "                kernel_initializer = tf.keras.initializers.glorot_normal()\n",
        "            ),\n",
        "        ])\n",
        "        \n",
        "        self.decoder = Sequential([\n",
        "            Dense(\n",
        "                units = 30, activation = 'relu',\n",
        "                kernel_initializer = tf.keras.initializers.glorot_normal()\n",
        "            ),\n",
        "            Dense(\n",
        "                units = 70, activation = 'relu',\n",
        "                kernel_initializer = tf.keras.initializers.glorot_normal()\n",
        "            ),\n",
        "            Dense(\n",
        "                units = 150, activation = 'relu',\n",
        "                kernel_initializer = tf.keras.initializers.glorot_normal()\n",
        "            ),\n",
        "            Dense(\n",
        "                units = 300, activation = 'relu',\n",
        "                kernel_initializer = tf.keras.initializers.glorot_normal()\n",
        "            ),\n",
        "            Dense(\n",
        "                units = 600, activation = 'relu',\n",
        "                kernel_initializer = tf.keras.initializers.glorot_normal()\n",
        "            ),\n",
        "            Dense(\n",
        "                units = 1200, activation = 'relu',\n",
        "                kernel_initializer = tf.keras.initializers.glorot_normal()\n",
        "            ),\n",
        "            Dense(\n",
        "                units = 2925, activation = 'relu',\n",
        "                kernel_initializer = tf.keras.initializers.glorot_normal()\n",
        "            ),\n",
        "            Dense(\n",
        "                units = num_input, activation = 'sigmoid',\n",
        "                kernel_initializer = tf.keras.initializers.glorot_normal()\n",
        "            )\n",
        "        ]\n",
        "        )\n",
        "        \n",
        "    def call(self, x):\n",
        "        encoded = self.encoder(x)\n",
        "        decoded = self.decoder(encoded)\n",
        "        return decoded\n",
        "    "
      ],
      "id": "33b2d4f9-d968-405f-a18a-bbf4e87504b9",
      "execution_count": 45,
      "outputs": []
    },
    {
      "cell_type": "code",
      "metadata": {
        "id": "a701149e-fd55-47cc-870a-c5d855625d04"
      },
      "source": [
        ""
      ],
      "id": "a701149e-fd55-47cc-870a-c5d855625d04",
      "execution_count": null,
      "outputs": []
    },
    {
      "cell_type": "code",
      "metadata": {
        "id": "ba6b5427-4151-495c-80dd-547e6e4f9efd"
      },
      "source": [
        "# Instantiate an instance of defined autoencoder-\n",
        "model = Autoencoder()"
      ],
      "id": "ba6b5427-4151-495c-80dd-547e6e4f9efd",
      "execution_count": 55,
      "outputs": []
    },
    {
      "cell_type": "code",
      "metadata": {
        "id": "757dc8ed-a00f-4711-b763-aaff4539671a"
      },
      "source": [
        ""
      ],
      "id": "757dc8ed-a00f-4711-b763-aaff4539671a",
      "execution_count": null,
      "outputs": []
    },
    {
      "cell_type": "code",
      "metadata": {
        "id": "f5dd6349-6244-416a-ad90-40c72775bd4b"
      },
      "source": [
        "encoded_X = model.encoder(X)"
      ],
      "id": "f5dd6349-6244-416a-ad90-40c72775bd4b",
      "execution_count": 47,
      "outputs": []
    },
    {
      "cell_type": "code",
      "metadata": {
        "colab": {
          "base_uri": "https://localhost:8080/"
        },
        "id": "a30714da-689e-46ea-a292-66e43ed2aab5",
        "outputId": "ddf416d7-1afc-4090-fb7f-9892efd1dabe"
      },
      "source": [
        "encoded_X.shape"
      ],
      "id": "a30714da-689e-46ea-a292-66e43ed2aab5",
      "execution_count": 48,
      "outputs": [
        {
          "output_type": "execute_result",
          "data": {
            "text/plain": [
              "TensorShape([1, 15])"
            ]
          },
          "metadata": {
            "tags": []
          },
          "execution_count": 48
        }
      ]
    },
    {
      "cell_type": "code",
      "metadata": {
        "id": "bbfbfc88-41a7-47e5-97be-3fd6c4803deb"
      },
      "source": [
        "# Prediction and/or reconstructed output from Autoencoder-\n",
        "decoded_X = model.decoder(encoded_X)"
      ],
      "id": "bbfbfc88-41a7-47e5-97be-3fd6c4803deb",
      "execution_count": 49,
      "outputs": []
    },
    {
      "cell_type": "code",
      "metadata": {
        "colab": {
          "base_uri": "https://localhost:8080/"
        },
        "id": "669f406c-3075-4397-9858-cbf6962c6f84",
        "outputId": "ec5264f7-365a-414d-917b-492fa32b3f25"
      },
      "source": [
        "decoded_X.shape, X.shape"
      ],
      "id": "669f406c-3075-4397-9858-cbf6962c6f84",
      "execution_count": 50,
      "outputs": [
        {
          "output_type": "execute_result",
          "data": {
            "text/plain": [
              "(TensorShape([1, 5850]), TensorShape([1, 5850]))"
            ]
          },
          "metadata": {
            "tags": []
          },
          "execution_count": 50
        }
      ]
    },
    {
      "cell_type": "code",
      "metadata": {
        "id": "ca1a00d1-fd32-4047-a06a-4f3f8f6520ac"
      },
      "source": [
        ""
      ],
      "id": "ca1a00d1-fd32-4047-a06a-4f3f8f6520ac",
      "execution_count": null,
      "outputs": []
    },
    {
      "cell_type": "code",
      "metadata": {
        "id": "f876b707-3719-4a38-9f98-19a647dc1f38"
      },
      "source": [
        "# Compile Autoencoder-\n",
        "model.compile(\n",
        "    loss = tf.keras.losses.MeanSquaredError(),\n",
        "    optimizer = tf.keras.optimizers.Adam(learning_rate = 0.001)\n",
        ")"
      ],
      "id": "f876b707-3719-4a38-9f98-19a647dc1f38",
      "execution_count": 56,
      "outputs": []
    },
    {
      "cell_type": "code",
      "metadata": {
        "id": "dd333bef-f62b-4647-aeb2-8202f7788864"
      },
      "source": [
        ""
      ],
      "id": "dd333bef-f62b-4647-aeb2-8202f7788864",
      "execution_count": 51,
      "outputs": []
    },
    {
      "cell_type": "code",
      "metadata": {
        "id": "tU0xY1zUr5Df"
      },
      "source": [
        "# Define early stopping criterion-\n",
        "early_stopping = tf.keras.callbacks.EarlyStopping(\n",
        "    monitor = 'loss', min_delta = 0.001,\n",
        "    patience = 3, restore_best_weights = True\n",
        ")"
      ],
      "id": "tU0xY1zUr5Df",
      "execution_count": 57,
      "outputs": []
    },
    {
      "cell_type": "code",
      "metadata": {
        "id": "5QChiqNDsA_4"
      },
      "source": [
        ""
      ],
      "id": "5QChiqNDsA_4",
      "execution_count": null,
      "outputs": []
    },
    {
      "cell_type": "code",
      "metadata": {
        "colab": {
          "base_uri": "https://localhost:8080/"
        },
        "id": "b530095e-a182-4319-97db-c2cb8221e04c",
        "outputId": "e7f52a08-ce63-4736-a443-6dc7d50ebe12"
      },
      "source": [
        "# Train autoencoder-\n",
        "history = model.fit(\n",
        "    x = user_book_matrix, y = user_book_matrix,\n",
        "    batch_size = 32, epochs = 10,\n",
        "    callbacks = [early_stopping] \n",
        ")"
      ],
      "id": "b530095e-a182-4319-97db-c2cb8221e04c",
      "execution_count": 58,
      "outputs": [
        {
          "output_type": "stream",
          "text": [
            "Epoch 1/10\n",
            "100/100 [==============================] - 2s 14ms/step - loss: 0.0295\n",
            "Epoch 2/10\n",
            "100/100 [==============================] - 1s 14ms/step - loss: 0.0027\n",
            "Epoch 3/10\n",
            "100/100 [==============================] - 1s 14ms/step - loss: 0.0027\n",
            "Epoch 4/10\n",
            "100/100 [==============================] - 1s 14ms/step - loss: 0.0027\n",
            "Epoch 5/10\n",
            "100/100 [==============================] - 1s 14ms/step - loss: 0.0027\n"
          ],
          "name": "stdout"
        }
      ]
    },
    {
      "cell_type": "code",
      "metadata": {
        "id": "17fd0b21-042b-4727-b817-96f6580730ef"
      },
      "source": [
        ""
      ],
      "id": "17fd0b21-042b-4727-b817-96f6580730ef",
      "execution_count": null,
      "outputs": []
    },
    {
      "cell_type": "code",
      "metadata": {
        "colab": {
          "base_uri": "https://localhost:8080/"
        },
        "id": "d9471352-e841-4b70-a2d8-c5cbba47d857",
        "outputId": "6755f7b7-f83e-4875-85a9-7d31e95cf8d6"
      },
      "source": [
        "# Get summary of defined autoencoder-\n",
        "model.summary()"
      ],
      "id": "d9471352-e841-4b70-a2d8-c5cbba47d857",
      "execution_count": 59,
      "outputs": [
        {
          "output_type": "stream",
          "text": [
            "Model: \"autoencoder_1\"\n",
            "_________________________________________________________________\n",
            "Layer (type)                 Output Shape              Param #   \n",
            "=================================================================\n",
            "sequential_2 (Sequential)    (None, 15)                21584590  \n",
            "_________________________________________________________________\n",
            "sequential_3 (Sequential)    (None, 5850)              21590425  \n",
            "=================================================================\n",
            "Total params: 43,175,015\n",
            "Trainable params: 43,175,015\n",
            "Non-trainable params: 0\n",
            "_________________________________________________________________\n"
          ],
          "name": "stdout"
        }
      ]
    },
    {
      "cell_type": "code",
      "metadata": {
        "id": "e2981c7c-984b-4d87-900f-d796c77e25da"
      },
      "source": [
        ""
      ],
      "id": "e2981c7c-984b-4d87-900f-d796c77e25da",
      "execution_count": null,
      "outputs": []
    },
    {
      "cell_type": "code",
      "metadata": {
        "colab": {
          "base_uri": "https://localhost:8080/"
        },
        "id": "ccba2b3d-cb81-4e43-9bc6-6a2b0bce091b",
        "outputId": "d5535570-6a2a-414c-e553-8335d842b3e7"
      },
      "source": [
        "tot_params = 0\n",
        "\n",
        "for layer in model.trainable_weights:\n",
        "    loc_param = tf.math.count_nonzero(layer, axis = None).numpy()\n",
        "    tot_params += loc_param\n",
        "    print(f\"layer.shape: {layer.shape} has {loc_param} weights\")"
      ],
      "id": "ccba2b3d-cb81-4e43-9bc6-6a2b0bce091b",
      "execution_count": 60,
      "outputs": [
        {
          "output_type": "stream",
          "text": [
            "layer.shape: (5850, 2925) has 17111248 weights\n",
            "layer.shape: (2925,) has 2925 weights\n",
            "layer.shape: (2925, 1200) has 3510000 weights\n",
            "layer.shape: (1200,) has 1200 weights\n",
            "layer.shape: (1200, 600) has 720000 weights\n",
            "layer.shape: (600,) has 600 weights\n",
            "layer.shape: (600, 300) has 180000 weights\n",
            "layer.shape: (300,) has 295 weights\n",
            "layer.shape: (300, 150) has 45000 weights\n",
            "layer.shape: (150,) has 144 weights\n",
            "layer.shape: (150, 70) has 10500 weights\n",
            "layer.shape: (70,) has 62 weights\n",
            "layer.shape: (70, 30) has 2100 weights\n",
            "layer.shape: (30,) has 22 weights\n",
            "layer.shape: (30, 15) has 450 weights\n",
            "layer.shape: (15,) has 13 weights\n",
            "layer.shape: (15, 30) has 450 weights\n",
            "layer.shape: (30,) has 24 weights\n",
            "layer.shape: (30, 70) has 2100 weights\n",
            "layer.shape: (70,) has 53 weights\n",
            "layer.shape: (70, 150) has 10500 weights\n",
            "layer.shape: (150,) has 122 weights\n",
            "layer.shape: (150, 300) has 45000 weights\n",
            "layer.shape: (300,) has 234 weights\n",
            "layer.shape: (300, 600) has 180000 weights\n",
            "layer.shape: (600,) has 475 weights\n",
            "layer.shape: (600, 1200) has 720000 weights\n",
            "layer.shape: (1200,) has 945 weights\n",
            "layer.shape: (1200, 2925) has 3510000 weights\n",
            "layer.shape: (2925,) has 2340 weights\n",
            "layer.shape: (2925, 5850) has 17111250 weights\n",
            "layer.shape: (5850,) has 5850 weights\n"
          ],
          "name": "stdout"
        }
      ]
    },
    {
      "cell_type": "code",
      "metadata": {
        "colab": {
          "base_uri": "https://localhost:8080/"
        },
        "id": "34c79551-c2fe-4c98-ace2-70e83ac4f3f3",
        "outputId": "8381a480-0887-4fc7-97fd-3d6761e1f715"
      },
      "source": [
        "print(f\"Total number of trainable parameters = {tot_params}\")"
      ],
      "id": "34c79551-c2fe-4c98-ace2-70e83ac4f3f3",
      "execution_count": 61,
      "outputs": [
        {
          "output_type": "stream",
          "text": [
            "Total number of trainable parameters = 43173902\n"
          ],
          "name": "stdout"
        }
      ]
    },
    {
      "cell_type": "code",
      "metadata": {
        "id": "f03846e4-7d47-4a0f-94e0-daa51aab187f"
      },
      "source": [
        ""
      ],
      "id": "f03846e4-7d47-4a0f-94e0-daa51aab187f",
      "execution_count": null,
      "outputs": []
    },
    {
      "cell_type": "code",
      "metadata": {
        "id": "582de9cc-975a-4077-aa42-ceedcb2a1156"
      },
      "source": [
        ""
      ],
      "id": "582de9cc-975a-4077-aa42-ceedcb2a1156",
      "execution_count": null,
      "outputs": []
    },
    {
      "cell_type": "code",
      "metadata": {
        "id": "9427bd8e-085a-4949-9f94-d7447c49ac1a"
      },
      "source": [
        "pred_data = pd.DataFrame()"
      ],
      "id": "9427bd8e-085a-4949-9f94-d7447c49ac1a",
      "execution_count": 62,
      "outputs": []
    },
    {
      "cell_type": "code",
      "metadata": {
        "id": "aQUlNffQsfNr"
      },
      "source": [
        "batch_size = 32"
      ],
      "id": "aQUlNffQsfNr",
      "execution_count": 63,
      "outputs": []
    },
    {
      "cell_type": "code",
      "metadata": {
        "id": "BqtuU_IftBEE"
      },
      "source": [
        "num_batches = int(user_book_matrix.shape[0] / batch_size)    "
      ],
      "id": "BqtuU_IftBEE",
      "execution_count": 64,
      "outputs": []
    },
    {
      "cell_type": "code",
      "metadata": {
        "colab": {
          "base_uri": "https://localhost:8080/"
        },
        "id": "jwLnqhQItFPo",
        "outputId": "27f0a9cc-0f2a-42ff-d25e-7b60bc40a684"
      },
      "source": [
        "num_batches"
      ],
      "id": "jwLnqhQItFPo",
      "execution_count": 65,
      "outputs": [
        {
          "output_type": "execute_result",
          "data": {
            "text/plain": [
              "99"
            ]
          },
          "metadata": {
            "tags": []
          },
          "execution_count": 65
        }
      ]
    },
    {
      "cell_type": "code",
      "metadata": {
        "id": "WtmCbcxxtGOv"
      },
      "source": [
        ""
      ],
      "id": "WtmCbcxxtGOv",
      "execution_count": 65,
      "outputs": []
    },
    {
      "cell_type": "code",
      "metadata": {
        "colab": {
          "base_uri": "https://localhost:8080/"
        },
        "id": "rAPydPCEtHvA",
        "outputId": "167d2ad1-8dd6-4e6b-f207-0f89ccae5366"
      },
      "source": [
        "user_book_matrix.shape"
      ],
      "id": "rAPydPCEtHvA",
      "execution_count": 66,
      "outputs": [
        {
          "output_type": "execute_result",
          "data": {
            "text/plain": [
              "(3192, 5850)"
            ]
          },
          "metadata": {
            "tags": []
          },
          "execution_count": 66
        }
      ]
    },
    {
      "cell_type": "code",
      "metadata": {
        "id": "ko5txVlutGqJ"
      },
      "source": [
        "# Split into batches-\n",
        "user_book_matrix_split = np.array_split(user_book_matrix, num_batches)"
      ],
      "id": "ko5txVlutGqJ",
      "execution_count": 67,
      "outputs": []
    },
    {
      "cell_type": "code",
      "metadata": {
        "colab": {
          "base_uri": "https://localhost:8080/"
        },
        "id": "t9ugS6MUtMna",
        "outputId": "0a363cd8-f4ba-4ad3-f1a7-a14b7c9f3a41"
      },
      "source": [
        "len(user_book_matrix_split), type(user_book_matrix_split)"
      ],
      "id": "t9ugS6MUtMna",
      "execution_count": 70,
      "outputs": [
        {
          "output_type": "execute_result",
          "data": {
            "text/plain": [
              "(99, list)"
            ]
          },
          "metadata": {
            "tags": []
          },
          "execution_count": 70
        }
      ]
    },
    {
      "cell_type": "code",
      "metadata": {
        "colab": {
          "base_uri": "https://localhost:8080/"
        },
        "id": "mucDkGagtTvh",
        "outputId": "e42414f9-cfc0-4909-b711-2b1e3c799360"
      },
      "source": [
        "# Sanity check-\n",
        "\n",
        "i = 0\n",
        "for batch in user_book_matrix_split:\n",
        "    if i >= 5:\n",
        "        break\n",
        "        \n",
        "    print(batch.shape)\n",
        "    i += 1\n"
      ],
      "id": "mucDkGagtTvh",
      "execution_count": 72,
      "outputs": [
        {
          "output_type": "stream",
          "text": [
            "(33, 5850)\n",
            "(33, 5850)\n",
            "(33, 5850)\n",
            "(33, 5850)\n",
            "(33, 5850)\n"
          ],
          "name": "stdout"
        }
      ]
    },
    {
      "cell_type": "code",
      "metadata": {
        "id": "FZ73YI8bteWi"
      },
      "source": [
        ""
      ],
      "id": "FZ73YI8bteWi",
      "execution_count": null,
      "outputs": []
    },
    {
      "cell_type": "code",
      "metadata": {
        "id": "dsyN3OKFtXwO"
      },
      "source": [
        "user_book_matrix_concat = np.concatenate(user_book_matrix_split, axis=0)"
      ],
      "id": "dsyN3OKFtXwO",
      "execution_count": 73,
      "outputs": []
    },
    {
      "cell_type": "code",
      "metadata": {
        "colab": {
          "base_uri": "https://localhost:8080/"
        },
        "id": "exOCqa-Btt5i",
        "outputId": "ac558a34-d541-40b9-9bf3-c3408589f93a"
      },
      "source": [
        "user_book_matrix_concat.shape, user_book_matrix.shape"
      ],
      "id": "exOCqa-Btt5i",
      "execution_count": 74,
      "outputs": [
        {
          "output_type": "execute_result",
          "data": {
            "text/plain": [
              "((3192, 5850), (3192, 5850))"
            ]
          },
          "metadata": {
            "tags": []
          },
          "execution_count": 74
        }
      ]
    },
    {
      "cell_type": "code",
      "metadata": {
        "id": "eji0-41Ttw9f"
      },
      "source": [
        ""
      ],
      "id": "eji0-41Ttw9f",
      "execution_count": 74,
      "outputs": []
    },
    {
      "cell_type": "code",
      "metadata": {
        "id": "eQyMuheBtyeJ"
      },
      "source": [
        "predictions = model(user_book_matrix)"
      ],
      "id": "eQyMuheBtyeJ",
      "execution_count": 76,
      "outputs": []
    },
    {
      "cell_type": "code",
      "metadata": {
        "colab": {
          "base_uri": "https://localhost:8080/"
        },
        "id": "XOAgI3Qst3-B",
        "outputId": "351a7fda-139e-46d4-acce-823104fdf07e"
      },
      "source": [
        "predictions.shape"
      ],
      "id": "XOAgI3Qst3-B",
      "execution_count": 77,
      "outputs": [
        {
          "output_type": "execute_result",
          "data": {
            "text/plain": [
              "TensorShape([3192, 5850])"
            ]
          },
          "metadata": {
            "tags": []
          },
          "execution_count": 77
        }
      ]
    },
    {
      "cell_type": "code",
      "metadata": {
        "id": "7PJey5efuIWU"
      },
      "source": [
        "pred_data = pred_data.append(pd.DataFrame(predictions))"
      ],
      "id": "7PJey5efuIWU",
      "execution_count": null,
      "outputs": []
    },
    {
      "cell_type": "code",
      "metadata": {
        "id": "lk1AZoaUuY8b"
      },
      "source": [
        "pred_data.shape"
      ],
      "id": "lk1AZoaUuY8b",
      "execution_count": null,
      "outputs": []
    },
    {
      "cell_type": "code",
      "metadata": {
        "id": "q8f01mGV0dcA"
      },
      "source": [
        ""
      ],
      "id": "q8f01mGV0dcA",
      "execution_count": null,
      "outputs": []
    },
    {
      "cell_type": "code",
      "metadata": {
        "id": "03tQpj_utxe5"
      },
      "source": [
        "pred_data = pred_data.stack().reset_index(name = 'Book-Rating')\n",
        "pred_data.columns = ['User-ID', 'Book-Title', 'Book-Rating']\n",
        "pred_data['User-ID'] = pred_data['User-ID'].map(lambda value: users[value])\n",
        "pred_data['Book-Title'] = pred_data['Book-Title'].map(lambda value: books[value])"
      ],
      "id": "03tQpj_utxe5",
      "execution_count": null,
      "outputs": []
    },
    {
      "cell_type": "code",
      "metadata": {
        "id": "YWhRrC3gtRCD"
      },
      "source": [
        "keys = ['User-ID', 'Book-Title']\n",
        "index_1 = pred_data.set_index(keys).index\n",
        "index_2 = combined.set_index(keys).index\n",
        "\n",
        "top_ten_ranked = pred_data[~index_1.isin(index_2)]\n",
        "top_ten_ranked = top_ten_ranked.sort_values(['User-ID', 'Book-Rating'], ascending=[True, False])\n",
        "top_ten_ranked = top_ten_ranked.groupby('User-ID').head(10)"
      ],
      "id": "YWhRrC3gtRCD",
      "execution_count": null,
      "outputs": []
    },
    {
      "cell_type": "code",
      "metadata": {
        "id": "ieUVv3AxtOSo"
      },
      "source": [
        ""
      ],
      "id": "ieUVv3AxtOSo",
      "execution_count": null,
      "outputs": []
    },
    {
      "cell_type": "code",
      "metadata": {
        "id": "wCkOG7COultg"
      },
      "source": [
        "# Get book recommendations for a randomly selected user.\n",
        "# top 10 results for this user, sorted by the normalized predicted ratings-\n",
        "top_ten_ranked.loc[top_ten_ranked['User-ID'] == 278582]"
      ],
      "id": "wCkOG7COultg",
      "execution_count": null,
      "outputs": []
    },
    {
      "cell_type": "code",
      "metadata": {
        "id": "AKfV_uU1uqKY"
      },
      "source": [
        ""
      ],
      "id": "AKfV_uU1uqKY",
      "execution_count": null,
      "outputs": []
    },
    {
      "cell_type": "code",
      "metadata": {
        "id": "f4pbPuz7uqNt"
      },
      "source": [
        "# Get books he (or she) has rated, sorted by ratings-\n",
        "book_rating.loc[book_rating['User-ID'] == 278582].sort_values(\n",
        "    by = ['Book-Rating'],\n",
        "    ascending = False)\n"
      ],
      "id": "f4pbPuz7uqNt",
      "execution_count": null,
      "outputs": []
    },
    {
      "cell_type": "code",
      "metadata": {
        "id": "stixkwtmu7sj"
      },
      "source": [
        ""
      ],
      "id": "stixkwtmu7sj",
      "execution_count": null,
      "outputs": []
    }
  ]
}