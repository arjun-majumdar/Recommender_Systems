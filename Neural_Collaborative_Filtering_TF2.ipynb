{
 "cells": [
  {
   "cell_type": "markdown",
   "id": "1ec8768c-6774-4aa6-9026-1a9cb094054d",
   "metadata": {},
   "source": [
    "# Neural Collaborative Filter - TensorFlow2\n",
    "\n",
    "This code example demonstrates [Collaborative filtering](https://en.wikipedia.org/wiki/Collaborative_filtering) using the [Movielens dataset](https://www.kaggle.com/c/movielens-100k) to recommend movies to users. The MovieLens ratings dataset lists the ratings given by a set of users to a set of movies. Our goal is to be able to predict ratings for movies a user has not yet watched. The movies with the highest predicted ratings can then be recommended to the user.\n",
    "\n",
    "The steps in the model are as follows:\n",
    "\n",
    "1. Map user ID to a _user vector_ via an embedding matrix\n",
    "2. Map movie ID to a _movie vector_ via an embedding matrix\n",
    "3. Compute the dot product between the user vector and movie vector, to obtain the a match score between the user and the movie (predicted rating).\n",
    "4. Train the embeddings via gradient descent using all known user-movie pairs.\n",
    "\n",
    "\n",
    "[Refer](https://keras.io/examples/structured_data/collaborative_filtering_movielens/)"
   ]
  },
  {
   "cell_type": "code",
   "execution_count": 48,
   "id": "a68babfa-1609-46ab-88d2-e53ea71af20e",
   "metadata": {},
   "outputs": [],
   "source": [
    "import tensorflow as tf\n",
    "import tensorflow\n",
    "from tensorflow import keras\n",
    "from tensorflow.keras import Model\n",
    "from tensorflow.keras import layers\n",
    "from tensorflow.keras.layers import Dense, Embedding\n",
    "\n",
    "\n",
    "import pandas as pd\n",
    "import os\n",
    "from zipfile import ZipFile\n",
    "from pathlib import Path\n",
    "import numpy as np\n",
    "import matplotlib.pyplot as plt\n",
    "import seaborn as sns"
   ]
  },
  {
   "cell_type": "code",
   "execution_count": null,
   "id": "2cb07e6d-a37d-411c-92c3-808bcf49e8dd",
   "metadata": {},
   "outputs": [],
   "source": []
  },
  {
   "cell_type": "code",
   "execution_count": 3,
   "id": "c45d2a74-244b-425b-84b9-fa7c54a0a7bc",
   "metadata": {},
   "outputs": [
    {
     "name": "stdout",
     "output_type": "stream",
     "text": [
      "TensorFlow version: 2.3.0\n"
     ]
    }
   ],
   "source": [
    "print(f\"TensorFlow version: {tf.__version__}\")"
   ]
  },
  {
   "cell_type": "code",
   "execution_count": null,
   "id": "42d1ca2a-1b5b-4a10-aa11-d3c1a37dad91",
   "metadata": {},
   "outputs": [],
   "source": []
  },
  {
   "cell_type": "code",
   "execution_count": null,
   "id": "f651f82e-a1a2-4b41-9e96-80e0de958de3",
   "metadata": {},
   "outputs": [],
   "source": []
  },
  {
   "cell_type": "code",
   "execution_count": 7,
   "id": "25dbc44c-f8ab-4f91-aaa5-79ac91b4886f",
   "metadata": {},
   "outputs": [],
   "source": [
    "# Use 'rarings.csv' file-\n",
    "data_ratings = pd.read_csv(\"ml-latest-small/ratings.csv\")"
   ]
  },
  {
   "cell_type": "code",
   "execution_count": 8,
   "id": "bb0ff4ad-cf92-438c-8537-df3c73941426",
   "metadata": {},
   "outputs": [
    {
     "data": {
      "text/plain": [
       "(100836, 4)"
      ]
     },
     "execution_count": 8,
     "metadata": {},
     "output_type": "execute_result"
    }
   ],
   "source": [
    "data_ratings.shape"
   ]
  },
  {
   "cell_type": "code",
   "execution_count": 9,
   "id": "eec80b5e-16b8-4483-ad26-84f66c2d979f",
   "metadata": {},
   "outputs": [
    {
     "data": {
      "text/plain": [
       "False"
      ]
     },
     "execution_count": 9,
     "metadata": {},
     "output_type": "execute_result"
    }
   ],
   "source": [
    "data_ratings.isna().values.any()"
   ]
  },
  {
   "cell_type": "code",
   "execution_count": 10,
   "id": "7874c3b6-bd5e-4640-b9f8-5fab9245f129",
   "metadata": {},
   "outputs": [
    {
     "data": {
      "text/plain": [
       "0"
      ]
     },
     "execution_count": 10,
     "metadata": {},
     "output_type": "execute_result"
    }
   ],
   "source": [
    "data_ratings.isna().sum().sum()"
   ]
  },
  {
   "cell_type": "code",
   "execution_count": null,
   "id": "de6e2306-60c5-495e-bbf2-c965eb4f27d5",
   "metadata": {},
   "outputs": [],
   "source": []
  },
  {
   "cell_type": "code",
   "execution_count": 11,
   "id": "d532bf17-e4b8-458d-9dde-e14d0aea54ab",
   "metadata": {},
   "outputs": [
    {
     "name": "stdout",
     "output_type": "stream",
     "text": [
      "<class 'pandas.core.frame.DataFrame'>\n",
      "RangeIndex: 100836 entries, 0 to 100835\n",
      "Data columns (total 4 columns):\n",
      " #   Column     Non-Null Count   Dtype  \n",
      "---  ------     --------------   -----  \n",
      " 0   userId     100836 non-null  int64  \n",
      " 1   movieId    100836 non-null  int64  \n",
      " 2   rating     100836 non-null  float64\n",
      " 3   timestamp  100836 non-null  int64  \n",
      "dtypes: float64(1), int64(3)\n",
      "memory usage: 3.1 MB\n"
     ]
    }
   ],
   "source": [
    "data_ratings.info()"
   ]
  },
  {
   "cell_type": "code",
   "execution_count": 12,
   "id": "afd2e70d-f118-4642-ad05-81a48aaad3a0",
   "metadata": {},
   "outputs": [
    {
     "data": {
      "text/html": [
       "<div>\n",
       "<style scoped>\n",
       "    .dataframe tbody tr th:only-of-type {\n",
       "        vertical-align: middle;\n",
       "    }\n",
       "\n",
       "    .dataframe tbody tr th {\n",
       "        vertical-align: top;\n",
       "    }\n",
       "\n",
       "    .dataframe thead th {\n",
       "        text-align: right;\n",
       "    }\n",
       "</style>\n",
       "<table border=\"1\" class=\"dataframe\">\n",
       "  <thead>\n",
       "    <tr style=\"text-align: right;\">\n",
       "      <th></th>\n",
       "      <th>userId</th>\n",
       "      <th>movieId</th>\n",
       "      <th>rating</th>\n",
       "      <th>timestamp</th>\n",
       "    </tr>\n",
       "  </thead>\n",
       "  <tbody>\n",
       "    <tr>\n",
       "      <th>0</th>\n",
       "      <td>1</td>\n",
       "      <td>1</td>\n",
       "      <td>4.0</td>\n",
       "      <td>964982703</td>\n",
       "    </tr>\n",
       "    <tr>\n",
       "      <th>1</th>\n",
       "      <td>1</td>\n",
       "      <td>3</td>\n",
       "      <td>4.0</td>\n",
       "      <td>964981247</td>\n",
       "    </tr>\n",
       "    <tr>\n",
       "      <th>2</th>\n",
       "      <td>1</td>\n",
       "      <td>6</td>\n",
       "      <td>4.0</td>\n",
       "      <td>964982224</td>\n",
       "    </tr>\n",
       "    <tr>\n",
       "      <th>3</th>\n",
       "      <td>1</td>\n",
       "      <td>47</td>\n",
       "      <td>5.0</td>\n",
       "      <td>964983815</td>\n",
       "    </tr>\n",
       "    <tr>\n",
       "      <th>4</th>\n",
       "      <td>1</td>\n",
       "      <td>50</td>\n",
       "      <td>5.0</td>\n",
       "      <td>964982931</td>\n",
       "    </tr>\n",
       "  </tbody>\n",
       "</table>\n",
       "</div>"
      ],
      "text/plain": [
       "   userId  movieId  rating  timestamp\n",
       "0       1        1     4.0  964982703\n",
       "1       1        3     4.0  964981247\n",
       "2       1        6     4.0  964982224\n",
       "3       1       47     5.0  964983815\n",
       "4       1       50     5.0  964982931"
      ]
     },
     "execution_count": 12,
     "metadata": {},
     "output_type": "execute_result"
    }
   ],
   "source": [
    "data_ratings.head()"
   ]
  },
  {
   "cell_type": "code",
   "execution_count": null,
   "id": "0821072a-a4fd-4b29-bfb2-ffa35881d2b0",
   "metadata": {},
   "outputs": [],
   "source": []
  },
  {
   "cell_type": "code",
   "execution_count": 13,
   "id": "720dfc1a-2af7-43e2-91a6-d74d14a8969d",
   "metadata": {},
   "outputs": [],
   "source": [
    "data_ratings['timestamp'] = pd.to_datetime(data_ratings['timestamp'])"
   ]
  },
  {
   "cell_type": "code",
   "execution_count": 15,
   "id": "026fb355-a79c-449e-81f9-5653b215c80a",
   "metadata": {},
   "outputs": [],
   "source": [
    "data_ratings.sort_values(by = 'timestamp', ascending = True, inplace = True)"
   ]
  },
  {
   "cell_type": "code",
   "execution_count": 16,
   "id": "6084f96d-ec36-4298-95fb-7942e312b9d6",
   "metadata": {},
   "outputs": [],
   "source": [
    "data_ratings.reset_index(drop = True, inplace = True)"
   ]
  },
  {
   "cell_type": "code",
   "execution_count": 17,
   "id": "a731bad6-3fdd-4c5f-b5ab-e706141adb17",
   "metadata": {},
   "outputs": [
    {
     "data": {
      "text/html": [
       "<div>\n",
       "<style scoped>\n",
       "    .dataframe tbody tr th:only-of-type {\n",
       "        vertical-align: middle;\n",
       "    }\n",
       "\n",
       "    .dataframe tbody tr th {\n",
       "        vertical-align: top;\n",
       "    }\n",
       "\n",
       "    .dataframe thead th {\n",
       "        text-align: right;\n",
       "    }\n",
       "</style>\n",
       "<table border=\"1\" class=\"dataframe\">\n",
       "  <thead>\n",
       "    <tr style=\"text-align: right;\">\n",
       "      <th></th>\n",
       "      <th>userId</th>\n",
       "      <th>movieId</th>\n",
       "      <th>rating</th>\n",
       "      <th>timestamp</th>\n",
       "    </tr>\n",
       "  </thead>\n",
       "  <tbody>\n",
       "    <tr>\n",
       "      <th>0</th>\n",
       "      <td>429</td>\n",
       "      <td>595</td>\n",
       "      <td>5.0</td>\n",
       "      <td>1970-01-01 00:00:00.828124615</td>\n",
       "    </tr>\n",
       "    <tr>\n",
       "      <th>1</th>\n",
       "      <td>429</td>\n",
       "      <td>588</td>\n",
       "      <td>5.0</td>\n",
       "      <td>1970-01-01 00:00:00.828124615</td>\n",
       "    </tr>\n",
       "    <tr>\n",
       "      <th>2</th>\n",
       "      <td>429</td>\n",
       "      <td>590</td>\n",
       "      <td>5.0</td>\n",
       "      <td>1970-01-01 00:00:00.828124615</td>\n",
       "    </tr>\n",
       "    <tr>\n",
       "      <th>3</th>\n",
       "      <td>429</td>\n",
       "      <td>592</td>\n",
       "      <td>5.0</td>\n",
       "      <td>1970-01-01 00:00:00.828124615</td>\n",
       "    </tr>\n",
       "    <tr>\n",
       "      <th>4</th>\n",
       "      <td>429</td>\n",
       "      <td>432</td>\n",
       "      <td>3.0</td>\n",
       "      <td>1970-01-01 00:00:00.828124615</td>\n",
       "    </tr>\n",
       "  </tbody>\n",
       "</table>\n",
       "</div>"
      ],
      "text/plain": [
       "   userId  movieId  rating                     timestamp\n",
       "0     429      595     5.0 1970-01-01 00:00:00.828124615\n",
       "1     429      588     5.0 1970-01-01 00:00:00.828124615\n",
       "2     429      590     5.0 1970-01-01 00:00:00.828124615\n",
       "3     429      592     5.0 1970-01-01 00:00:00.828124615\n",
       "4     429      432     3.0 1970-01-01 00:00:00.828124615"
      ]
     },
     "execution_count": 17,
     "metadata": {},
     "output_type": "execute_result"
    }
   ],
   "source": [
    "data_ratings.head()"
   ]
  },
  {
   "cell_type": "code",
   "execution_count": null,
   "id": "48605280-8446-453c-a18b-3cfda6dc9abe",
   "metadata": {},
   "outputs": [],
   "source": []
  },
  {
   "cell_type": "code",
   "execution_count": null,
   "id": "562b084e-36cd-472f-adef-61926094138b",
   "metadata": {},
   "outputs": [],
   "source": []
  },
  {
   "cell_type": "markdown",
   "id": "a64999f7-e2e8-498b-bf0e-b42f8159ecb5",
   "metadata": {},
   "source": [
    "## Preprocess data to encode users and movies as integer incdices:"
   ]
  },
  {
   "cell_type": "code",
   "execution_count": 19,
   "id": "7f443921-2c59-47e3-b55b-0b3297d623cf",
   "metadata": {},
   "outputs": [],
   "source": [
    "user_ids = data_ratings[\"userId\"].unique().tolist()"
   ]
  },
  {
   "cell_type": "code",
   "execution_count": 21,
   "id": "b4259eed-9129-4899-b05b-10a9e602d8a9",
   "metadata": {},
   "outputs": [
    {
     "name": "stdout",
     "output_type": "stream",
     "text": [
      "number of users in dataset = 610\n"
     ]
    }
   ],
   "source": [
    "print(f\"number of users in dataset = {len(user_ids)}\")"
   ]
  },
  {
   "cell_type": "code",
   "execution_count": 22,
   "id": "cd29cde3-ab7a-4265-93a7-ad156f6ca642",
   "metadata": {},
   "outputs": [],
   "source": [
    "# Create Python3 dicts where index is int and value is user ids-\n",
    "user2user_encoded = {x: i for i, x in enumerate(user_ids)}\n",
    "userencoded2user = {i: x for i, x in enumerate(user_ids)}"
   ]
  },
  {
   "cell_type": "code",
   "execution_count": 23,
   "id": "0aeecaad-1de2-4b2b-89b5-dacd71f1066b",
   "metadata": {},
   "outputs": [
    {
     "data": {
      "text/plain": [
       "(dict, dict)"
      ]
     },
     "execution_count": 23,
     "metadata": {},
     "output_type": "execute_result"
    }
   ],
   "source": [
    "type(user2user_encoded), type(userencoded2user)"
   ]
  },
  {
   "cell_type": "code",
   "execution_count": 26,
   "id": "db784a2f-37a5-4500-bba9-a50603be0915",
   "metadata": {},
   "outputs": [
    {
     "data": {
      "text/plain": [
       "(519, 145)"
      ]
     },
     "execution_count": 26,
     "metadata": {},
     "output_type": "execute_result"
    }
   ],
   "source": [
    "# Sanity check-\n",
    "user2user_encoded[10], userencoded2user[10]"
   ]
  },
  {
   "cell_type": "code",
   "execution_count": null,
   "id": "04cbc90a-416b-42b5-af94-73233b0f80cf",
   "metadata": {},
   "outputs": [],
   "source": []
  },
  {
   "cell_type": "code",
   "execution_count": 28,
   "id": "778f8972-a5c0-4399-8969-b0c5ba42ce3c",
   "metadata": {},
   "outputs": [],
   "source": [
    "movie_ids = data_ratings[\"movieId\"].unique().tolist()"
   ]
  },
  {
   "cell_type": "code",
   "execution_count": 29,
   "id": "4a6f97b3-c26f-4dcb-af29-5accbfc06ee8",
   "metadata": {},
   "outputs": [
    {
     "name": "stdout",
     "output_type": "stream",
     "text": [
      "number of movies in dataset = 9724\n"
     ]
    }
   ],
   "source": [
    "print(f\"number of movies in dataset = {len(movie_ids)}\")"
   ]
  },
  {
   "cell_type": "code",
   "execution_count": 30,
   "id": "4926c03b-8d3e-4974-9468-dc2110fa6e1e",
   "metadata": {},
   "outputs": [],
   "source": [
    "# Create Python3 dicts where index is int and value is movie ids-\n",
    "movie2movie_encoded = {x: i for i, x in enumerate(movie_ids)}\n",
    "movie_encoded2movie = {i: x for i, x in enumerate(movie_ids)}"
   ]
  },
  {
   "cell_type": "code",
   "execution_count": 31,
   "id": "7030bf28-e5e5-46d2-b5b5-8054b6af3fa0",
   "metadata": {},
   "outputs": [
    {
     "data": {
      "text/plain": [
       "(141, 266)"
      ]
     },
     "execution_count": 31,
     "metadata": {},
     "output_type": "execute_result"
    }
   ],
   "source": [
    "movie2movie_encoded[23], movie_encoded2movie[23]"
   ]
  },
  {
   "cell_type": "code",
   "execution_count": 32,
   "id": "6bfefb54-3183-43e7-bc4f-c56eb5f0d158",
   "metadata": {},
   "outputs": [
    {
     "data": {
      "text/html": [
       "<div>\n",
       "<style scoped>\n",
       "    .dataframe tbody tr th:only-of-type {\n",
       "        vertical-align: middle;\n",
       "    }\n",
       "\n",
       "    .dataframe tbody tr th {\n",
       "        vertical-align: top;\n",
       "    }\n",
       "\n",
       "    .dataframe thead th {\n",
       "        text-align: right;\n",
       "    }\n",
       "</style>\n",
       "<table border=\"1\" class=\"dataframe\">\n",
       "  <thead>\n",
       "    <tr style=\"text-align: right;\">\n",
       "      <th></th>\n",
       "      <th>userId</th>\n",
       "      <th>movieId</th>\n",
       "      <th>rating</th>\n",
       "      <th>timestamp</th>\n",
       "    </tr>\n",
       "  </thead>\n",
       "  <tbody>\n",
       "    <tr>\n",
       "      <th>0</th>\n",
       "      <td>429</td>\n",
       "      <td>595</td>\n",
       "      <td>5.0</td>\n",
       "      <td>1970-01-01 00:00:00.828124615</td>\n",
       "    </tr>\n",
       "    <tr>\n",
       "      <th>1</th>\n",
       "      <td>429</td>\n",
       "      <td>588</td>\n",
       "      <td>5.0</td>\n",
       "      <td>1970-01-01 00:00:00.828124615</td>\n",
       "    </tr>\n",
       "    <tr>\n",
       "      <th>2</th>\n",
       "      <td>429</td>\n",
       "      <td>590</td>\n",
       "      <td>5.0</td>\n",
       "      <td>1970-01-01 00:00:00.828124615</td>\n",
       "    </tr>\n",
       "    <tr>\n",
       "      <th>3</th>\n",
       "      <td>429</td>\n",
       "      <td>592</td>\n",
       "      <td>5.0</td>\n",
       "      <td>1970-01-01 00:00:00.828124615</td>\n",
       "    </tr>\n",
       "    <tr>\n",
       "      <th>4</th>\n",
       "      <td>429</td>\n",
       "      <td>432</td>\n",
       "      <td>3.0</td>\n",
       "      <td>1970-01-01 00:00:00.828124615</td>\n",
       "    </tr>\n",
       "  </tbody>\n",
       "</table>\n",
       "</div>"
      ],
      "text/plain": [
       "   userId  movieId  rating                     timestamp\n",
       "0     429      595     5.0 1970-01-01 00:00:00.828124615\n",
       "1     429      588     5.0 1970-01-01 00:00:00.828124615\n",
       "2     429      590     5.0 1970-01-01 00:00:00.828124615\n",
       "3     429      592     5.0 1970-01-01 00:00:00.828124615\n",
       "4     429      432     3.0 1970-01-01 00:00:00.828124615"
      ]
     },
     "execution_count": 32,
     "metadata": {},
     "output_type": "execute_result"
    }
   ],
   "source": [
    "data_ratings.head()"
   ]
  },
  {
   "cell_type": "code",
   "execution_count": 33,
   "id": "e54cbdc9-4cee-4029-842d-f93e31258983",
   "metadata": {},
   "outputs": [],
   "source": [
    "# Create two new columns 'user' and 'movie'-\n",
    "data_ratings[\"user\"] = data_ratings[\"userId\"].map(user2user_encoded)\n",
    "data_ratings[\"movie\"] = data_ratings[\"movieId\"].map(movie2movie_encoded)"
   ]
  },
  {
   "cell_type": "code",
   "execution_count": 34,
   "id": "0add3c1c-099c-4a53-b887-0e323a902a56",
   "metadata": {},
   "outputs": [
    {
     "data": {
      "text/html": [
       "<div>\n",
       "<style scoped>\n",
       "    .dataframe tbody tr th:only-of-type {\n",
       "        vertical-align: middle;\n",
       "    }\n",
       "\n",
       "    .dataframe tbody tr th {\n",
       "        vertical-align: top;\n",
       "    }\n",
       "\n",
       "    .dataframe thead th {\n",
       "        text-align: right;\n",
       "    }\n",
       "</style>\n",
       "<table border=\"1\" class=\"dataframe\">\n",
       "  <thead>\n",
       "    <tr style=\"text-align: right;\">\n",
       "      <th></th>\n",
       "      <th>userId</th>\n",
       "      <th>movieId</th>\n",
       "      <th>rating</th>\n",
       "      <th>timestamp</th>\n",
       "      <th>user</th>\n",
       "      <th>movie</th>\n",
       "    </tr>\n",
       "  </thead>\n",
       "  <tbody>\n",
       "    <tr>\n",
       "      <th>0</th>\n",
       "      <td>429</td>\n",
       "      <td>595</td>\n",
       "      <td>5.0</td>\n",
       "      <td>1970-01-01 00:00:00.828124615</td>\n",
       "      <td>0</td>\n",
       "      <td>0</td>\n",
       "    </tr>\n",
       "    <tr>\n",
       "      <th>1</th>\n",
       "      <td>429</td>\n",
       "      <td>588</td>\n",
       "      <td>5.0</td>\n",
       "      <td>1970-01-01 00:00:00.828124615</td>\n",
       "      <td>0</td>\n",
       "      <td>1</td>\n",
       "    </tr>\n",
       "    <tr>\n",
       "      <th>2</th>\n",
       "      <td>429</td>\n",
       "      <td>590</td>\n",
       "      <td>5.0</td>\n",
       "      <td>1970-01-01 00:00:00.828124615</td>\n",
       "      <td>0</td>\n",
       "      <td>2</td>\n",
       "    </tr>\n",
       "    <tr>\n",
       "      <th>3</th>\n",
       "      <td>429</td>\n",
       "      <td>592</td>\n",
       "      <td>5.0</td>\n",
       "      <td>1970-01-01 00:00:00.828124615</td>\n",
       "      <td>0</td>\n",
       "      <td>3</td>\n",
       "    </tr>\n",
       "    <tr>\n",
       "      <th>4</th>\n",
       "      <td>429</td>\n",
       "      <td>432</td>\n",
       "      <td>3.0</td>\n",
       "      <td>1970-01-01 00:00:00.828124615</td>\n",
       "      <td>0</td>\n",
       "      <td>4</td>\n",
       "    </tr>\n",
       "  </tbody>\n",
       "</table>\n",
       "</div>"
      ],
      "text/plain": [
       "   userId  movieId  rating                     timestamp  user  movie\n",
       "0     429      595     5.0 1970-01-01 00:00:00.828124615     0      0\n",
       "1     429      588     5.0 1970-01-01 00:00:00.828124615     0      1\n",
       "2     429      590     5.0 1970-01-01 00:00:00.828124615     0      2\n",
       "3     429      592     5.0 1970-01-01 00:00:00.828124615     0      3\n",
       "4     429      432     3.0 1970-01-01 00:00:00.828124615     0      4"
      ]
     },
     "execution_count": 34,
     "metadata": {},
     "output_type": "execute_result"
    }
   ],
   "source": [
    "data_ratings.head()"
   ]
  },
  {
   "cell_type": "code",
   "execution_count": 37,
   "id": "28e5b15c-e351-453c-bfa8-6deb28a4eaa2",
   "metadata": {},
   "outputs": [
    {
     "name": "stdout",
     "output_type": "stream",
     "text": [
      "number of users = 610 and number of movies = 9724\n",
      "minimum rating = 0.5 and maximum rating = 5.0\n"
     ]
    }
   ],
   "source": [
    "num_users = len(user2user_encoded)\n",
    "num_movies = len(movie_encoded2movie)\n",
    "print(f\"number of users = {num_users} and number of movies = {num_movies}\")\n",
    "\n",
    "data_ratings[\"rating\"] = data_ratings[\"rating\"].values.astype(np.float32)\n",
    "\n",
    "# Normalize ratings using min and max ratings-\n",
    "min_rating = min(data_ratings[\"rating\"])\n",
    "max_rating = max(data_ratings[\"rating\"])\n",
    "\n",
    "print(f\"minimum rating = {min_rating} and maximum rating = {max_rating}\")"
   ]
  },
  {
   "cell_type": "code",
   "execution_count": null,
   "id": "b961279d-5ab9-4a42-9cb5-b429ff82c4c6",
   "metadata": {},
   "outputs": [],
   "source": []
  },
  {
   "cell_type": "code",
   "execution_count": 39,
   "id": "bb8c8799-41ba-4e7a-b76a-c993d7ebeef9",
   "metadata": {},
   "outputs": [
    {
     "data": {
      "text/plain": [
       "30029       5771\n",
       "30030       4676\n",
       "30031       1526\n",
       "30033       4040\n",
       "30036       2796\n",
       "           ...  \n",
       "100439    141994\n",
       "100457    179819\n",
       "100527    184641\n",
       "100630    175475\n",
       "100791      6534\n",
       "Name: movieId, Length: 1370, dtype: int64"
      ]
     },
     "execution_count": 39,
     "metadata": {},
     "output_type": "execute_result"
    }
   ],
   "source": [
    "# Get all movies getting a minimum rating of 0.5-\n",
    "data_ratings.loc[data_ratings['rating'] == min_rating, 'movieId']"
   ]
  },
  {
   "cell_type": "code",
   "execution_count": 40,
   "id": "f070fc35-16f7-4610-9899-29776b74031d",
   "metadata": {},
   "outputs": [
    {
     "data": {
      "text/plain": [
       "0            595\n",
       "1            588\n",
       "2            590\n",
       "3            592\n",
       "15           161\n",
       "           ...  \n",
       "100810       608\n",
       "100811     55820\n",
       "100812     57669\n",
       "100819    148671\n",
       "100824    177765\n",
       "Name: movieId, Length: 13211, dtype: int64"
      ]
     },
     "execution_count": 40,
     "metadata": {},
     "output_type": "execute_result"
    }
   ],
   "source": [
    "# Get all movies getting a minimum rating of 5-\n",
    "data_ratings.loc[data_ratings['rating'] == max_rating, 'movieId']"
   ]
  },
  {
   "cell_type": "code",
   "execution_count": null,
   "id": "bbf8a3e7-92e4-49a8-8bab-3c67c65f21a0",
   "metadata": {},
   "outputs": [],
   "source": []
  },
  {
   "cell_type": "code",
   "execution_count": 45,
   "id": "fb58ffa9-224b-4483-91d8-ca57d6d32ba0",
   "metadata": {},
   "outputs": [
    {
     "data": {
      "image/png": "[encoded data removed]",
      "text/plain": [
       "<Figure size 648x576 with 1 Axes>"
      ]
     },
     "metadata": {
      "needs_background": "light"
     },
     "output_type": "display_data"
    }
   ],
   "source": [
    "# Visualize distribution of ratings-\n",
    "plt.figure(figsize = (9, 8))\n",
    "data_ratings['rating'].value_counts().plot(kind = 'bar')\n",
    "plt.title(\"Ratings distribution\")\n",
    "plt.xticks(rotation = 30)\n",
    "plt.show()"
   ]
  },
  {
   "cell_type": "code",
   "execution_count": null,
   "id": "93f05717-a50e-4ab3-8e5d-6e59a9478e8b",
   "metadata": {},
   "outputs": [],
   "source": []
  },
  {
   "cell_type": "code",
   "execution_count": null,
   "id": "88bedc7a-0487-4828-986e-23f334c7fc39",
   "metadata": {},
   "outputs": [],
   "source": []
  },
  {
   "cell_type": "code",
   "execution_count": 46,
   "id": "55137aee-dfaf-4f67-b88a-a917fc0728d1",
   "metadata": {},
   "outputs": [
    {
     "name": "stdout",
     "output_type": "stream",
     "text": [
      "x_train.shape = (90752, 2) & y_train.shape = (90752,)\n",
      "x_val.shape = (10084, 2) & y_val.shape = (10084,)\n"
     ]
    }
   ],
   "source": [
    "# Prepare training and validation data:\n",
    "\n",
    "data_ratings = data_ratings.sample(frac = 1)\n",
    "x = data_ratings[[\"user\", \"movie\"]].values\n",
    "\n",
    "# Normalize the targets between 0 and 1 for better training-\n",
    "y = data_ratings[\"rating\"].apply(lambda x: (x - min_rating) / (max_rating - min_rating)).values\n",
    "\n",
    "# Assuming training on 90% of the data and validating on 10%-\n",
    "train_indices = int(0.9 * data_ratings.shape[0])\n",
    "x_train, x_val, y_train, y_val = (\n",
    "    x[:train_indices],\n",
    "    x[train_indices:],\n",
    "    y[:train_indices],\n",
    "    y[train_indices:],\n",
    ")\n",
    "\n",
    "print(f\"x_train.shape = {x_train.shape} & y_train.shape = {y_train.shape}\")\n",
    "print(f\"x_val.shape = {x_val.shape} & y_val.shape = {y_val.shape}\")"
   ]
  },
  {
   "cell_type": "code",
   "execution_count": null,
   "id": "f358977c-fcd5-4cbd-a1ed-b7648e5c2d34",
   "metadata": {},
   "outputs": [],
   "source": []
  },
  {
   "cell_type": "code",
   "execution_count": null,
   "id": "70ca008a-ed44-4827-ac70-e5229c193fec",
   "metadata": {},
   "outputs": [],
   "source": []
  },
  {
   "cell_type": "markdown",
   "id": "d91b0836-3f76-4b11-9739-e5172ec04ce2",
   "metadata": {},
   "source": [
    "## Define neural network:\n",
    "\n",
    "Users and movies are embedded in a 50-dimensional vectors.\n",
    "\n",
    "The neural network:\n",
    "\n",
    "1. __Computes a matching score between user and movie embeddings via a dot product, and adds a per-movie and per-user bias__.\n",
    "1. __The match score is scaled to the [0, 1] interval via a sigmoid (since our ratings are normalized to this range)__."
   ]
  },
  {
   "cell_type": "code",
   "execution_count": 47,
   "id": "567962e5-7b90-4140-b58f-47d6a409fdac",
   "metadata": {},
   "outputs": [],
   "source": [
    "# Specify embedding dimensions-\n",
    "EMBEDDING_DIM = 50"
   ]
  },
  {
   "cell_type": "code",
   "execution_count": 51,
   "id": "399015b6-6c9e-48f0-b30c-3627bb8fcb8f",
   "metadata": {},
   "outputs": [],
   "source": [
    "class NeuralCollborativeFiltering(Model):\n",
    "    def __init__(self, num_users, num_movies, embedding_size, **kwargs):\n",
    "        super(NeuralCollborativeFiltering, self).__init__(**kwargs)\n",
    "        self.num_users = num_users\n",
    "        self.num_movies = num_movies\n",
    "        self.embedding_size = embedding_size\n",
    "        \n",
    "        self.user_embedding = Embedding(\n",
    "            input_dim = num_users, output_dim = embedding_size,\n",
    "            embeddings_initializer = tf.keras.initializers.he_normal(),\n",
    "            embeddings_regularizer = tf.keras.regularizers.l2(1e-6)\n",
    "        )\n",
    "        self.user_bias = Embedding(input_dim = num_users, output_dim = 1)\n",
    "        \n",
    "        self.movie_embedding = Embedding(\n",
    "            input_dim = num_movies, output_dim = embedding_size,\n",
    "            embeddings_initializer = tf.keras.initializers.he_normal(),\n",
    "            embeddings_regularizer = tf.keras.regularizers.l2(1e-6)\n",
    "        )\n",
    "        self.movie_bias = Embedding(input_dim = num_movies, output_dim = 1)\n",
    "        \n",
    "    def call(self, x):\n",
    "        user_vector = self.user_embedding(x[:, 0])\n",
    "        user_bias = self.user_bias(x[:, 0])\n",
    "        movie_vector = self.movie_embedding(x[:, 1])\n",
    "        movie_bias = self.movie_bias(x[:, 1])\n",
    "        \n",
    "        user_movie_dot_prod = tf.tensordot(user_vector, movie_vector, axes = 2)\n",
    "        \n",
    "        # Add all vectors including biases-\n",
    "        out = user_movie_dot_prod + user_bias + movie_bias\n",
    "        \n",
    "        # Use sigmoid activation function to output rantings to be in range 0 to 1-\n",
    "        return tf.nn.sigmoid(out)\n",
    "    \n",
    "    "
   ]
  },
  {
   "cell_type": "code",
   "execution_count": null,
   "id": "148e51f6-f472-4362-8fff-0f3e0157e54d",
   "metadata": {},
   "outputs": [],
   "source": []
  },
  {
   "cell_type": "code",
   "execution_count": 53,
   "id": "81e65601-78e9-44b2-98ad-a76056916768",
   "metadata": {},
   "outputs": [],
   "source": [
    "# Instantiate an instance of defined class-\n",
    "recommender = NeuralCollborativeFiltering(num_users, num_movies, EMBEDDING_DIM)"
   ]
  },
  {
   "cell_type": "code",
   "execution_count": 54,
   "id": "b688da60-bd90-4dd2-a14a-b787a99b3ecc",
   "metadata": {},
   "outputs": [],
   "source": [
    "# Compile model-\n",
    "recommender.compile(\n",
    "    loss = tf.keras.losses.BinaryCrossentropy(),\n",
    "    optimizer = tf.keras.optimizers.Adam(learning_rate = 0.001)\n",
    ")\n"
   ]
  },
  {
   "cell_type": "code",
   "execution_count": null,
   "id": "f245d0ba-6731-4e29-b7d7-80e602115d90",
   "metadata": {},
   "outputs": [],
   "source": []
  },
  {
   "cell_type": "code",
   "execution_count": 58,
   "id": "6c39998d-3eeb-4d76-ad95-f4795a8c2ba7",
   "metadata": {},
   "outputs": [
    {
     "name": "stdout",
     "output_type": "stream",
     "text": [
      "number of training iterations in one epoch = 1418.0\n"
     ]
    }
   ],
   "source": [
    "batch_size = 64\n",
    "print(f\"number of training iterations in one epoch = {x_train.shape[0] / 64}\")"
   ]
  },
  {
   "cell_type": "code",
   "execution_count": 59,
   "id": "0ca172af-025f-417c-9fb6-cab071397284",
   "metadata": {},
   "outputs": [
    {
     "name": "stdout",
     "output_type": "stream",
     "text": [
      "Epoch 1/10\n",
      "WARNING:tensorflow:AutoGraph could not transform <bound method NeuralCollborativeFiltering.call of <__main__.NeuralCollborativeFiltering object at 0x00000227A0B7D9A0>> and will run it as-is.\n",
      "Please report this to the TensorFlow team. When filing the bug, set the verbosity to 10 (on Linux, `export AUTOGRAPH_VERBOSITY=10`) and attach the full output.\n",
      "Cause: module 'gast' has no attribute 'Index'\n",
      "To silence this warning, decorate the function with @tf.autograph.experimental.do_not_convert\n",
      "WARNING: AutoGraph could not transform <bound method NeuralCollborativeFiltering.call of <__main__.NeuralCollborativeFiltering object at 0x00000227A0B7D9A0>> and will run it as-is.\n",
      "Please report this to the TensorFlow team. When filing the bug, set the verbosity to 10 (on Linux, `export AUTOGRAPH_VERBOSITY=10`) and attach the full output.\n",
      "Cause: module 'gast' has no attribute 'Index'\n",
      "To silence this warning, decorate the function with @tf.autograph.experimental.do_not_convert\n",
      "1418/1418 [==============================] - 7s 5ms/step - loss: 0.6359 - val_loss: 0.6188\n",
      "Epoch 2/10\n",
      "1418/1418 [==============================] - 7s 5ms/step - loss: 0.6137 - val_loss: 0.6153\n",
      "Epoch 3/10\n",
      "1418/1418 [==============================] - 7s 5ms/step - loss: 0.6092 - val_loss: 0.6115\n",
      "Epoch 4/10\n",
      "1418/1418 [==============================] - 7s 5ms/step - loss: 0.6084 - val_loss: 0.6085\n",
      "Epoch 5/10\n",
      "1418/1418 [==============================] - 7s 5ms/step - loss: 0.6075 - val_loss: 0.6090\n",
      "Epoch 6/10\n",
      "1418/1418 [==============================] - 7s 5ms/step - loss: 0.6066 - val_loss: 0.6095\n",
      "Epoch 7/10\n",
      "1418/1418 [==============================] - 7s 5ms/step - loss: 0.6070 - val_loss: 0.6089\n",
      "Epoch 8/10\n",
      "1418/1418 [==============================] - 7s 5ms/step - loss: 0.6071 - val_loss: 0.6110\n",
      "Epoch 9/10\n",
      "1418/1418 [==============================] - 7s 5ms/step - loss: 0.6050 - val_loss: 0.6085\n",
      "Epoch 10/10\n",
      "1418/1418 [==============================] - 7s 5ms/step - loss: 0.6053 - val_loss: 0.6100\n"
     ]
    }
   ],
   "source": [
    "# Train model-\n",
    "training_history = recommender.fit(\n",
    "    x = x_train, y = y_train,\n",
    "    batch_size = batch_size, epochs = 10,\n",
    "    validation_data = (x_val, y_val)\n",
    ")\n"
   ]
  },
  {
   "cell_type": "code",
   "execution_count": null,
   "id": "a665bae8-c4ca-4d6e-9fb9-4f6188e82ec1",
   "metadata": {},
   "outputs": [],
   "source": []
  },
  {
   "cell_type": "code",
   "execution_count": 64,
   "id": "b6aa84e0-e10e-4c49-aaaf-5120de8b1499",
   "metadata": {},
   "outputs": [
    {
     "name": "stdout",
     "output_type": "stream",
     "text": [
      "Model: \"neural_collborative_filtering\"\n",
      "_________________________________________________________________\n",
      "Layer (type)                 Output Shape              Param #   \n",
      "=================================================================\n",
      "embedding (Embedding)        multiple                  30500     \n",
      "_________________________________________________________________\n",
      "embedding_1 (Embedding)      multiple                  610       \n",
      "_________________________________________________________________\n",
      "embedding_2 (Embedding)      multiple                  486200    \n",
      "_________________________________________________________________\n",
      "embedding_3 (Embedding)      multiple                  9724      \n",
      "=================================================================\n",
      "Total params: 527,034\n",
      "Trainable params: 527,034\n",
      "Non-trainable params: 0\n",
      "_________________________________________________________________\n"
     ]
    }
   ],
   "source": [
    "recommender.summary()"
   ]
  },
  {
   "cell_type": "code",
   "execution_count": 68,
   "id": "636b35d4-fe23-42a0-b888-3f9f114c1bce",
   "metadata": {},
   "outputs": [
    {
     "data": {
      "text/plain": [
       "(610, 50)"
      ]
     },
     "execution_count": 68,
     "metadata": {},
     "output_type": "execute_result"
    }
   ],
   "source": [
    "# Access first embedding layer weights-\n",
    "recommender.layers[0].get_weights()[0].shape"
   ]
  },
  {
   "cell_type": "code",
   "execution_count": null,
   "id": "b70fb6f6-a76e-443b-aaa4-5997d54c0edd",
   "metadata": {},
   "outputs": [],
   "source": []
  },
  {
   "cell_type": "code",
   "execution_count": 70,
   "id": "2d1f4b51-a758-4f85-8d6e-5eab0108b592",
   "metadata": {},
   "outputs": [
    {
     "data": {
      "text/plain": [
       "array([[ 281, 1273],\n",
       "       [ 466, 7270],\n",
       "       [ 263, 2380],\n",
       "       [ 170, 2224],\n",
       "       [ 272,   66]], dtype=int64)"
      ]
     },
     "execution_count": 70,
     "metadata": {},
     "output_type": "execute_result"
    }
   ],
   "source": [
    "x_train[:5, :]"
   ]
  },
  {
   "cell_type": "code",
   "execution_count": null,
   "id": "8cb6fc7a-6c69-4ad1-834c-0343f0229d30",
   "metadata": {},
   "outputs": [],
   "source": []
  },
  {
   "cell_type": "code",
   "execution_count": null,
   "id": "d3b7b7c1-2d2d-47e0-90cc-dd61039d915f",
   "metadata": {},
   "outputs": [],
   "source": []
  },
  {
   "cell_type": "code",
   "execution_count": null,
   "id": "2f25497e-fc9f-47ba-b69b-5a0b45ab5e9d",
   "metadata": {},
   "outputs": [],
   "source": []
  },
  {
   "cell_type": "code",
   "execution_count": null,
   "id": "413cc91d-ee5e-4b61-8fd1-ba8d024778cc",
   "metadata": {},
   "outputs": [],
   "source": []
  },
  {
   "cell_type": "code",
   "execution_count": 60,
   "id": "fdcbff7c-f733-41b3-a7d5-312c6fe9fbdb",
   "metadata": {},
   "outputs": [
    {
     "data": {
      "text/plain": [
       "dict_keys(['loss', 'val_loss'])"
      ]
     },
     "execution_count": 60,
     "metadata": {},
     "output_type": "execute_result"
    }
   ],
   "source": [
    "training_history.history.keys()"
   ]
  },
  {
   "cell_type": "code",
   "execution_count": 63,
   "id": "c3644732-4628-4ecf-9e29-113fb0f66a3d",
   "metadata": {},
   "outputs": [
    {
     "data": {
      "image/png": "[encoded data removed]",
      "text/plain": [
       "<Figure size 648x576 with 1 Axes>"
      ]
     },
     "metadata": {
      "needs_background": "light"
     },
     "output_type": "display_data"
    }
   ],
   "source": [
    "plt.figure(figsize = (9, 8))\n",
    "plt.plot(training_history.history['loss'], label = 'training loss')\n",
    "plt.plot(training_history.history['val_loss'], label = 'validation loss')\n",
    "\n",
    "plt.title(\"Neural Collaborative Filtering - Training Visualization\")\n",
    "plt.legend(loc = 'best')\n",
    "plt.xlabel(\"number of epochs\")\n",
    "plt.ylabel(\"loss\")\n",
    "plt.show()"
   ]
  },
  {
   "cell_type": "code",
   "execution_count": null,
   "id": "90d4d7be-8e42-4f12-83e8-f8df193e2df4",
   "metadata": {},
   "outputs": [],
   "source": []
  },
  {
   "cell_type": "code",
   "execution_count": null,
   "id": "ee2a79ea-ddf2-49da-80cf-b921b31a0c11",
   "metadata": {},
   "outputs": [],
   "source": []
  },
  {
   "cell_type": "code",
   "execution_count": 71,
   "id": "fd91ff3e-0033-4dba-b4b9-c100d70d5118",
   "metadata": {},
   "outputs": [],
   "source": [
    "# Get top 10 movie recommendations per user-\n",
    "data_movie = pd.read_csv(\"ml-latest-small/movies.csv\")"
   ]
  },
  {
   "cell_type": "code",
   "execution_count": 72,
   "id": "5f9443ba-e923-4a7f-963c-e823f316162f",
   "metadata": {},
   "outputs": [
    {
     "data": {
      "text/plain": [
       "(9742, 3)"
      ]
     },
     "execution_count": 72,
     "metadata": {},
     "output_type": "execute_result"
    }
   ],
   "source": [
    "data_movie.shape"
   ]
  },
  {
   "cell_type": "code",
   "execution_count": 73,
   "id": "8c308d15-1509-4a68-8fee-5839f93d3621",
   "metadata": {},
   "outputs": [
    {
     "data": {
      "text/plain": [
       "False"
      ]
     },
     "execution_count": 73,
     "metadata": {},
     "output_type": "execute_result"
    }
   ],
   "source": [
    "data_movie.isna().values.any()"
   ]
  },
  {
   "cell_type": "code",
   "execution_count": 74,
   "id": "6609d65f-3dc0-4670-a2e6-950c47fecdc3",
   "metadata": {},
   "outputs": [
    {
     "name": "stdout",
     "output_type": "stream",
     "text": [
      "<class 'pandas.core.frame.DataFrame'>\n",
      "RangeIndex: 9742 entries, 0 to 9741\n",
      "Data columns (total 3 columns):\n",
      " #   Column   Non-Null Count  Dtype \n",
      "---  ------   --------------  ----- \n",
      " 0   movieId  9742 non-null   int64 \n",
      " 1   title    9742 non-null   object\n",
      " 2   genres   9742 non-null   object\n",
      "dtypes: int64(1), object(2)\n",
      "memory usage: 228.5+ KB\n"
     ]
    }
   ],
   "source": [
    "data_movie.info()"
   ]
  },
  {
   "cell_type": "code",
   "execution_count": 75,
   "id": "0bd479d2-4e7e-46e5-9d45-47fae0dd2916",
   "metadata": {},
   "outputs": [
    {
     "data": {
      "text/html": [
       "<div>\n",
       "<style scoped>\n",
       "    .dataframe tbody tr th:only-of-type {\n",
       "        vertical-align: middle;\n",
       "    }\n",
       "\n",
       "    .dataframe tbody tr th {\n",
       "        vertical-align: top;\n",
       "    }\n",
       "\n",
       "    .dataframe thead th {\n",
       "        text-align: right;\n",
       "    }\n",
       "</style>\n",
       "<table border=\"1\" class=\"dataframe\">\n",
       "  <thead>\n",
       "    <tr style=\"text-align: right;\">\n",
       "      <th></th>\n",
       "      <th>movieId</th>\n",
       "      <th>title</th>\n",
       "      <th>genres</th>\n",
       "    </tr>\n",
       "  </thead>\n",
       "  <tbody>\n",
       "    <tr>\n",
       "      <th>0</th>\n",
       "      <td>1</td>\n",
       "      <td>Toy Story (1995)</td>\n",
       "      <td>Adventure|Animation|Children|Comedy|Fantasy</td>\n",
       "    </tr>\n",
       "    <tr>\n",
       "      <th>1</th>\n",
       "      <td>2</td>\n",
       "      <td>Jumanji (1995)</td>\n",
       "      <td>Adventure|Children|Fantasy</td>\n",
       "    </tr>\n",
       "    <tr>\n",
       "      <th>2</th>\n",
       "      <td>3</td>\n",
       "      <td>Grumpier Old Men (1995)</td>\n",
       "      <td>Comedy|Romance</td>\n",
       "    </tr>\n",
       "    <tr>\n",
       "      <th>3</th>\n",
       "      <td>4</td>\n",
       "      <td>Waiting to Exhale (1995)</td>\n",
       "      <td>Comedy|Drama|Romance</td>\n",
       "    </tr>\n",
       "    <tr>\n",
       "      <th>4</th>\n",
       "      <td>5</td>\n",
       "      <td>Father of the Bride Part II (1995)</td>\n",
       "      <td>Comedy</td>\n",
       "    </tr>\n",
       "  </tbody>\n",
       "</table>\n",
       "</div>"
      ],
      "text/plain": [
       "   movieId                               title  \\\n",
       "0        1                    Toy Story (1995)   \n",
       "1        2                      Jumanji (1995)   \n",
       "2        3             Grumpier Old Men (1995)   \n",
       "3        4            Waiting to Exhale (1995)   \n",
       "4        5  Father of the Bride Part II (1995)   \n",
       "\n",
       "                                        genres  \n",
       "0  Adventure|Animation|Children|Comedy|Fantasy  \n",
       "1                   Adventure|Children|Fantasy  \n",
       "2                               Comedy|Romance  \n",
       "3                         Comedy|Drama|Romance  \n",
       "4                                       Comedy  "
      ]
     },
     "execution_count": 75,
     "metadata": {},
     "output_type": "execute_result"
    }
   ],
   "source": [
    "data_movie.head()"
   ]
  },
  {
   "cell_type": "code",
   "execution_count": 81,
   "id": "fb270416-901b-497a-b16a-b3814776d290",
   "metadata": {},
   "outputs": [],
   "source": [
    "# Get a random user for recommendation-\n",
    "user_id = data_ratings['userId'].sample(1).iloc[0]"
   ]
  },
  {
   "cell_type": "code",
   "execution_count": 82,
   "id": "929606d8-06b4-4ac9-af0d-b90a73c7c77d",
   "metadata": {},
   "outputs": [
    {
     "name": "stdout",
     "output_type": "stream",
     "text": [
      "Random user ID = 226\n"
     ]
    }
   ],
   "source": [
    "print(f\"Random user ID = {user_id}\")"
   ]
  },
  {
   "cell_type": "code",
   "execution_count": 83,
   "id": "e267b042-b17f-4a92-81fa-97f257c45bd2",
   "metadata": {},
   "outputs": [],
   "source": [
    "# Get a list of movies already watched by user-\n",
    "movies_watched = data_ratings[data_ratings['userId'] == user_id]"
   ]
  },
  {
   "cell_type": "code",
   "execution_count": 84,
   "id": "cf273518-8727-4651-bad0-048989af1997",
   "metadata": {},
   "outputs": [],
   "source": [
    "movies_unwatched = data_movie[~data_movie['movieId'].isin(movies_watched['movieId'].values)]['movieId']"
   ]
  },
  {
   "cell_type": "code",
   "execution_count": 85,
   "id": "c0055621-9cb7-41af-9cfd-b49e3399a056",
   "metadata": {},
   "outputs": [
    {
     "data": {
      "text/plain": [
       "((507, 6), (9235,))"
      ]
     },
     "execution_count": 85,
     "metadata": {},
     "output_type": "execute_result"
    }
   ],
   "source": [
    "movies_watched.shape, movies_unwatched.shape"
   ]
  },
  {
   "cell_type": "code",
   "execution_count": 86,
   "id": "3a155dbc-a2cd-4f11-bb4a-21c362311f13",
   "metadata": {},
   "outputs": [],
   "source": [
    "movies_unwatched = list(set(movies_unwatched).intersection(set(movie2movie_encoded.keys())))"
   ]
  },
  {
   "cell_type": "code",
   "execution_count": 87,
   "id": "43114c41-da39-4107-b620-355985f05a30",
   "metadata": {},
   "outputs": [],
   "source": [
    "movies_unwatched = [[movie2movie_encoded.get(x)] for x in movies_unwatched]"
   ]
  },
  {
   "cell_type": "code",
   "execution_count": 88,
   "id": "924a42d7-a279-4c6f-9243-04dbf356af71",
   "metadata": {},
   "outputs": [
    {
     "data": {
      "text/plain": [
       "9217"
      ]
     },
     "execution_count": 88,
     "metadata": {},
     "output_type": "execute_result"
    }
   ],
   "source": [
    "len(movies_unwatched)"
   ]
  },
  {
   "cell_type": "code",
   "execution_count": 89,
   "id": "1805adac-b4b2-427f-8e95-712661c91f7c",
   "metadata": {},
   "outputs": [],
   "source": [
    "user_encoder = user2user_encoded.get(user_id)"
   ]
  },
  {
   "cell_type": "code",
   "execution_count": 90,
   "id": "263dfc37-35ec-4642-9900-6706f8723765",
   "metadata": {},
   "outputs": [],
   "source": [
    "user_movie_arr = np.hstack(\n",
    "    ([[user_encoder]] * len(movies_unwatched), movies_unwatched)\n",
    ")"
   ]
  },
  {
   "cell_type": "code",
   "execution_count": 92,
   "id": "dc218c18-e2d5-4e12-85be-c30bcf74609d",
   "metadata": {},
   "outputs": [],
   "source": [
    "recommendations = recommender.predict(user_movie_arr).flatten()"
   ]
  },
  {
   "cell_type": "code",
   "execution_count": 93,
   "id": "81bb5f16-f0b3-419e-9f4a-5e37c9861ee1",
   "metadata": {},
   "outputs": [
    {
     "data": {
      "text/plain": [
       "(9217,)"
      ]
     },
     "execution_count": 93,
     "metadata": {},
     "output_type": "execute_result"
    }
   ],
   "source": [
    "recommendations.shape"
   ]
  },
  {
   "cell_type": "code",
   "execution_count": 101,
   "id": "24ad693e-a24d-4411-af4e-7af9e70a99d3",
   "metadata": {},
   "outputs": [],
   "source": [
    "k = 10"
   ]
  },
  {
   "cell_type": "code",
   "execution_count": 102,
   "id": "d49b5894-06b9-4d01-82e0-a6f4407055d2",
   "metadata": {},
   "outputs": [],
   "source": [
    "top_ratings_indices = recommendations.argsort()[-k:][::-1]"
   ]
  },
  {
   "cell_type": "code",
   "execution_count": 103,
   "id": "d029fe8f-6f71-49bb-b151-951c864d2814",
   "metadata": {},
   "outputs": [],
   "source": [
    "recommended_movie_ids = [\n",
    "    movie_encoded2movie.get(movies_unwatched[x][0]) for x in top_ratings_indices\n",
    "]"
   ]
  },
  {
   "cell_type": "code",
   "execution_count": 106,
   "id": "e1d6401a-8523-4daa-af80-003ab7e31163",
   "metadata": {},
   "outputs": [
    {
     "name": "stdout",
     "output_type": "stream",
     "text": [
      "Top recommendations for user ID: 226:\n",
      "\n",
      "     movieId                             title                          genres\n",
      "277      318  Shawshank Redemption, The (1994)                     Crime|Drama\n",
      "686      904                Rear Window (1954)                Mystery|Thriller\n",
      "909     1208             Apocalypse Now (1979)                Action|Drama|War\n",
      "914     1213                 Goodfellas (1990)                     Crime|Drama\n",
      "922     1221    Godfather: Part II, The (1974)                     Crime|Drama\n",
      "926     1225                    Amadeus (1984)                           Drama\n",
      "933     1233      Boot, Das (Boat, The) (1981)                Action|Drama|War\n",
      "941     1242                      Glory (1989)                       Drama|War\n",
      "944     1245          Miller's Crossing (1990)  Crime|Drama|Film-Noir|Thriller\n",
      "947     1248              Touch of Evil (1958)        Crime|Film-Noir|Thriller\n"
     ]
    }
   ],
   "source": [
    "print(f\"Top recommendations for user ID: {user_id}:\\n\\n{data_movie[data_movie['movieId'].isin(recommended_movie_ids)]}\")"
   ]
  },
  {
   "cell_type": "code",
   "execution_count": null,
   "id": "f71b4b3f-c682-44fc-b813-cf16c293467d",
   "metadata": {},
   "outputs": [],
   "source": []
  },
  {
   "cell_type": "code",
   "execution_count": null,
   "id": "2c34dd23-b552-488e-95e9-c91911652772",
   "metadata": {},
   "outputs": [],
   "source": []
  },
  {
   "cell_type": "code",
   "execution_count": null,
   "id": "1ba54cc8-8e0c-440a-b175-5154df1563a5",
   "metadata": {},
   "outputs": [],
   "source": [
    "Show top 10 movie recommendations to a user\n",
    "\n",
    "movie_df = pd.read_csv(movielens_dir / \"movies.csv\")\n",
    "\n",
    "# Let us get a user and see the top recommendations.\n",
    "user_id = df.userId.sample(1).iloc[0]\n",
    "movies_watched_by_user = df[df.userId == user_id]\n",
    "movies_not_watched = movie_df[\n",
    "    ~movie_df[\"movieId\"].isin(movies_watched_by_user.movieId.values)\n",
    "][\"movieId\"]\n",
    "movies_not_watched = list(\n",
    "    set(movies_not_watched).intersection(set(movie2movie_encoded.keys()))\n",
    ")\n",
    "movies_not_watched = [[movie2movie_encoded.get(x)] for x in movies_not_watched]\n",
    "user_encoder = user2user_encoded.get(user_id)\n",
    "user_movie_array = np.hstack(\n",
    "    ([[user_encoder]] * len(movies_not_watched), movies_not_watched)\n",
    ")\n",
    "ratings = model.predict(user_movie_array).flatten()\n",
    "top_ratings_indices = ratings.argsort()[-10:][::-1]\n",
    "recommended_movie_ids = [\n",
    "    movie_encoded2movie.get(movies_not_watched[x][0]) for x in top_ratings_indices\n",
    "]\n",
    "\n",
    "print(\"Showing recommendations for user: {}\".format(user_id))\n",
    "print(\"====\" * 9)\n",
    "print(\"Movies with high ratings from user\")\n",
    "print(\"----\" * 8)\n",
    "top_movies_user = (\n",
    "    movies_watched_by_user.sort_values(by=\"rating\", ascending=False)\n",
    "    .head(5)\n",
    "    .movieId.values\n",
    ")\n",
    "movie_df_rows = movie_df[movie_df[\"movieId\"].isin(top_movies_user)]\n",
    "for row in movie_df_rows.itertuples():\n",
    "    print(row.title, \":\", row.genres)\n",
    "\n",
    "print(\"----\" * 8)\n",
    "print(\"Top 10 movie recommendations\")\n",
    "print(\"----\" * 8)\n",
    "recommended_movies = movie_df[movie_df[\"movieId\"].isin(recommended_movie_ids)]\n",
    "for row in recommended_movies.itertuples():\n",
    "    print(row.title, \":\", row.genres)\n"
   ]
  },
  {
   "cell_type": "code",
   "execution_count": null,
   "id": "e9035661-ee8a-4332-bf9a-8db3d62ead7f",
   "metadata": {},
   "outputs": [],
   "source": []
  },
  {
   "cell_type": "code",
   "execution_count": null,
   "id": "c409b49d-9dca-4814-a780-3b7570160c6a",
   "metadata": {},
   "outputs": [],
   "source": []
  },
  {
   "cell_type": "code",
   "execution_count": null,
   "id": "566787c4-675e-4f3a-bb0f-102c2e4a4587",
   "metadata": {},
   "outputs": [],
   "source": []
  },
  {
   "cell_type": "code",
   "execution_count": null,
   "id": "9fcee7a7-5483-42a4-8645-c6768d2393d5",
   "metadata": {},
   "outputs": [],
   "source": []
  },
  {
   "cell_type": "code",
   "execution_count": null,
   "id": "4e382e7c-33a2-4fa5-bb7b-bfcd99a04223",
   "metadata": {},
   "outputs": [],
   "source": []
  }
 ],
 "metadata": {
  "kernelspec": {
   "display_name": "Python 3 (ipykernel)",
   "language": "python",
   "name": "python3"
  },
  "language_info": {
   "codemirror_mode": {
    "name": "ipython",
    "version": 3
   },
   "file_extension": ".py",
   "mimetype": "text/x-python",
   "name": "python",
   "nbconvert_exporter": "python",
   "pygments_lexer": "ipython3",
   "version": "3.8.10"
  }
 },
 "nbformat": 4,
 "nbformat_minor": 5
}
