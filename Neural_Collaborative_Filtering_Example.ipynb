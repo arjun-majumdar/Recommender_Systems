{
  "nbformat": 4,
  "nbformat_minor": 5,
  "metadata": {
    "kernelspec": {
      "display_name": "Python 3",
      "language": "python",
      "name": "python3"
    },
    "language_info": {
      "codemirror_mode": {
        "name": "ipython",
        "version": 3
      },
      "file_extension": ".py",
      "mimetype": "text/x-python",
      "name": "python",
      "nbconvert_exporter": "python",
      "pygments_lexer": "ipython3",
      "version": "3.8.8"
    },
    "colab": {
      "name": "Neural_Collaborative_Filtering-Example.ipynb",
      "provenance": [],
      "collapsed_sections": [
        "93d8112b-883d-4fcf-a2be-1e80feccb5ac"
      ]
    },
    "accelerator": "GPU",
    "widgets": {
      "application/vnd.jupyter.widget-state+json": {
        "dd84ff51f1354523bca6bd9fb3401089": {
          "model_module": "@jupyter-widgets/controls",
          "model_name": "HBoxModel",
          "state": {
            "_view_name": "HBoxView",
            "_dom_classes": [],
            "_model_name": "HBoxModel",
            "_view_module": "@jupyter-widgets/controls",
            "_model_module_version": "1.5.0",
            "_view_count": null,
            "_view_module_version": "1.5.0",
            "box_style": "",
            "layout": "IPY_MODEL_9c3c10b951cf40619c822f210e3036b3",
            "_model_module": "@jupyter-widgets/controls",
            "children": [
              "IPY_MODEL_6bd1bb3ddfd14e5aa333dbb1a99ca765",
              "IPY_MODEL_fb96d48125de45309387036ccde1be04"
            ]
          }
        },
        "9c3c10b951cf40619c822f210e3036b3": {
          "model_module": "@jupyter-widgets/base",
          "model_name": "LayoutModel",
          "state": {
            "_view_name": "LayoutView",
            "grid_template_rows": null,
            "right": null,
            "justify_content": null,
            "_view_module": "@jupyter-widgets/base",
            "overflow": null,
            "_model_module_version": "1.2.0",
            "_view_count": null,
            "flex_flow": "row wrap",
            "width": "100%",
            "min_width": null,
            "border": null,
            "align_items": null,
            "bottom": null,
            "_model_module": "@jupyter-widgets/base",
            "top": null,
            "grid_column": null,
            "overflow_y": null,
            "overflow_x": null,
            "grid_auto_flow": null,
            "grid_area": null,
            "grid_template_columns": null,
            "flex": null,
            "_model_name": "LayoutModel",
            "justify_items": null,
            "grid_row": null,
            "max_height": null,
            "align_content": null,
            "visibility": null,
            "align_self": null,
            "height": null,
            "min_height": null,
            "padding": null,
            "grid_auto_rows": null,
            "grid_gap": null,
            "max_width": null,
            "order": null,
            "_view_module_version": "1.2.0",
            "grid_template_areas": null,
            "object_position": null,
            "object_fit": null,
            "grid_auto_columns": null,
            "margin": null,
            "display": "inline-flex",
            "left": null
          }
        },
        "6bd1bb3ddfd14e5aa333dbb1a99ca765": {
          "model_module": "@jupyter-widgets/controls",
          "model_name": "FloatProgressModel",
          "state": {
            "_view_name": "ProgressView",
            "style": "IPY_MODEL_9077501974c24390ac652f1cd4ac4456",
            "_dom_classes": [],
            "description": "Epoch 4: 100%",
            "_model_name": "FloatProgressModel",
            "bar_style": "success",
            "max": 970,
            "_view_module": "@jupyter-widgets/controls",
            "_model_module_version": "1.5.0",
            "value": 970,
            "_view_count": null,
            "_view_module_version": "1.5.0",
            "orientation": "horizontal",
            "min": 0,
            "description_tooltip": null,
            "_model_module": "@jupyter-widgets/controls",
            "layout": "IPY_MODEL_35d321286820438aa03cd092867adae1"
          }
        },
        "fb96d48125de45309387036ccde1be04": {
          "model_module": "@jupyter-widgets/controls",
          "model_name": "HTMLModel",
          "state": {
            "_view_name": "HTMLView",
            "style": "IPY_MODEL_ae74f8c695f94c38b328b902217b10d6",
            "_dom_classes": [],
            "description": "",
            "_model_name": "HTMLModel",
            "placeholder": "​",
            "_view_module": "@jupyter-widgets/controls",
            "_model_module_version": "1.5.0",
            "value": " 970/970 [00:07&lt;00:00, 128.94it/s, loss=0.325]",
            "_view_count": null,
            "_view_module_version": "1.5.0",
            "description_tooltip": null,
            "_model_module": "@jupyter-widgets/controls",
            "layout": "IPY_MODEL_ee7314b59b104dc282ae7165fefb1f4d"
          }
        },
        "9077501974c24390ac652f1cd4ac4456": {
          "model_module": "@jupyter-widgets/controls",
          "model_name": "ProgressStyleModel",
          "state": {
            "_view_name": "StyleView",
            "_model_name": "ProgressStyleModel",
            "description_width": "initial",
            "_view_module": "@jupyter-widgets/base",
            "_model_module_version": "1.5.0",
            "_view_count": null,
            "_view_module_version": "1.2.0",
            "bar_color": null,
            "_model_module": "@jupyter-widgets/controls"
          }
        },
        "35d321286820438aa03cd092867adae1": {
          "model_module": "@jupyter-widgets/base",
          "model_name": "LayoutModel",
          "state": {
            "_view_name": "LayoutView",
            "grid_template_rows": null,
            "right": null,
            "justify_content": null,
            "_view_module": "@jupyter-widgets/base",
            "overflow": null,
            "_model_module_version": "1.2.0",
            "_view_count": null,
            "flex_flow": null,
            "width": null,
            "min_width": null,
            "border": null,
            "align_items": null,
            "bottom": null,
            "_model_module": "@jupyter-widgets/base",
            "top": null,
            "grid_column": null,
            "overflow_y": null,
            "overflow_x": null,
            "grid_auto_flow": null,
            "grid_area": null,
            "grid_template_columns": null,
            "flex": "2",
            "_model_name": "LayoutModel",
            "justify_items": null,
            "grid_row": null,
            "max_height": null,
            "align_content": null,
            "visibility": null,
            "align_self": null,
            "height": null,
            "min_height": null,
            "padding": null,
            "grid_auto_rows": null,
            "grid_gap": null,
            "max_width": null,
            "order": null,
            "_view_module_version": "1.2.0",
            "grid_template_areas": null,
            "object_position": null,
            "object_fit": null,
            "grid_auto_columns": null,
            "margin": null,
            "display": null,
            "left": null
          }
        },
        "ae74f8c695f94c38b328b902217b10d6": {
          "model_module": "@jupyter-widgets/controls",
          "model_name": "DescriptionStyleModel",
          "state": {
            "_view_name": "StyleView",
            "_model_name": "DescriptionStyleModel",
            "description_width": "",
            "_view_module": "@jupyter-widgets/base",
            "_model_module_version": "1.5.0",
            "_view_count": null,
            "_view_module_version": "1.2.0",
            "_model_module": "@jupyter-widgets/controls"
          }
        },
        "ee7314b59b104dc282ae7165fefb1f4d": {
          "model_module": "@jupyter-widgets/base",
          "model_name": "LayoutModel",
          "state": {
            "_view_name": "LayoutView",
            "grid_template_rows": null,
            "right": null,
            "justify_content": null,
            "_view_module": "@jupyter-widgets/base",
            "overflow": null,
            "_model_module_version": "1.2.0",
            "_view_count": null,
            "flex_flow": null,
            "width": null,
            "min_width": null,
            "border": null,
            "align_items": null,
            "bottom": null,
            "_model_module": "@jupyter-widgets/base",
            "top": null,
            "grid_column": null,
            "overflow_y": null,
            "overflow_x": null,
            "grid_auto_flow": null,
            "grid_area": null,
            "grid_template_columns": null,
            "flex": null,
            "_model_name": "LayoutModel",
            "justify_items": null,
            "grid_row": null,
            "max_height": null,
            "align_content": null,
            "visibility": null,
            "align_self": null,
            "height": null,
            "min_height": null,
            "padding": null,
            "grid_auto_rows": null,
            "grid_gap": null,
            "max_width": null,
            "order": null,
            "_view_module_version": "1.2.0",
            "grid_template_areas": null,
            "object_position": null,
            "object_fit": null,
            "grid_auto_columns": null,
            "margin": null,
            "display": null,
            "left": null
          }
        }
      }
    }
  },
  "cells": [
    {
      "cell_type": "markdown",
      "metadata": {
        "id": "ca760690-e1a5-4ed9-8512-ec22e76d5b47"
      },
      "source": [
        "# Neural Collaborative Filtering\n",
        "\n",
        "Recommender systems have benefited from deep learning's success. Today's state-of-the-art recommender systems such as those at YouTube and Amazon are powered by complex deep learning systems, and less so on traditional methods.\n",
        "\n",
        "In this notebook, we will go through the following:\n",
        "\n",
        "- How to create your own deep learning based recommender system using PyTorch Lightning/PyTorch\n",
        "- The difference between implicit and explicit feedback for recommender systems\n",
        "- How to train-test split a dataset for training recommender systems without introducing biases and data leakages\n",
        "- Metrics for evaluating recommender systems (hint: accuracy or RMSE is not appropriate!)\n",
        "\n",
        "\n",
        "\n",
        "[Refer](https://www.kaggle.com/jamesloy/deep-learning-based-recommender-systems)"
      ],
      "id": "ca760690-e1a5-4ed9-8512-ec22e76d5b47"
    },
    {
      "cell_type": "markdown",
      "metadata": {
        "id": "69cd5da3-d1fd-400c-beb6-80ff461efef2"
      },
      "source": [
        "## Building Recommender Systems using Implicit Feedback\n",
        "\n",
        "Before we build our model, it is important to understand the distinction between _implicit_ and _explicit_ feedback in the context of recommender systems, and why __modern recommender systems are built on implicit feedback__.\n",
        "\n",
        "\n",
        "### Explicit Feedback\n",
        "\n",
        "In the context of recommender systems, explicit feedback are __direct__ and __quantitative__ data collected from users.\n",
        "- For example, Amazon allows users to rate purchased items on a scale of 1-10. These ratings are provided directly from users, and the scale allows Amazon to quantify user preference. \n",
        "- Another example of explicit feedback includes the thumbs up button on YouTube, which captures users' explicit preference (i.e. like or dislike) of a particular video.\n",
        "\n",
        "However, __the problem with explicit feedback is that they are rare__. If you think about it, when was the last time you clicked the like button on a YouTube video, or rated your online purchases? Chances are, the amount of videos you watch on YouTube is far greater than the amount of videos that you have explicitly rated.\n",
        "\n",
        "\n",
        "### Implicit Feedback\n",
        "\n",
        "On the other hand, __implicit feedback are collected indirectly from user _interactions___, and they act as a proxy for user preference.\n",
        "- For example. videos that you watch on YouTube are used as implicit feedback to tailor recommendations for you, even if you don't rate the videos explicitly.\n",
        "- Another example of implicit feedback includes the items that you have browsed on Amazon, which are used to suggest other similar items for you.\n",
        "\n",
        "__The advantage of implicit feedback is that it is abundant. Recommender systems built using implicit feedback also allows us to tailor recommendations in real time, with every click and interaction. Today, online recommender systems are built using implicit feedback, which allows the system to tune its recommendation in real-time, with every user interaction__.\n",
        "\n",
        "_However, implicit feedback has its shortcomings as well. Unlike explicit feedback, every interaction is assumed to be positive and we are unable to capture negative preference from users_. How then do we capture negative feedback? One technique that can be applied is negative sampling, which we will go through in a later section."
      ],
      "id": "69cd5da3-d1fd-400c-beb6-80ff461efef2"
    },
    {
      "cell_type": "code",
      "metadata": {
        "id": "5c200a44-07b8-458f-a817-69257f5ccbf7"
      },
      "source": [
        "import pandas as pd\n",
        "import numpy as np\n",
        "import matplotlib.pyplot as plt\n",
        "import seaborn as sns\n",
        "import os\n",
        "\n",
        "import torch\n",
        "import torch.nn as nn\n",
        "from torch.utils.data import Dataset, DataLoader"
      ],
      "id": "5c200a44-07b8-458f-a817-69257f5ccbf7",
      "execution_count": 9,
      "outputs": []
    },
    {
      "cell_type": "code",
      "metadata": {
        "id": "8wKE_nbdIn1o"
      },
      "source": [
        ""
      ],
      "id": "8wKE_nbdIn1o",
      "execution_count": null,
      "outputs": []
    },
    {
      "cell_type": "code",
      "metadata": {
        "colab": {
          "base_uri": "https://localhost:8080/"
        },
        "id": "Af_YE_qkIn_Y",
        "outputId": "e4fca286-022a-4112-ea59-81b336512014"
      },
      "source": [
        "from google.colab import drive\n",
        "drive.mount('/content/drive')"
      ],
      "id": "Af_YE_qkIn_Y",
      "execution_count": 10,
      "outputs": [
        {
          "output_type": "stream",
          "text": [
            "Mounted at /content/drive\n"
          ],
          "name": "stdout"
        }
      ]
    },
    {
      "cell_type": "code",
      "metadata": {
        "id": "3mlI-aQ-IyCG"
      },
      "source": [
        "!cp /content/drive/MyDrive/ratings_small.csv /content"
      ],
      "id": "3mlI-aQ-IyCG",
      "execution_count": 12,
      "outputs": []
    },
    {
      "cell_type": "code",
      "metadata": {
        "id": "OfJUm_rhI51u"
      },
      "source": [
        "!cp /content/drive/MyDrive/movie.csv /content"
      ],
      "id": "OfJUm_rhI51u",
      "execution_count": 13,
      "outputs": []
    },
    {
      "cell_type": "code",
      "metadata": {
        "id": "1f59941d-5f67-475a-87f0-852f2e69a6dc"
      },
      "source": [
        ""
      ],
      "id": "1f59941d-5f67-475a-87f0-852f2e69a6dc",
      "execution_count": null,
      "outputs": []
    },
    {
      "cell_type": "code",
      "metadata": {
        "id": "597e0a93-836c-4cc2-b097-a8c20b217eea"
      },
      "source": [
        "# Read in CSV-\n",
        "# ratings = pd.read_csv(\"rating.csv\", parse_dates = ['timestamp'], nrows = 100000)\n",
        "ratings = pd.read_csv(\"ratings_small.csv\", parse_dates = ['timestamp'])"
      ],
      "id": "597e0a93-836c-4cc2-b097-a8c20b217eea",
      "execution_count": 14,
      "outputs": []
    },
    {
      "cell_type": "code",
      "metadata": {
        "id": "f63b6948-0980-48de-a495-f54f497853e4"
      },
      "source": [
        "# Sort by time stamp-\n",
        "ratings.sort_values(by = 'timestamp', ascending = True, inplace = True)"
      ],
      "id": "f63b6948-0980-48de-a495-f54f497853e4",
      "execution_count": 15,
      "outputs": []
    },
    {
      "cell_type": "code",
      "metadata": {
        "colab": {
          "base_uri": "https://localhost:8080/"
        },
        "id": "100ac160-c439-40b6-96e2-56e1405b47c1",
        "outputId": "51b35301-20b4-40ad-ed90-692f7a276734"
      },
      "source": [
        "ratings.shape\n",
        "# (20000263, 4)"
      ],
      "id": "100ac160-c439-40b6-96e2-56e1405b47c1",
      "execution_count": 16,
      "outputs": [
        {
          "output_type": "execute_result",
          "data": {
            "text/plain": [
              "(100000, 5)"
            ]
          },
          "metadata": {
            "tags": []
          },
          "execution_count": 16
        }
      ]
    },
    {
      "cell_type": "code",
      "metadata": {
        "colab": {
          "base_uri": "https://localhost:8080/"
        },
        "id": "62d7e0f3-803d-4fe8-8609-912c38a5fe6f",
        "outputId": "e9a2eb87-36dd-4a26-e776-7fe24a0f067f"
      },
      "source": [
        "ratings.columns"
      ],
      "id": "62d7e0f3-803d-4fe8-8609-912c38a5fe6f",
      "execution_count": 17,
      "outputs": [
        {
          "output_type": "execute_result",
          "data": {
            "text/plain": [
              "Index(['userId', 'movieId', 'rating', 'timestamp', 'rank_latest'], dtype='object')"
            ]
          },
          "metadata": {
            "tags": []
          },
          "execution_count": 17
        }
      ]
    },
    {
      "cell_type": "code",
      "metadata": {
        "colab": {
          "base_uri": "https://localhost:8080/"
        },
        "id": "8de61914-aa47-4f14-89ee-a2612401cb93",
        "outputId": "b818776e-9a26-4e52-b649-5d32ad8a6e83"
      },
      "source": [
        "ratings.isna().values.any()"
      ],
      "id": "8de61914-aa47-4f14-89ee-a2612401cb93",
      "execution_count": 18,
      "outputs": [
        {
          "output_type": "execute_result",
          "data": {
            "text/plain": [
              "False"
            ]
          },
          "metadata": {
            "tags": []
          },
          "execution_count": 18
        }
      ]
    },
    {
      "cell_type": "code",
      "metadata": {
        "colab": {
          "base_uri": "https://localhost:8080/"
        },
        "id": "945418d6-00b6-4795-a58a-4fef336dfa99",
        "outputId": "eb220f9e-c032-4ef0-8159-669a4cf7e6d3"
      },
      "source": [
        "ratings.isna().sum().sum()"
      ],
      "id": "945418d6-00b6-4795-a58a-4fef336dfa99",
      "execution_count": 19,
      "outputs": [
        {
          "output_type": "execute_result",
          "data": {
            "text/plain": [
              "0"
            ]
          },
          "metadata": {
            "tags": []
          },
          "execution_count": 19
        }
      ]
    },
    {
      "cell_type": "code",
      "metadata": {
        "colab": {
          "base_uri": "https://localhost:8080/"
        },
        "id": "65c72641-9a21-4d19-80bf-1c2ee973125d",
        "outputId": "999f6f92-f906-4c19-bebd-137ad25f9c0e"
      },
      "source": [
        "ratings.info()"
      ],
      "id": "65c72641-9a21-4d19-80bf-1c2ee973125d",
      "execution_count": 20,
      "outputs": [
        {
          "output_type": "stream",
          "text": [
            "<class 'pandas.core.frame.DataFrame'>\n",
            "Int64Index: 100000 entries, 0 to 99999\n",
            "Data columns (total 5 columns):\n",
            " #   Column       Non-Null Count   Dtype         \n",
            "---  ------       --------------   -----         \n",
            " 0   userId       100000 non-null  int64         \n",
            " 1   movieId      100000 non-null  int64         \n",
            " 2   rating       100000 non-null  float64       \n",
            " 3   timestamp    100000 non-null  datetime64[ns]\n",
            " 4   rank_latest  100000 non-null  float64       \n",
            "dtypes: datetime64[ns](1), float64(2), int64(2)\n",
            "memory usage: 4.6 MB\n"
          ],
          "name": "stdout"
        }
      ]
    },
    {
      "cell_type": "code",
      "metadata": {
        "id": "fb80a287-32b8-452d-8204-25a3c8c9b980"
      },
      "source": [
        "# Save 'ratings.csv'-\n",
        "# ratings.to_csv(\"ratings_small.csv\", index = False)"
      ],
      "id": "fb80a287-32b8-452d-8204-25a3c8c9b980",
      "execution_count": null,
      "outputs": []
    },
    {
      "cell_type": "code",
      "metadata": {
        "id": "d884845f-9707-4d12-8769-952aa40b5dff"
      },
      "source": [
        ""
      ],
      "id": "d884845f-9707-4d12-8769-952aa40b5dff",
      "execution_count": null,
      "outputs": []
    },
    {
      "cell_type": "code",
      "metadata": {
        "id": "27aaef20-6769-4243-9d88-03b91dfb6e10"
      },
      "source": [
        ""
      ],
      "id": "27aaef20-6769-4243-9d88-03b91dfb6e10",
      "execution_count": null,
      "outputs": []
    },
    {
      "cell_type": "code",
      "metadata": {
        "id": "6cca2c08-e7ff-4b26-a711-2dd0564d4866",
        "outputId": "27840dae-ea3c-4384-f8db-fbcd80566bd0"
      },
      "source": [
        "# In order to keep memory low, use data randomly selected from 30% of the users in this dataset-\n",
        "'''\n",
        "random_userIds = np.random.choice(\n",
        "    ratings['userId'].unique(), size = int(len(ratings['userId'].unique()) * 0.3),\n",
        "    replace = False\n",
        ")\n",
        "\n",
        "ratings = ratings.loc[ratings['userId'].isin(random_userIds)]\n",
        "\n",
        "print(f\"{len(ratings)} rows of data from {len(random_userIds)} users\")\n",
        "'''"
      ],
      "id": "6cca2c08-e7ff-4b26-a711-2dd0564d4866",
      "execution_count": null,
      "outputs": [
        {
          "output_type": "stream",
          "text": [
            "5975024 rows of data from 41547 users\n"
          ],
          "name": "stdout"
        }
      ]
    },
    {
      "cell_type": "markdown",
      "metadata": {
        "id": "6b537964-2587-420c-9904-1d8225c9cc59"
      },
      "source": [
        "- After filtering the dataset, there are now 5979876 rows of data from 41,547 users\n",
        "- Each row in the dataframe corresponds to a movie review made by a single user."
      ],
      "id": "6b537964-2587-420c-9904-1d8225c9cc59"
    },
    {
      "cell_type": "code",
      "metadata": {
        "id": "083c4201-29e8-42be-8463-0c1bf1f68a79"
      },
      "source": [
        ""
      ],
      "id": "083c4201-29e8-42be-8463-0c1bf1f68a79",
      "execution_count": null,
      "outputs": []
    },
    {
      "cell_type": "code",
      "metadata": {
        "colab": {
          "base_uri": "https://localhost:8080/"
        },
        "id": "03f3834f-48fe-4267-b4b6-60472a9dd1e9",
        "outputId": "71abc3ea-182c-4f1a-bbd0-2416fd349ae6"
      },
      "source": [
        "print(f\"number of users = {ratings['userId'].nunique()} and number of movies = {ratings['movieId'].nunique()}\")"
      ],
      "id": "03f3834f-48fe-4267-b4b6-60472a9dd1e9",
      "execution_count": 21,
      "outputs": [
        {
          "output_type": "stream",
          "text": [
            "number of users = 702 and number of movies = 8227\n"
          ],
          "name": "stdout"
        }
      ]
    },
    {
      "cell_type": "code",
      "metadata": {
        "id": "d1439c87-3db6-4b43-99c3-aceb1e94e1dc"
      },
      "source": [
        "ratings.reset_index(drop = True, inplace = True) "
      ],
      "id": "d1439c87-3db6-4b43-99c3-aceb1e94e1dc",
      "execution_count": 22,
      "outputs": []
    },
    {
      "cell_type": "code",
      "metadata": {
        "id": "57b4f530-c388-42b2-9a87-74e800adcdf9",
        "outputId": "e93da7cb-a208-44b5-9673-a506c7507f57"
      },
      "source": [
        "ratings.head()"
      ],
      "id": "57b4f530-c388-42b2-9a87-74e800adcdf9",
      "execution_count": null,
      "outputs": [
        {
          "output_type": "execute_result",
          "data": {
            "text/html": [
              "<div>\n",
              "<style scoped>\n",
              "    .dataframe tbody tr th:only-of-type {\n",
              "        vertical-align: middle;\n",
              "    }\n",
              "\n",
              "    .dataframe tbody tr th {\n",
              "        vertical-align: top;\n",
              "    }\n",
              "\n",
              "    .dataframe thead th {\n",
              "        text-align: right;\n",
              "    }\n",
              "</style>\n",
              "<table border=\"1\" class=\"dataframe\">\n",
              "  <thead>\n",
              "    <tr style=\"text-align: right;\">\n",
              "      <th></th>\n",
              "      <th>userId</th>\n",
              "      <th>movieId</th>\n",
              "      <th>rating</th>\n",
              "      <th>timestamp</th>\n",
              "    </tr>\n",
              "  </thead>\n",
              "  <tbody>\n",
              "    <tr>\n",
              "      <th>0</th>\n",
              "      <td>491</td>\n",
              "      <td>5</td>\n",
              "      <td>3.0</td>\n",
              "      <td>1996-04-11 15:02:44</td>\n",
              "    </tr>\n",
              "    <tr>\n",
              "      <th>1</th>\n",
              "      <td>491</td>\n",
              "      <td>10</td>\n",
              "      <td>4.0</td>\n",
              "      <td>1996-04-11 15:02:44</td>\n",
              "    </tr>\n",
              "    <tr>\n",
              "      <th>2</th>\n",
              "      <td>491</td>\n",
              "      <td>11</td>\n",
              "      <td>4.0</td>\n",
              "      <td>1996-04-11 15:02:44</td>\n",
              "    </tr>\n",
              "    <tr>\n",
              "      <th>3</th>\n",
              "      <td>491</td>\n",
              "      <td>17</td>\n",
              "      <td>5.0</td>\n",
              "      <td>1996-04-11 15:02:44</td>\n",
              "    </tr>\n",
              "    <tr>\n",
              "      <th>4</th>\n",
              "      <td>491</td>\n",
              "      <td>709</td>\n",
              "      <td>4.0</td>\n",
              "      <td>1996-04-11 15:02:44</td>\n",
              "    </tr>\n",
              "  </tbody>\n",
              "</table>\n",
              "</div>"
            ],
            "text/plain": [
              "   userId  movieId  rating           timestamp\n",
              "0     491        5     3.0 1996-04-11 15:02:44\n",
              "1     491       10     4.0 1996-04-11 15:02:44\n",
              "2     491       11     4.0 1996-04-11 15:02:44\n",
              "3     491       17     5.0 1996-04-11 15:02:44\n",
              "4     491      709     4.0 1996-04-11 15:02:44"
            ]
          },
          "metadata": {
            "tags": []
          },
          "execution_count": 11
        }
      ]
    },
    {
      "cell_type": "code",
      "metadata": {
        "colab": {
          "base_uri": "https://localhost:8080/",
          "height": 237
        },
        "id": "aa8e8e9d-d16b-414d-a589-4a2cdf6f58c2",
        "outputId": "532dd2dc-f2e1-4f39-d02c-476e80fee81e"
      },
      "source": [
        "ratings.sample(6)"
      ],
      "id": "aa8e8e9d-d16b-414d-a589-4a2cdf6f58c2",
      "execution_count": 23,
      "outputs": [
        {
          "output_type": "execute_result",
          "data": {
            "text/html": [
              "<div>\n",
              "<style scoped>\n",
              "    .dataframe tbody tr th:only-of-type {\n",
              "        vertical-align: middle;\n",
              "    }\n",
              "\n",
              "    .dataframe tbody tr th {\n",
              "        vertical-align: top;\n",
              "    }\n",
              "\n",
              "    .dataframe thead th {\n",
              "        text-align: right;\n",
              "    }\n",
              "</style>\n",
              "<table border=\"1\" class=\"dataframe\">\n",
              "  <thead>\n",
              "    <tr style=\"text-align: right;\">\n",
              "      <th></th>\n",
              "      <th>userId</th>\n",
              "      <th>movieId</th>\n",
              "      <th>rating</th>\n",
              "      <th>timestamp</th>\n",
              "      <th>rank_latest</th>\n",
              "    </tr>\n",
              "  </thead>\n",
              "  <tbody>\n",
              "    <tr>\n",
              "      <th>13711</th>\n",
              "      <td>552</td>\n",
              "      <td>1193</td>\n",
              "      <td>5.0</td>\n",
              "      <td>1999-07-26 11:27:28</td>\n",
              "      <td>4.0</td>\n",
              "    </tr>\n",
              "    <tr>\n",
              "      <th>22248</th>\n",
              "      <td>394</td>\n",
              "      <td>1950</td>\n",
              "      <td>5.0</td>\n",
              "      <td>2000-01-16 04:13:57</td>\n",
              "      <td>996.0</td>\n",
              "    </tr>\n",
              "    <tr>\n",
              "      <th>78345</th>\n",
              "      <td>11</td>\n",
              "      <td>53000</td>\n",
              "      <td>5.0</td>\n",
              "      <td>2009-01-01 04:16:37</td>\n",
              "      <td>473.0</td>\n",
              "    </tr>\n",
              "    <tr>\n",
              "      <th>76900</th>\n",
              "      <td>387</td>\n",
              "      <td>1347</td>\n",
              "      <td>3.0</td>\n",
              "      <td>2008-10-11 23:41:14</td>\n",
              "      <td>136.0</td>\n",
              "    </tr>\n",
              "    <tr>\n",
              "      <th>617</th>\n",
              "      <td>607</td>\n",
              "      <td>141</td>\n",
              "      <td>5.0</td>\n",
              "      <td>1996-05-15 08:12:31</td>\n",
              "      <td>11.0</td>\n",
              "    </tr>\n",
              "    <tr>\n",
              "      <th>46917</th>\n",
              "      <td>208</td>\n",
              "      <td>6870</td>\n",
              "      <td>3.5</td>\n",
              "      <td>2003-11-15 18:48:58</td>\n",
              "      <td>662.0</td>\n",
              "    </tr>\n",
              "  </tbody>\n",
              "</table>\n",
              "</div>"
            ],
            "text/plain": [
              "       userId  movieId  rating           timestamp  rank_latest\n",
              "13711     552     1193     5.0 1999-07-26 11:27:28          4.0\n",
              "22248     394     1950     5.0 2000-01-16 04:13:57        996.0\n",
              "78345      11    53000     5.0 2009-01-01 04:16:37        473.0\n",
              "76900     387     1347     3.0 2008-10-11 23:41:14        136.0\n",
              "617       607      141     5.0 1996-05-15 08:12:31         11.0\n",
              "46917     208     6870     3.5 2003-11-15 18:48:58        662.0"
            ]
          },
          "metadata": {
            "tags": []
          },
          "execution_count": 23
        }
      ]
    },
    {
      "cell_type": "code",
      "metadata": {
        "id": "bb031086-de61-4311-880e-e8b00ad4d438"
      },
      "source": [
        ""
      ],
      "id": "bb031086-de61-4311-880e-e8b00ad4d438",
      "execution_count": null,
      "outputs": []
    },
    {
      "cell_type": "code",
      "metadata": {
        "id": "a71ad397-2886-44c3-97c0-85ec081777cc"
      },
      "source": [
        "movie = pd.read_csv(\"movie.csv\")"
      ],
      "id": "a71ad397-2886-44c3-97c0-85ec081777cc",
      "execution_count": 24,
      "outputs": []
    },
    {
      "cell_type": "code",
      "metadata": {
        "colab": {
          "base_uri": "https://localhost:8080/"
        },
        "id": "5c981f5e-733c-4cfd-a714-c01b3658aa0d",
        "outputId": "76e4dc7b-466a-4a03-e840-946dfd1b9514"
      },
      "source": [
        "movie.shape"
      ],
      "id": "5c981f5e-733c-4cfd-a714-c01b3658aa0d",
      "execution_count": 25,
      "outputs": [
        {
          "output_type": "execute_result",
          "data": {
            "text/plain": [
              "(27278, 3)"
            ]
          },
          "metadata": {
            "tags": []
          },
          "execution_count": 25
        }
      ]
    },
    {
      "cell_type": "code",
      "metadata": {
        "colab": {
          "base_uri": "https://localhost:8080/",
          "height": 206
        },
        "id": "294ea00a-be24-4f53-bfc1-e88bee49bd04",
        "outputId": "9f6456c2-70cd-4c07-f96c-745946aeff9d"
      },
      "source": [
        "movie.head()"
      ],
      "id": "294ea00a-be24-4f53-bfc1-e88bee49bd04",
      "execution_count": 26,
      "outputs": [
        {
          "output_type": "execute_result",
          "data": {
            "text/html": [
              "<div>\n",
              "<style scoped>\n",
              "    .dataframe tbody tr th:only-of-type {\n",
              "        vertical-align: middle;\n",
              "    }\n",
              "\n",
              "    .dataframe tbody tr th {\n",
              "        vertical-align: top;\n",
              "    }\n",
              "\n",
              "    .dataframe thead th {\n",
              "        text-align: right;\n",
              "    }\n",
              "</style>\n",
              "<table border=\"1\" class=\"dataframe\">\n",
              "  <thead>\n",
              "    <tr style=\"text-align: right;\">\n",
              "      <th></th>\n",
              "      <th>movieId</th>\n",
              "      <th>title</th>\n",
              "      <th>genres</th>\n",
              "    </tr>\n",
              "  </thead>\n",
              "  <tbody>\n",
              "    <tr>\n",
              "      <th>0</th>\n",
              "      <td>1</td>\n",
              "      <td>Toy Story (1995)</td>\n",
              "      <td>Adventure|Animation|Children|Comedy|Fantasy</td>\n",
              "    </tr>\n",
              "    <tr>\n",
              "      <th>1</th>\n",
              "      <td>2</td>\n",
              "      <td>Jumanji (1995)</td>\n",
              "      <td>Adventure|Children|Fantasy</td>\n",
              "    </tr>\n",
              "    <tr>\n",
              "      <th>2</th>\n",
              "      <td>3</td>\n",
              "      <td>Grumpier Old Men (1995)</td>\n",
              "      <td>Comedy|Romance</td>\n",
              "    </tr>\n",
              "    <tr>\n",
              "      <th>3</th>\n",
              "      <td>4</td>\n",
              "      <td>Waiting to Exhale (1995)</td>\n",
              "      <td>Comedy|Drama|Romance</td>\n",
              "    </tr>\n",
              "    <tr>\n",
              "      <th>4</th>\n",
              "      <td>5</td>\n",
              "      <td>Father of the Bride Part II (1995)</td>\n",
              "      <td>Comedy</td>\n",
              "    </tr>\n",
              "  </tbody>\n",
              "</table>\n",
              "</div>"
            ],
            "text/plain": [
              "   movieId  ...                                       genres\n",
              "0        1  ...  Adventure|Animation|Children|Comedy|Fantasy\n",
              "1        2  ...                   Adventure|Children|Fantasy\n",
              "2        3  ...                               Comedy|Romance\n",
              "3        4  ...                         Comedy|Drama|Romance\n",
              "4        5  ...                                       Comedy\n",
              "\n",
              "[5 rows x 3 columns]"
            ]
          },
          "metadata": {
            "tags": []
          },
          "execution_count": 26
        }
      ]
    },
    {
      "cell_type": "code",
      "metadata": {
        "id": "84038968-8ca0-4715-8d64-a85fce1c4992"
      },
      "source": [
        "# Merge 'movie' and 'ratings' pd DataFrames-\n",
        "combined = pd.merge(ratings, movie, on = 'movieId', how = 'inner')"
      ],
      "id": "84038968-8ca0-4715-8d64-a85fce1c4992",
      "execution_count": 27,
      "outputs": []
    },
    {
      "cell_type": "code",
      "metadata": {
        "colab": {
          "base_uri": "https://localhost:8080/"
        },
        "id": "3ed74bbb-2e1b-4cf2-86bd-d86c28f65280",
        "outputId": "5f0d6b13-335e-4d22-c7ad-6cfeafcede13"
      },
      "source": [
        "combined.shape, ratings.shape, movie.shape"
      ],
      "id": "3ed74bbb-2e1b-4cf2-86bd-d86c28f65280",
      "execution_count": 28,
      "outputs": [
        {
          "output_type": "execute_result",
          "data": {
            "text/plain": [
              "((100000, 7), (100000, 5), (27278, 3))"
            ]
          },
          "metadata": {
            "tags": []
          },
          "execution_count": 28
        }
      ]
    },
    {
      "cell_type": "code",
      "metadata": {
        "colab": {
          "base_uri": "https://localhost:8080/",
          "height": 206
        },
        "id": "82beae7c-fd10-42a9-9eaa-2184ef1b1294",
        "outputId": "ffeba88e-fa3f-4a26-8a41-29e7b39ff95f"
      },
      "source": [
        "combined.head()"
      ],
      "id": "82beae7c-fd10-42a9-9eaa-2184ef1b1294",
      "execution_count": 29,
      "outputs": [
        {
          "output_type": "execute_result",
          "data": {
            "text/html": [
              "<div>\n",
              "<style scoped>\n",
              "    .dataframe tbody tr th:only-of-type {\n",
              "        vertical-align: middle;\n",
              "    }\n",
              "\n",
              "    .dataframe tbody tr th {\n",
              "        vertical-align: top;\n",
              "    }\n",
              "\n",
              "    .dataframe thead th {\n",
              "        text-align: right;\n",
              "    }\n",
              "</style>\n",
              "<table border=\"1\" class=\"dataframe\">\n",
              "  <thead>\n",
              "    <tr style=\"text-align: right;\">\n",
              "      <th></th>\n",
              "      <th>userId</th>\n",
              "      <th>movieId</th>\n",
              "      <th>rating</th>\n",
              "      <th>timestamp</th>\n",
              "      <th>rank_latest</th>\n",
              "      <th>title</th>\n",
              "      <th>genres</th>\n",
              "    </tr>\n",
              "  </thead>\n",
              "  <tbody>\n",
              "    <tr>\n",
              "      <th>0</th>\n",
              "      <td>491</td>\n",
              "      <td>5</td>\n",
              "      <td>3.0</td>\n",
              "      <td>1996-04-11 15:02:44</td>\n",
              "      <td>27.0</td>\n",
              "      <td>Father of the Bride Part II (1995)</td>\n",
              "      <td>Comedy</td>\n",
              "    </tr>\n",
              "    <tr>\n",
              "      <th>1</th>\n",
              "      <td>524</td>\n",
              "      <td>5</td>\n",
              "      <td>4.0</td>\n",
              "      <td>1996-04-22 08:13:13</td>\n",
              "      <td>12.0</td>\n",
              "      <td>Father of the Bride Part II (1995)</td>\n",
              "      <td>Comedy</td>\n",
              "    </tr>\n",
              "    <tr>\n",
              "      <th>2</th>\n",
              "      <td>591</td>\n",
              "      <td>5</td>\n",
              "      <td>5.0</td>\n",
              "      <td>1996-06-19 13:46:00</td>\n",
              "      <td>2.0</td>\n",
              "      <td>Father of the Bride Part II (1995)</td>\n",
              "      <td>Comedy</td>\n",
              "    </tr>\n",
              "    <tr>\n",
              "      <th>3</th>\n",
              "      <td>390</td>\n",
              "      <td>5</td>\n",
              "      <td>5.0</td>\n",
              "      <td>1996-06-30 12:59:43</td>\n",
              "      <td>42.0</td>\n",
              "      <td>Father of the Bride Part II (1995)</td>\n",
              "      <td>Comedy</td>\n",
              "    </tr>\n",
              "    <tr>\n",
              "      <th>4</th>\n",
              "      <td>509</td>\n",
              "      <td>5</td>\n",
              "      <td>5.0</td>\n",
              "      <td>1996-07-13 09:11:58</td>\n",
              "      <td>55.0</td>\n",
              "      <td>Father of the Bride Part II (1995)</td>\n",
              "      <td>Comedy</td>\n",
              "    </tr>\n",
              "  </tbody>\n",
              "</table>\n",
              "</div>"
            ],
            "text/plain": [
              "   userId  movieId  ...                               title  genres\n",
              "0     491        5  ...  Father of the Bride Part II (1995)  Comedy\n",
              "1     524        5  ...  Father of the Bride Part II (1995)  Comedy\n",
              "2     591        5  ...  Father of the Bride Part II (1995)  Comedy\n",
              "3     390        5  ...  Father of the Bride Part II (1995)  Comedy\n",
              "4     509        5  ...  Father of the Bride Part II (1995)  Comedy\n",
              "\n",
              "[5 rows x 7 columns]"
            ]
          },
          "metadata": {
            "tags": []
          },
          "execution_count": 29
        }
      ]
    },
    {
      "cell_type": "code",
      "metadata": {
        "id": "4c15869b-df68-46ce-93c7-b6da37837050"
      },
      "source": [
        ""
      ],
      "id": "4c15869b-df68-46ce-93c7-b6da37837050",
      "execution_count": null,
      "outputs": []
    },
    {
      "cell_type": "code",
      "metadata": {
        "id": "491013fc-1ece-4390-a74a-fd10c1189123"
      },
      "source": [
        ""
      ],
      "id": "491013fc-1ece-4390-a74a-fd10c1189123",
      "execution_count": null,
      "outputs": []
    },
    {
      "cell_type": "markdown",
      "metadata": {
        "id": "2480a1a2-7c15-4ae6-a082-5959ade4d60b"
      },
      "source": [
        "## Train-test split:\n",
        "\n",
        "Along with the rating, there is also a timestamp column that shows the date and time the review was submitted. Using the timestamp column, we will implement our train-test split strategy using the __leave-one-out methodology. For each user, the most recent review is used as the test set (i.e. leave one out), while the rest will be used as training data__.\n",
        "\n",
        "To illustrate this, the movies reviewed by user 39,849 is shown below. The last movie reviewed by the user is the 2014 hit movie _Guardians of The Galaxy_. We'll use this movie as the testing data for this user, and use the rest of the reviewed movies as training data.\n",
        "\n",
        "NOTE: There is no user with userId = 39849, hence userId = 57814 is shown instead having 128 reviews."
      ],
      "id": "2480a1a2-7c15-4ae6-a082-5959ade4d60b"
    },
    {
      "cell_type": "code",
      "metadata": {
        "id": "f78d93b9-9af9-405d-93ee-0a6fa4633cf7"
      },
      "source": [
        "# ratings[ratings['userId'] == 491]"
      ],
      "id": "f78d93b9-9af9-405d-93ee-0a6fa4633cf7",
      "execution_count": null,
      "outputs": []
    },
    {
      "cell_type": "code",
      "metadata": {
        "colab": {
          "base_uri": "https://localhost:8080/",
          "height": 1000
        },
        "id": "cc4ed90f-470e-4b04-a148-82513a1f5eb9",
        "outputId": "d1b3f233-0c57-4ab0-8dad-fc6459bb8cb9"
      },
      "source": [
        "# ratings[ratings['userId'] == 491]\n",
        "combined[combined['userId'] == 491]"
      ],
      "id": "cc4ed90f-470e-4b04-a148-82513a1f5eb9",
      "execution_count": 30,
      "outputs": [
        {
          "output_type": "execute_result",
          "data": {
            "text/html": [
              "<div>\n",
              "<style scoped>\n",
              "    .dataframe tbody tr th:only-of-type {\n",
              "        vertical-align: middle;\n",
              "    }\n",
              "\n",
              "    .dataframe tbody tr th {\n",
              "        vertical-align: top;\n",
              "    }\n",
              "\n",
              "    .dataframe thead th {\n",
              "        text-align: right;\n",
              "    }\n",
              "</style>\n",
              "<table border=\"1\" class=\"dataframe\">\n",
              "  <thead>\n",
              "    <tr style=\"text-align: right;\">\n",
              "      <th></th>\n",
              "      <th>userId</th>\n",
              "      <th>movieId</th>\n",
              "      <th>rating</th>\n",
              "      <th>timestamp</th>\n",
              "      <th>rank_latest</th>\n",
              "      <th>title</th>\n",
              "      <th>genres</th>\n",
              "    </tr>\n",
              "  </thead>\n",
              "  <tbody>\n",
              "    <tr>\n",
              "      <th>0</th>\n",
              "      <td>491</td>\n",
              "      <td>5</td>\n",
              "      <td>3.0</td>\n",
              "      <td>1996-04-11 15:02:44</td>\n",
              "      <td>27.0</td>\n",
              "      <td>Father of the Bride Part II (1995)</td>\n",
              "      <td>Comedy</td>\n",
              "    </tr>\n",
              "    <tr>\n",
              "      <th>69</th>\n",
              "      <td>491</td>\n",
              "      <td>10</td>\n",
              "      <td>4.0</td>\n",
              "      <td>1996-04-11 15:02:44</td>\n",
              "      <td>28.0</td>\n",
              "      <td>GoldenEye (1995)</td>\n",
              "      <td>Action|Adventure|Thriller</td>\n",
              "    </tr>\n",
              "    <tr>\n",
              "      <th>207</th>\n",
              "      <td>491</td>\n",
              "      <td>11</td>\n",
              "      <td>4.0</td>\n",
              "      <td>1996-04-11 15:02:44</td>\n",
              "      <td>29.0</td>\n",
              "      <td>American President, The (1995)</td>\n",
              "      <td>Comedy|Drama|Romance</td>\n",
              "    </tr>\n",
              "    <tr>\n",
              "      <th>305</th>\n",
              "      <td>491</td>\n",
              "      <td>17</td>\n",
              "      <td>5.0</td>\n",
              "      <td>1996-04-11 15:02:44</td>\n",
              "      <td>30.0</td>\n",
              "      <td>Sense and Sensibility (1995)</td>\n",
              "      <td>Drama|Romance</td>\n",
              "    </tr>\n",
              "    <tr>\n",
              "      <th>404</th>\n",
              "      <td>491</td>\n",
              "      <td>709</td>\n",
              "      <td>4.0</td>\n",
              "      <td>1996-04-11 15:02:44</td>\n",
              "      <td>31.0</td>\n",
              "      <td>Oliver &amp; Company (1988)</td>\n",
              "      <td>Adventure|Animation|Children|Comedy|Musical</td>\n",
              "    </tr>\n",
              "    <tr>\n",
              "      <th>415</th>\n",
              "      <td>491</td>\n",
              "      <td>62</td>\n",
              "      <td>4.0</td>\n",
              "      <td>1996-04-11 15:02:44</td>\n",
              "      <td>32.0</td>\n",
              "      <td>Mr. Holland's Opus (1995)</td>\n",
              "      <td>Drama</td>\n",
              "    </tr>\n",
              "    <tr>\n",
              "      <th>515</th>\n",
              "      <td>491</td>\n",
              "      <td>494</td>\n",
              "      <td>4.0</td>\n",
              "      <td>1996-04-11 15:02:44</td>\n",
              "      <td>33.0</td>\n",
              "      <td>Executive Decision (1996)</td>\n",
              "      <td>Action|Adventure|Thriller</td>\n",
              "    </tr>\n",
              "    <tr>\n",
              "      <th>1105</th>\n",
              "      <td>491</td>\n",
              "      <td>39</td>\n",
              "      <td>4.0</td>\n",
              "      <td>1996-04-16 17:44:13</td>\n",
              "      <td>25.0</td>\n",
              "      <td>Clueless (1995)</td>\n",
              "      <td>Comedy|Romance</td>\n",
              "    </tr>\n",
              "    <tr>\n",
              "      <th>1308</th>\n",
              "      <td>491</td>\n",
              "      <td>165</td>\n",
              "      <td>4.0</td>\n",
              "      <td>1996-04-16 17:44:13</td>\n",
              "      <td>10.0</td>\n",
              "      <td>Die Hard: With a Vengeance (1995)</td>\n",
              "      <td>Action|Crime|Thriller</td>\n",
              "    </tr>\n",
              "    <tr>\n",
              "      <th>1472</th>\n",
              "      <td>491</td>\n",
              "      <td>110</td>\n",
              "      <td>4.0</td>\n",
              "      <td>1996-04-16 17:44:13</td>\n",
              "      <td>14.0</td>\n",
              "      <td>Braveheart (1995)</td>\n",
              "      <td>Action|Drama|War</td>\n",
              "    </tr>\n",
              "    <tr>\n",
              "      <th>2537</th>\n",
              "      <td>491</td>\n",
              "      <td>150</td>\n",
              "      <td>4.0</td>\n",
              "      <td>1996-04-16 17:44:13</td>\n",
              "      <td>11.0</td>\n",
              "      <td>Apollo 13 (1995)</td>\n",
              "      <td>Adventure|Drama|IMAX</td>\n",
              "    </tr>\n",
              "    <tr>\n",
              "      <th>2772</th>\n",
              "      <td>491</td>\n",
              "      <td>344</td>\n",
              "      <td>2.0</td>\n",
              "      <td>1996-04-16 17:44:13</td>\n",
              "      <td>17.0</td>\n",
              "      <td>Ace Ventura: Pet Detective (1994)</td>\n",
              "      <td>Comedy</td>\n",
              "    </tr>\n",
              "    <tr>\n",
              "      <th>3105</th>\n",
              "      <td>491</td>\n",
              "      <td>161</td>\n",
              "      <td>4.0</td>\n",
              "      <td>1996-04-16 17:44:13</td>\n",
              "      <td>19.0</td>\n",
              "      <td>Crimson Tide (1995)</td>\n",
              "      <td>Drama|Thriller|War</td>\n",
              "    </tr>\n",
              "    <tr>\n",
              "      <th>3226</th>\n",
              "      <td>491</td>\n",
              "      <td>158</td>\n",
              "      <td>3.0</td>\n",
              "      <td>1996-04-16 17:44:13</td>\n",
              "      <td>26.0</td>\n",
              "      <td>Casper (1995)</td>\n",
              "      <td>Adventure|Children</td>\n",
              "    </tr>\n",
              "    <tr>\n",
              "      <th>3516</th>\n",
              "      <td>491</td>\n",
              "      <td>34</td>\n",
              "      <td>5.0</td>\n",
              "      <td>1996-04-16 17:44:13</td>\n",
              "      <td>24.0</td>\n",
              "      <td>Babe (1995)</td>\n",
              "      <td>Children|Drama</td>\n",
              "    </tr>\n",
              "    <tr>\n",
              "      <th>3800</th>\n",
              "      <td>491</td>\n",
              "      <td>349</td>\n",
              "      <td>4.0</td>\n",
              "      <td>1996-04-16 17:44:13</td>\n",
              "      <td>18.0</td>\n",
              "      <td>Clear and Present Danger (1994)</td>\n",
              "      <td>Action|Crime|Drama|Thriller</td>\n",
              "    </tr>\n",
              "    <tr>\n",
              "      <th>4647</th>\n",
              "      <td>491</td>\n",
              "      <td>231</td>\n",
              "      <td>1.0</td>\n",
              "      <td>1996-04-16 17:44:13</td>\n",
              "      <td>12.0</td>\n",
              "      <td>Dumb &amp; Dumber (Dumb and Dumber) (1994)</td>\n",
              "      <td>Adventure|Comedy</td>\n",
              "    </tr>\n",
              "    <tr>\n",
              "      <th>5314</th>\n",
              "      <td>491</td>\n",
              "      <td>339</td>\n",
              "      <td>4.0</td>\n",
              "      <td>1996-04-16 17:44:14</td>\n",
              "      <td>8.0</td>\n",
              "      <td>While You Were Sleeping (1995)</td>\n",
              "      <td>Comedy|Romance</td>\n",
              "    </tr>\n",
              "    <tr>\n",
              "      <th>6081</th>\n",
              "      <td>491</td>\n",
              "      <td>296</td>\n",
              "      <td>4.0</td>\n",
              "      <td>1996-04-16 17:44:14</td>\n",
              "      <td>6.0</td>\n",
              "      <td>Pulp Fiction (1994)</td>\n",
              "      <td>Comedy|Crime|Drama|Thriller</td>\n",
              "    </tr>\n",
              "    <tr>\n",
              "      <th>6517</th>\n",
              "      <td>491</td>\n",
              "      <td>208</td>\n",
              "      <td>3.0</td>\n",
              "      <td>1996-04-16 17:44:14</td>\n",
              "      <td>4.0</td>\n",
              "      <td>Waterworld (1995)</td>\n",
              "      <td>Action|Adventure|Sci-Fi</td>\n",
              "    </tr>\n",
              "    <tr>\n",
              "      <th>6769</th>\n",
              "      <td>491</td>\n",
              "      <td>186</td>\n",
              "      <td>3.0</td>\n",
              "      <td>1996-04-16 17:44:14</td>\n",
              "      <td>9.0</td>\n",
              "      <td>Nine Months (1995)</td>\n",
              "      <td>Comedy|Romance</td>\n",
              "    </tr>\n",
              "    <tr>\n",
              "      <th>7118</th>\n",
              "      <td>491</td>\n",
              "      <td>588</td>\n",
              "      <td>4.0</td>\n",
              "      <td>1996-04-16 17:44:13</td>\n",
              "      <td>22.0</td>\n",
              "      <td>Aladdin (1992)</td>\n",
              "      <td>Adventure|Animation|Children|Comedy|Musical</td>\n",
              "    </tr>\n",
              "    <tr>\n",
              "      <th>7319</th>\n",
              "      <td>491</td>\n",
              "      <td>468</td>\n",
              "      <td>4.0</td>\n",
              "      <td>1996-04-16 17:44:13</td>\n",
              "      <td>21.0</td>\n",
              "      <td>Englishman Who Went Up a Hill But Came Down a ...</td>\n",
              "      <td>Comedy|Romance</td>\n",
              "    </tr>\n",
              "    <tr>\n",
              "      <th>7365</th>\n",
              "      <td>491</td>\n",
              "      <td>417</td>\n",
              "      <td>3.0</td>\n",
              "      <td>1996-04-16 17:44:13</td>\n",
              "      <td>20.0</td>\n",
              "      <td>Barcelona (1994)</td>\n",
              "      <td>Comedy|Romance</td>\n",
              "    </tr>\n",
              "    <tr>\n",
              "      <th>7386</th>\n",
              "      <td>491</td>\n",
              "      <td>590</td>\n",
              "      <td>5.0</td>\n",
              "      <td>1996-04-16 17:44:13</td>\n",
              "      <td>23.0</td>\n",
              "      <td>Dances with Wolves (1990)</td>\n",
              "      <td>Adventure|Drama|Western</td>\n",
              "    </tr>\n",
              "    <tr>\n",
              "      <th>7602</th>\n",
              "      <td>491</td>\n",
              "      <td>343</td>\n",
              "      <td>2.0</td>\n",
              "      <td>1996-04-16 17:44:13</td>\n",
              "      <td>16.0</td>\n",
              "      <td>Baby-Sitters Club, The (1995)</td>\n",
              "      <td>Children</td>\n",
              "    </tr>\n",
              "    <tr>\n",
              "      <th>7608</th>\n",
              "      <td>491</td>\n",
              "      <td>351</td>\n",
              "      <td>4.0</td>\n",
              "      <td>1996-04-16 17:44:13</td>\n",
              "      <td>15.0</td>\n",
              "      <td>Corrina, Corrina (1994)</td>\n",
              "      <td>Comedy|Drama|Romance</td>\n",
              "    </tr>\n",
              "    <tr>\n",
              "      <th>7628</th>\n",
              "      <td>491</td>\n",
              "      <td>238</td>\n",
              "      <td>2.0</td>\n",
              "      <td>1996-04-16 17:44:13</td>\n",
              "      <td>13.0</td>\n",
              "      <td>Far From Home: The Adventures of Yellow Dog (1...</td>\n",
              "      <td>Adventure|Children</td>\n",
              "    </tr>\n",
              "    <tr>\n",
              "      <th>7632</th>\n",
              "      <td>491</td>\n",
              "      <td>319</td>\n",
              "      <td>1.0</td>\n",
              "      <td>1996-04-16 17:44:14</td>\n",
              "      <td>7.0</td>\n",
              "      <td>Shallow Grave (1994)</td>\n",
              "      <td>Comedy|Drama|Thriller</td>\n",
              "    </tr>\n",
              "    <tr>\n",
              "      <th>7667</th>\n",
              "      <td>491</td>\n",
              "      <td>249</td>\n",
              "      <td>4.0</td>\n",
              "      <td>1996-04-16 17:44:14</td>\n",
              "      <td>5.0</td>\n",
              "      <td>Immortal Beloved (1994)</td>\n",
              "      <td>Drama|Romance</td>\n",
              "    </tr>\n",
              "    <tr>\n",
              "      <th>7689</th>\n",
              "      <td>491</td>\n",
              "      <td>272</td>\n",
              "      <td>5.0</td>\n",
              "      <td>1996-04-16 17:44:14</td>\n",
              "      <td>3.0</td>\n",
              "      <td>Madness of King George, The (1994)</td>\n",
              "      <td>Comedy|Drama</td>\n",
              "    </tr>\n",
              "    <tr>\n",
              "      <th>7732</th>\n",
              "      <td>491</td>\n",
              "      <td>151</td>\n",
              "      <td>4.0</td>\n",
              "      <td>1996-04-16 17:44:14</td>\n",
              "      <td>2.0</td>\n",
              "      <td>Rob Roy (1995)</td>\n",
              "      <td>Action|Drama|Romance|War</td>\n",
              "    </tr>\n",
              "    <tr>\n",
              "      <th>7802</th>\n",
              "      <td>491</td>\n",
              "      <td>50</td>\n",
              "      <td>4.0</td>\n",
              "      <td>1996-04-16 17:44:14</td>\n",
              "      <td>1.0</td>\n",
              "      <td>Usual Suspects, The (1995)</td>\n",
              "      <td>Crime|Mystery|Thriller</td>\n",
              "    </tr>\n",
              "  </tbody>\n",
              "</table>\n",
              "</div>"
            ],
            "text/plain": [
              "      userId  ...                                       genres\n",
              "0        491  ...                                       Comedy\n",
              "69       491  ...                    Action|Adventure|Thriller\n",
              "207      491  ...                         Comedy|Drama|Romance\n",
              "305      491  ...                                Drama|Romance\n",
              "404      491  ...  Adventure|Animation|Children|Comedy|Musical\n",
              "415      491  ...                                        Drama\n",
              "515      491  ...                    Action|Adventure|Thriller\n",
              "1105     491  ...                               Comedy|Romance\n",
              "1308     491  ...                        Action|Crime|Thriller\n",
              "1472     491  ...                             Action|Drama|War\n",
              "2537     491  ...                         Adventure|Drama|IMAX\n",
              "2772     491  ...                                       Comedy\n",
              "3105     491  ...                           Drama|Thriller|War\n",
              "3226     491  ...                           Adventure|Children\n",
              "3516     491  ...                               Children|Drama\n",
              "3800     491  ...                  Action|Crime|Drama|Thriller\n",
              "4647     491  ...                             Adventure|Comedy\n",
              "5314     491  ...                               Comedy|Romance\n",
              "6081     491  ...                  Comedy|Crime|Drama|Thriller\n",
              "6517     491  ...                      Action|Adventure|Sci-Fi\n",
              "6769     491  ...                               Comedy|Romance\n",
              "7118     491  ...  Adventure|Animation|Children|Comedy|Musical\n",
              "7319     491  ...                               Comedy|Romance\n",
              "7365     491  ...                               Comedy|Romance\n",
              "7386     491  ...                      Adventure|Drama|Western\n",
              "7602     491  ...                                     Children\n",
              "7608     491  ...                         Comedy|Drama|Romance\n",
              "7628     491  ...                           Adventure|Children\n",
              "7632     491  ...                        Comedy|Drama|Thriller\n",
              "7667     491  ...                                Drama|Romance\n",
              "7689     491  ...                                 Comedy|Drama\n",
              "7732     491  ...                     Action|Drama|Romance|War\n",
              "7802     491  ...                       Crime|Mystery|Thriller\n",
              "\n",
              "[33 rows x 7 columns]"
            ]
          },
          "metadata": {
            "tags": []
          },
          "execution_count": 30
        }
      ]
    },
    {
      "cell_type": "code",
      "metadata": {
        "colab": {
          "base_uri": "https://localhost:8080/"
        },
        "id": "a1b8cf5b-e637-4854-b80c-a37d80cc38a1",
        "outputId": "20e6330e-be92-44d5-d5fd-77211b4a5f7f"
      },
      "source": [
        "combined.loc[combined['userId'] == 491, 'title']"
      ],
      "id": "a1b8cf5b-e637-4854-b80c-a37d80cc38a1",
      "execution_count": 31,
      "outputs": [
        {
          "output_type": "execute_result",
          "data": {
            "text/plain": [
              "0                      Father of the Bride Part II (1995)\n",
              "69                                       GoldenEye (1995)\n",
              "207                        American President, The (1995)\n",
              "305                          Sense and Sensibility (1995)\n",
              "404                               Oliver & Company (1988)\n",
              "415                             Mr. Holland's Opus (1995)\n",
              "515                             Executive Decision (1996)\n",
              "1105                                      Clueless (1995)\n",
              "1308                    Die Hard: With a Vengeance (1995)\n",
              "1472                                    Braveheart (1995)\n",
              "2537                                     Apollo 13 (1995)\n",
              "2772                    Ace Ventura: Pet Detective (1994)\n",
              "3105                                  Crimson Tide (1995)\n",
              "3226                                        Casper (1995)\n",
              "3516                                          Babe (1995)\n",
              "3800                      Clear and Present Danger (1994)\n",
              "4647               Dumb & Dumber (Dumb and Dumber) (1994)\n",
              "5314                       While You Were Sleeping (1995)\n",
              "6081                                  Pulp Fiction (1994)\n",
              "6517                                    Waterworld (1995)\n",
              "6769                                   Nine Months (1995)\n",
              "7118                                       Aladdin (1992)\n",
              "7319    Englishman Who Went Up a Hill But Came Down a ...\n",
              "7365                                     Barcelona (1994)\n",
              "7386                            Dances with Wolves (1990)\n",
              "7602                        Baby-Sitters Club, The (1995)\n",
              "7608                              Corrina, Corrina (1994)\n",
              "7628    Far From Home: The Adventures of Yellow Dog (1...\n",
              "7632                                 Shallow Grave (1994)\n",
              "7667                              Immortal Beloved (1994)\n",
              "7689                   Madness of King George, The (1994)\n",
              "7732                                       Rob Roy (1995)\n",
              "7802                           Usual Suspects, The (1995)\n",
              "Name: title, dtype: object"
            ]
          },
          "metadata": {
            "tags": []
          },
          "execution_count": 31
        }
      ]
    },
    {
      "cell_type": "markdown",
      "metadata": {
        "id": "c16b56d6-882d-4b2b-a84c-6307bb1d427a"
      },
      "source": [
        "The last movie reviewed by the user is the 1995 movie _The Usual Suspects_. We will use this movie as the testing data for this user, and use the rest of the reviewed movies as training data."
      ],
      "id": "c16b56d6-882d-4b2b-a84c-6307bb1d427a"
    },
    {
      "cell_type": "markdown",
      "metadata": {
        "id": "f0a00baa-a8ae-449c-a5bf-879ee328f317"
      },
      "source": [
        "__This train-test split strategy is often used when training and evaluating recommender systems. Doing a random split would not be fair, as we could potentially be using a user's recent reviews for training and earlier reviews for testing. This introduces data leakage with a look-ahead bias, and the performance of the trained model would not be generalizable to\n",
        "real-world performance.__\n",
        "\n",
        "The code below will split our ratings dataset into a train and test set using the __leave-one-out methodology__:"
      ],
      "id": "f0a00baa-a8ae-449c-a5bf-879ee328f317"
    },
    {
      "cell_type": "code",
      "metadata": {
        "id": "69dc8bcf-d386-4f9a-ab41-df4b50b8ac4b"
      },
      "source": [
        "ratings['rank_latest'] = ratings.groupby(['userId'])['timestamp'].rank(method = 'first', ascending = False)"
      ],
      "id": "69dc8bcf-d386-4f9a-ab41-df4b50b8ac4b",
      "execution_count": 32,
      "outputs": []
    },
    {
      "cell_type": "code",
      "metadata": {
        "colab": {
          "base_uri": "https://localhost:8080/",
          "height": 206
        },
        "id": "d4b08357-48c8-4393-ba36-dcc18b7ba0cc",
        "outputId": "27b03ded-1007-4ad1-c862-e63db6fe2923"
      },
      "source": [
        "ratings.head()"
      ],
      "id": "d4b08357-48c8-4393-ba36-dcc18b7ba0cc",
      "execution_count": 33,
      "outputs": [
        {
          "output_type": "execute_result",
          "data": {
            "text/html": [
              "<div>\n",
              "<style scoped>\n",
              "    .dataframe tbody tr th:only-of-type {\n",
              "        vertical-align: middle;\n",
              "    }\n",
              "\n",
              "    .dataframe tbody tr th {\n",
              "        vertical-align: top;\n",
              "    }\n",
              "\n",
              "    .dataframe thead th {\n",
              "        text-align: right;\n",
              "    }\n",
              "</style>\n",
              "<table border=\"1\" class=\"dataframe\">\n",
              "  <thead>\n",
              "    <tr style=\"text-align: right;\">\n",
              "      <th></th>\n",
              "      <th>userId</th>\n",
              "      <th>movieId</th>\n",
              "      <th>rating</th>\n",
              "      <th>timestamp</th>\n",
              "      <th>rank_latest</th>\n",
              "    </tr>\n",
              "  </thead>\n",
              "  <tbody>\n",
              "    <tr>\n",
              "      <th>0</th>\n",
              "      <td>491</td>\n",
              "      <td>5</td>\n",
              "      <td>3.0</td>\n",
              "      <td>1996-04-11 15:02:44</td>\n",
              "      <td>27.0</td>\n",
              "    </tr>\n",
              "    <tr>\n",
              "      <th>1</th>\n",
              "      <td>491</td>\n",
              "      <td>10</td>\n",
              "      <td>4.0</td>\n",
              "      <td>1996-04-11 15:02:44</td>\n",
              "      <td>28.0</td>\n",
              "    </tr>\n",
              "    <tr>\n",
              "      <th>2</th>\n",
              "      <td>491</td>\n",
              "      <td>11</td>\n",
              "      <td>4.0</td>\n",
              "      <td>1996-04-11 15:02:44</td>\n",
              "      <td>29.0</td>\n",
              "    </tr>\n",
              "    <tr>\n",
              "      <th>3</th>\n",
              "      <td>491</td>\n",
              "      <td>17</td>\n",
              "      <td>5.0</td>\n",
              "      <td>1996-04-11 15:02:44</td>\n",
              "      <td>30.0</td>\n",
              "    </tr>\n",
              "    <tr>\n",
              "      <th>4</th>\n",
              "      <td>491</td>\n",
              "      <td>709</td>\n",
              "      <td>4.0</td>\n",
              "      <td>1996-04-11 15:02:44</td>\n",
              "      <td>31.0</td>\n",
              "    </tr>\n",
              "  </tbody>\n",
              "</table>\n",
              "</div>"
            ],
            "text/plain": [
              "   userId  movieId  rating           timestamp  rank_latest\n",
              "0     491        5     3.0 1996-04-11 15:02:44         27.0\n",
              "1     491       10     4.0 1996-04-11 15:02:44         28.0\n",
              "2     491       11     4.0 1996-04-11 15:02:44         29.0\n",
              "3     491       17     5.0 1996-04-11 15:02:44         30.0\n",
              "4     491      709     4.0 1996-04-11 15:02:44         31.0"
            ]
          },
          "metadata": {
            "tags": []
          },
          "execution_count": 33
        }
      ]
    },
    {
      "cell_type": "code",
      "metadata": {
        "colab": {
          "base_uri": "https://localhost:8080/",
          "height": 424
        },
        "id": "23b81d37-5771-4ec2-b1dd-fa9f298dd2fa",
        "outputId": "aefabec7-711e-43f7-fb58-8cc458883c80"
      },
      "source": [
        "ratings[ratings['rank_latest'] == 1]"
      ],
      "id": "23b81d37-5771-4ec2-b1dd-fa9f298dd2fa",
      "execution_count": 34,
      "outputs": [
        {
          "output_type": "execute_result",
          "data": {
            "text/html": [
              "<div>\n",
              "<style scoped>\n",
              "    .dataframe tbody tr th:only-of-type {\n",
              "        vertical-align: middle;\n",
              "    }\n",
              "\n",
              "    .dataframe tbody tr th {\n",
              "        vertical-align: top;\n",
              "    }\n",
              "\n",
              "    .dataframe thead th {\n",
              "        text-align: right;\n",
              "    }\n",
              "</style>\n",
              "<table border=\"1\" class=\"dataframe\">\n",
              "  <thead>\n",
              "    <tr style=\"text-align: right;\">\n",
              "      <th></th>\n",
              "      <th>userId</th>\n",
              "      <th>movieId</th>\n",
              "      <th>rating</th>\n",
              "      <th>timestamp</th>\n",
              "      <th>rank_latest</th>\n",
              "    </tr>\n",
              "  </thead>\n",
              "  <tbody>\n",
              "    <tr>\n",
              "      <th>78</th>\n",
              "      <td>611</td>\n",
              "      <td>265</td>\n",
              "      <td>4.0</td>\n",
              "      <td>1996-04-13 17:07:38</td>\n",
              "      <td>1.0</td>\n",
              "    </tr>\n",
              "    <tr>\n",
              "      <th>99</th>\n",
              "      <td>491</td>\n",
              "      <td>186</td>\n",
              "      <td>3.0</td>\n",
              "      <td>1996-04-16 17:44:14</td>\n",
              "      <td>1.0</td>\n",
              "    </tr>\n",
              "    <tr>\n",
              "      <th>133</th>\n",
              "      <td>524</td>\n",
              "      <td>661</td>\n",
              "      <td>3.0</td>\n",
              "      <td>1996-04-22 08:24:32</td>\n",
              "      <td>1.0</td>\n",
              "    </tr>\n",
              "    <tr>\n",
              "      <th>168</th>\n",
              "      <td>172</td>\n",
              "      <td>173</td>\n",
              "      <td>3.0</td>\n",
              "      <td>1996-04-23 17:19:31</td>\n",
              "      <td>1.0</td>\n",
              "    </tr>\n",
              "    <tr>\n",
              "      <th>248</th>\n",
              "      <td>438</td>\n",
              "      <td>722</td>\n",
              "      <td>2.0</td>\n",
              "      <td>1996-04-23 21:36:39</td>\n",
              "      <td>1.0</td>\n",
              "    </tr>\n",
              "    <tr>\n",
              "      <th>...</th>\n",
              "      <td>...</td>\n",
              "      <td>...</td>\n",
              "      <td>...</td>\n",
              "      <td>...</td>\n",
              "      <td>...</td>\n",
              "    </tr>\n",
              "    <tr>\n",
              "      <th>99917</th>\n",
              "      <td>342</td>\n",
              "      <td>108190</td>\n",
              "      <td>3.5</td>\n",
              "      <td>2015-03-21 22:47:21</td>\n",
              "      <td>1.0</td>\n",
              "    </tr>\n",
              "    <tr>\n",
              "      <th>99995</th>\n",
              "      <td>260</td>\n",
              "      <td>107230</td>\n",
              "      <td>5.0</td>\n",
              "      <td>2015-03-24 21:00:53</td>\n",
              "      <td>1.0</td>\n",
              "    </tr>\n",
              "    <tr>\n",
              "      <th>99997</th>\n",
              "      <td>631</td>\n",
              "      <td>5147</td>\n",
              "      <td>4.0</td>\n",
              "      <td>2015-03-29 06:13:52</td>\n",
              "      <td>1.0</td>\n",
              "    </tr>\n",
              "    <tr>\n",
              "      <th>99998</th>\n",
              "      <td>96</td>\n",
              "      <td>2337</td>\n",
              "      <td>2.0</td>\n",
              "      <td>2015-03-29 16:19:58</td>\n",
              "      <td>1.0</td>\n",
              "    </tr>\n",
              "    <tr>\n",
              "      <th>99999</th>\n",
              "      <td>318</td>\n",
              "      <td>111759</td>\n",
              "      <td>4.0</td>\n",
              "      <td>2015-03-30 06:21:05</td>\n",
              "      <td>1.0</td>\n",
              "    </tr>\n",
              "  </tbody>\n",
              "</table>\n",
              "<p>702 rows × 5 columns</p>\n",
              "</div>"
            ],
            "text/plain": [
              "       userId  movieId  rating           timestamp  rank_latest\n",
              "78        611      265     4.0 1996-04-13 17:07:38          1.0\n",
              "99        491      186     3.0 1996-04-16 17:44:14          1.0\n",
              "133       524      661     3.0 1996-04-22 08:24:32          1.0\n",
              "168       172      173     3.0 1996-04-23 17:19:31          1.0\n",
              "248       438      722     2.0 1996-04-23 21:36:39          1.0\n",
              "...       ...      ...     ...                 ...          ...\n",
              "99917     342   108190     3.5 2015-03-21 22:47:21          1.0\n",
              "99995     260   107230     5.0 2015-03-24 21:00:53          1.0\n",
              "99997     631     5147     4.0 2015-03-29 06:13:52          1.0\n",
              "99998      96     2337     2.0 2015-03-29 16:19:58          1.0\n",
              "99999     318   111759     4.0 2015-03-30 06:21:05          1.0\n",
              "\n",
              "[702 rows x 5 columns]"
            ]
          },
          "metadata": {
            "tags": []
          },
          "execution_count": 34
        }
      ]
    },
    {
      "cell_type": "code",
      "metadata": {
        "id": "9ecc398d-9f84-4979-93e8-760d9c191e94"
      },
      "source": [
        ""
      ],
      "id": "9ecc398d-9f84-4979-93e8-760d9c191e94",
      "execution_count": null,
      "outputs": []
    },
    {
      "cell_type": "code",
      "metadata": {
        "id": "5560b6ac-8c61-4236-8037-2d8c0ad0953d"
      },
      "source": [
        "# Create training and testing sets-\n",
        "train_ratings = ratings[ratings['rank_latest'] != 1]\n",
        "test_ratings = ratings[ratings['rank_latest'] == 1]"
      ],
      "id": "5560b6ac-8c61-4236-8037-2d8c0ad0953d",
      "execution_count": 35,
      "outputs": []
    },
    {
      "cell_type": "code",
      "metadata": {
        "colab": {
          "base_uri": "https://localhost:8080/"
        },
        "id": "e5052130-394c-41ac-ae72-e4c68bbb8172",
        "outputId": "a983fb4e-9b93-4f05-9d43-f5fa1a1ebea0"
      },
      "source": [
        "train_ratings.shape, test_ratings.shape"
      ],
      "id": "e5052130-394c-41ac-ae72-e4c68bbb8172",
      "execution_count": 36,
      "outputs": [
        {
          "output_type": "execute_result",
          "data": {
            "text/plain": [
              "((99298, 5), (702, 5))"
            ]
          },
          "metadata": {
            "tags": []
          },
          "execution_count": 36
        }
      ]
    },
    {
      "cell_type": "code",
      "metadata": {
        "id": "2d2e8dd3-396b-4f32-9ac3-00b390d77c03"
      },
      "source": [
        "# Use features needed for training ('timestamp' and 'rank_latest' columns are deleted)-\n",
        "# train_ratings.drop(labels = ['timestamp', 'rank_latest'], axis = 1, inplace = True)\n",
        "train_ratings = train_ratings[['userId', 'movieId', 'rating']]\n",
        "test_ratings = test_ratings[['userId', 'movieId', 'rating']]"
      ],
      "id": "2d2e8dd3-396b-4f32-9ac3-00b390d77c03",
      "execution_count": 37,
      "outputs": []
    },
    {
      "cell_type": "code",
      "metadata": {
        "id": "b5fe0cc2-c922-437c-bcc3-7da67d7ffbdc"
      },
      "source": [
        ""
      ],
      "id": "b5fe0cc2-c922-437c-bcc3-7da67d7ffbdc",
      "execution_count": null,
      "outputs": []
    },
    {
      "cell_type": "code",
      "metadata": {
        "colab": {
          "base_uri": "https://localhost:8080/",
          "height": 206
        },
        "id": "de01377a-1fc8-41b7-b78b-afc93b7c05dd",
        "outputId": "cfc31194-bc8d-4b94-f1a1-fd6134d4a595"
      },
      "source": [
        "train_ratings.head()"
      ],
      "id": "de01377a-1fc8-41b7-b78b-afc93b7c05dd",
      "execution_count": 38,
      "outputs": [
        {
          "output_type": "execute_result",
          "data": {
            "text/html": [
              "<div>\n",
              "<style scoped>\n",
              "    .dataframe tbody tr th:only-of-type {\n",
              "        vertical-align: middle;\n",
              "    }\n",
              "\n",
              "    .dataframe tbody tr th {\n",
              "        vertical-align: top;\n",
              "    }\n",
              "\n",
              "    .dataframe thead th {\n",
              "        text-align: right;\n",
              "    }\n",
              "</style>\n",
              "<table border=\"1\" class=\"dataframe\">\n",
              "  <thead>\n",
              "    <tr style=\"text-align: right;\">\n",
              "      <th></th>\n",
              "      <th>userId</th>\n",
              "      <th>movieId</th>\n",
              "      <th>rating</th>\n",
              "    </tr>\n",
              "  </thead>\n",
              "  <tbody>\n",
              "    <tr>\n",
              "      <th>0</th>\n",
              "      <td>491</td>\n",
              "      <td>5</td>\n",
              "      <td>3.0</td>\n",
              "    </tr>\n",
              "    <tr>\n",
              "      <th>1</th>\n",
              "      <td>491</td>\n",
              "      <td>10</td>\n",
              "      <td>4.0</td>\n",
              "    </tr>\n",
              "    <tr>\n",
              "      <th>2</th>\n",
              "      <td>491</td>\n",
              "      <td>11</td>\n",
              "      <td>4.0</td>\n",
              "    </tr>\n",
              "    <tr>\n",
              "      <th>3</th>\n",
              "      <td>491</td>\n",
              "      <td>17</td>\n",
              "      <td>5.0</td>\n",
              "    </tr>\n",
              "    <tr>\n",
              "      <th>4</th>\n",
              "      <td>491</td>\n",
              "      <td>709</td>\n",
              "      <td>4.0</td>\n",
              "    </tr>\n",
              "  </tbody>\n",
              "</table>\n",
              "</div>"
            ],
            "text/plain": [
              "   userId  movieId  rating\n",
              "0     491        5     3.0\n",
              "1     491       10     4.0\n",
              "2     491       11     4.0\n",
              "3     491       17     5.0\n",
              "4     491      709     4.0"
            ]
          },
          "metadata": {
            "tags": []
          },
          "execution_count": 38
        }
      ]
    },
    {
      "cell_type": "code",
      "metadata": {
        "id": "75a21b41-5982-44c7-9a9f-69f49be38c5d"
      },
      "source": [
        ""
      ],
      "id": "75a21b41-5982-44c7-9a9f-69f49be38c5d",
      "execution_count": null,
      "outputs": []
    },
    {
      "cell_type": "code",
      "metadata": {
        "id": "769298e9-a720-4a9f-bf91-b77bdd46fddd"
      },
      "source": [
        ""
      ],
      "id": "769298e9-a720-4a9f-bf91-b77bdd46fddd",
      "execution_count": null,
      "outputs": []
    },
    {
      "cell_type": "markdown",
      "metadata": {
        "id": "2e523bb2-c30c-4963-9e27-5f836c9b2841"
      },
      "source": [
        "## Converting the dataset into an implicit feedback dataset:\n",
        "\n",
        "As discussed earlier, we will train a recommender system using _implicit feedback_. However, the MovieLens dataset that we're using is based on explicit feedback. __To convert this dataset into an implicit feedback dataset, we'll simply binarize the ratings such that they are are '1' (i.e. positive class). The value of '1' represents that the user has interacted with the item__.\n",
        "\n",
        "It is important to note that __using implicit feedback reframes the problem that our recommender is trying to solve. Instead of trying to predict movie ratings (when using explicit feedback), we are trying to predict whether the user will interact (i.e. click/buy/watch) with each movie, with the aim of presenting to users the movies with the highest interaction likelihood__."
      ],
      "id": "2e523bb2-c30c-4963-9e27-5f836c9b2841"
    },
    {
      "cell_type": "code",
      "metadata": {
        "id": "044da61e-f913-4eab-9510-b4bf85c5522e"
      },
      "source": [
        "# Add 'rating' column as ones-\n",
        "train_ratings.loc[:, 'rating'] = 1"
      ],
      "id": "044da61e-f913-4eab-9510-b4bf85c5522e",
      "execution_count": 39,
      "outputs": []
    },
    {
      "cell_type": "code",
      "metadata": {
        "colab": {
          "base_uri": "https://localhost:8080/",
          "height": 206
        },
        "id": "305ad549-bf4a-48c5-bb17-def11e12eed5",
        "outputId": "5937e42b-ef93-4f4b-efc4-f9326ccd4037"
      },
      "source": [
        "train_ratings.sample(5)"
      ],
      "id": "305ad549-bf4a-48c5-bb17-def11e12eed5",
      "execution_count": 40,
      "outputs": [
        {
          "output_type": "execute_result",
          "data": {
            "text/html": [
              "<div>\n",
              "<style scoped>\n",
              "    .dataframe tbody tr th:only-of-type {\n",
              "        vertical-align: middle;\n",
              "    }\n",
              "\n",
              "    .dataframe tbody tr th {\n",
              "        vertical-align: top;\n",
              "    }\n",
              "\n",
              "    .dataframe thead th {\n",
              "        text-align: right;\n",
              "    }\n",
              "</style>\n",
              "<table border=\"1\" class=\"dataframe\">\n",
              "  <thead>\n",
              "    <tr style=\"text-align: right;\">\n",
              "      <th></th>\n",
              "      <th>userId</th>\n",
              "      <th>movieId</th>\n",
              "      <th>rating</th>\n",
              "    </tr>\n",
              "  </thead>\n",
              "  <tbody>\n",
              "    <tr>\n",
              "      <th>48464</th>\n",
              "      <td>278</td>\n",
              "      <td>1991</td>\n",
              "      <td>1</td>\n",
              "    </tr>\n",
              "    <tr>\n",
              "      <th>12662</th>\n",
              "      <td>362</td>\n",
              "      <td>1208</td>\n",
              "      <td>1</td>\n",
              "    </tr>\n",
              "    <tr>\n",
              "      <th>48131</th>\n",
              "      <td>489</td>\n",
              "      <td>4889</td>\n",
              "      <td>1</td>\n",
              "    </tr>\n",
              "    <tr>\n",
              "      <th>60408</th>\n",
              "      <td>116</td>\n",
              "      <td>8622</td>\n",
              "      <td>1</td>\n",
              "    </tr>\n",
              "    <tr>\n",
              "      <th>41781</th>\n",
              "      <td>156</td>\n",
              "      <td>2946</td>\n",
              "      <td>1</td>\n",
              "    </tr>\n",
              "  </tbody>\n",
              "</table>\n",
              "</div>"
            ],
            "text/plain": [
              "       userId  movieId  rating\n",
              "48464     278     1991       1\n",
              "12662     362     1208       1\n",
              "48131     489     4889       1\n",
              "60408     116     8622       1\n",
              "41781     156     2946       1"
            ]
          },
          "metadata": {
            "tags": []
          },
          "execution_count": 40
        }
      ]
    },
    {
      "cell_type": "code",
      "metadata": {
        "colab": {
          "base_uri": "https://localhost:8080/"
        },
        "id": "4af56468-141b-42e1-ba76-b5f2b2c4e17f",
        "outputId": "5f3a7a3e-4fa6-4c3c-80e1-dafe61bfaa46"
      },
      "source": [
        "train_ratings['userId'].nunique(), test_ratings['userId'].nunique()"
      ],
      "id": "4af56468-141b-42e1-ba76-b5f2b2c4e17f",
      "execution_count": 41,
      "outputs": [
        {
          "output_type": "execute_result",
          "data": {
            "text/plain": [
              "(702, 702)"
            ]
          },
          "metadata": {
            "tags": []
          },
          "execution_count": 41
        }
      ]
    },
    {
      "cell_type": "markdown",
      "metadata": {
        "id": "1bc76e7b-cab8-4899-a010-cd2a15a5a3ce"
      },
      "source": [
        "We do have a problem now though. After binarizing our dataset, we see that every sample in the dataset now belongs to the positive class. However we also require __negative samples to train our models, to indicate movies that the user has not interacted with__. _We assume that such movies are those that the user are not interested in - even though this is a sweeping assumption that may not be true, it usually works out rather well in practice_.\n",
        "\n",
        "The code below generates 4 negative samples for each row of data. In other words, the ratio of negative to positive samples is 4:1. This ratio is chosen arbitrarily but I found that it works rather well (feel free to find the best ratio yourself)-"
      ],
      "id": "1bc76e7b-cab8-4899-a010-cd2a15a5a3ce"
    },
    {
      "cell_type": "code",
      "metadata": {
        "id": "1acf0bbf-79a7-4ee2-82a3-d697d171a211"
      },
      "source": [
        "# Get a list of all movie IDs\n",
        "all_movieIds = ratings['movieId'].unique()\n",
        "\n",
        "# Placeholders that will hold the training data\n",
        "users, items, labels = [], [], []\n",
        "\n",
        "# This is the set of items that each user has interaction with\n",
        "user_item_set = set(zip(train_ratings['userId'], train_ratings['movieId']))"
      ],
      "id": "1acf0bbf-79a7-4ee2-82a3-d697d171a211",
      "execution_count": 42,
      "outputs": []
    },
    {
      "cell_type": "code",
      "metadata": {
        "id": "c6d469a4-ac3b-4f9a-9ecf-ddb4397083f9"
      },
      "source": [
        "# 4:1 ratio of negative to positive samples\n",
        "num_negatives = 4\n",
        "\n",
        "# for (u, i) in tqdm(user_item_set):\n",
        "for user, item in user_item_set:\n",
        "    users.append(user)\n",
        "    items.append(item)\n",
        "    labels.append(1) # items that the user has interacted with are positive\n",
        "    \n",
        "    for _ in range(num_negatives):\n",
        "        # randomly select an item-\n",
        "        negative_item = np.random.choice(all_movieIds)\n",
        "        \n",
        "        # check that the user has not interacted with this item-\n",
        "        while (user, negative_item) in user_item_set:\n",
        "            negative_item = np.random.choice(all_movieIds)\n",
        "        \n",
        "        users.append(user)\n",
        "        items.append(negative_item)\n",
        "        labels.append(0) # items not interacted with are negative"
      ],
      "id": "c6d469a4-ac3b-4f9a-9ecf-ddb4397083f9",
      "execution_count": 43,
      "outputs": []
    },
    {
      "cell_type": "markdown",
      "metadata": {
        "id": "e29bf1c4-9074-4388-9240-f54ec6fd62d7"
      },
      "source": [
        "We now have the data in the required format by our model. Before we move on, let's define a PyTorch Dataset to facilitate training. The class below simply encapsulates the code we have written above into a PyTorch Dataset class."
      ],
      "id": "e29bf1c4-9074-4388-9240-f54ec6fd62d7"
    },
    {
      "cell_type": "code",
      "metadata": {
        "colab": {
          "base_uri": "https://localhost:8080/"
        },
        "id": "136be211-e785-4bd2-9d91-fd1923c60b79",
        "outputId": "beaee623-6919-4fc9-8ddc-a519883659d2"
      },
      "source": [
        "len(users), len(items), len(labels)"
      ],
      "id": "136be211-e785-4bd2-9d91-fd1923c60b79",
      "execution_count": 44,
      "outputs": [
        {
          "output_type": "execute_result",
          "data": {
            "text/plain": [
              "(496490, 496490, 496490)"
            ]
          },
          "metadata": {
            "tags": []
          },
          "execution_count": 44
        }
      ]
    },
    {
      "cell_type": "code",
      "metadata": {
        "colab": {
          "base_uri": "https://localhost:8080/"
        },
        "id": "82087289-ba28-463f-9eb2-5dd9ae7c54b2",
        "outputId": "6790415f-f9f1-4959-cc5e-0a2f6596d511"
      },
      "source": [
        "users[:5]"
      ],
      "id": "82087289-ba28-463f-9eb2-5dd9ae7c54b2",
      "execution_count": 45,
      "outputs": [
        {
          "output_type": "execute_result",
          "data": {
            "text/plain": [
              "[247, 247, 247, 247, 247]"
            ]
          },
          "metadata": {
            "tags": []
          },
          "execution_count": 45
        }
      ]
    },
    {
      "cell_type": "code",
      "metadata": {
        "colab": {
          "base_uri": "https://localhost:8080/"
        },
        "id": "8acfc8a9-c363-4bef-95b3-9bbec63292d4",
        "outputId": "20471395-aa1f-429d-99bc-68293ef16345"
      },
      "source": [
        "items[:5]"
      ],
      "id": "8acfc8a9-c363-4bef-95b3-9bbec63292d4",
      "execution_count": 46,
      "outputs": [
        {
          "output_type": "execute_result",
          "data": {
            "text/plain": [
              "[3998, 101525, 100083, 3737, 53972]"
            ]
          },
          "metadata": {
            "tags": []
          },
          "execution_count": 46
        }
      ]
    },
    {
      "cell_type": "code",
      "metadata": {
        "colab": {
          "base_uri": "https://localhost:8080/"
        },
        "id": "8dcd9370-51c4-45d0-9d76-8b8ca6fd2d9e",
        "outputId": "37d1c39d-fc7b-40f8-dd56-6873f6d28bfe"
      },
      "source": [
        "labels[:5]"
      ],
      "id": "8dcd9370-51c4-45d0-9d76-8b8ca6fd2d9e",
      "execution_count": 47,
      "outputs": [
        {
          "output_type": "execute_result",
          "data": {
            "text/plain": [
              "[1, 0, 0, 0, 0]"
            ]
          },
          "metadata": {
            "tags": []
          },
          "execution_count": 47
        }
      ]
    },
    {
      "cell_type": "code",
      "metadata": {
        "id": "308d6f59-e45c-4f67-b3d9-71b97890dce9"
      },
      "source": [
        ""
      ],
      "id": "308d6f59-e45c-4f67-b3d9-71b97890dce9",
      "execution_count": null,
      "outputs": []
    },
    {
      "cell_type": "code",
      "metadata": {
        "id": "fdf3af1d-1e1a-47ba-9f41-6411c9cea004"
      },
      "source": [
        "import torch\n",
        "from torch.utils.data import Dataset, DataLoader\n",
        "# from torchvision import transforms, utils"
      ],
      "id": "fdf3af1d-1e1a-47ba-9f41-6411c9cea004",
      "execution_count": 48,
      "outputs": []
    },
    {
      "cell_type": "code",
      "metadata": {
        "colab": {
          "base_uri": "https://localhost:8080/"
        },
        "id": "d4ac3a54-b04a-47ca-bb56-627085d1f8a0",
        "outputId": "2fa955ee-b8dd-40de-d898-a7138847a050"
      },
      "source": [
        "print(f\"PyTorch Version: {torch.__version__}\")"
      ],
      "id": "d4ac3a54-b04a-47ca-bb56-627085d1f8a0",
      "execution_count": 49,
      "outputs": [
        {
          "output_type": "stream",
          "text": [
            "PyTorch Version: 1.9.0+cu102\n"
          ],
          "name": "stdout"
        }
      ]
    },
    {
      "cell_type": "code",
      "metadata": {
        "colab": {
          "base_uri": "https://localhost:8080/"
        },
        "id": "1c63046c-bf1f-4533-a481-0bdc657b71b0",
        "outputId": "c5b53094-7f3e-4a3b-e89a-3abf1ec1dc47"
      },
      "source": [
        "# Device configuration-\n",
        "device = torch.device('cuda' if torch.cuda.is_available() else 'cpu')\n",
        "print(f'Available device is {device}')"
      ],
      "id": "1c63046c-bf1f-4533-a481-0bdc657b71b0",
      "execution_count": 50,
      "outputs": [
        {
          "output_type": "stream",
          "text": [
            "Available device is cuda\n"
          ],
          "name": "stdout"
        }
      ]
    },
    {
      "cell_type": "code",
      "metadata": {
        "colab": {
          "base_uri": "https://localhost:8080/"
        },
        "id": "c85e4e7a-1892-43d8-adaa-5bbd3170e46f",
        "outputId": "64d326ed-1d17-42eb-b2f0-45fc482cf94a"
      },
      "source": [
        "print(torch.cuda.is_available())"
      ],
      "id": "c85e4e7a-1892-43d8-adaa-5bbd3170e46f",
      "execution_count": 51,
      "outputs": [
        {
          "output_type": "stream",
          "text": [
            "True\n"
          ],
          "name": "stdout"
        }
      ]
    },
    {
      "cell_type": "code",
      "metadata": {
        "colab": {
          "base_uri": "https://localhost:8080/"
        },
        "id": "d90e2e6a-02f9-4ca3-b63b-a7f68cdb3762",
        "outputId": "5e844146-9539-49f1-a0d4-b880bc74627d"
      },
      "source": [
        "# Check if there are multiple devices (i.e., GPU cards)-\n",
        "print(torch.cuda.device_count())"
      ],
      "id": "d90e2e6a-02f9-4ca3-b63b-a7f68cdb3762",
      "execution_count": 52,
      "outputs": [
        {
          "output_type": "stream",
          "text": [
            "1\n"
          ],
          "name": "stdout"
        }
      ]
    },
    {
      "cell_type": "code",
      "metadata": {
        "colab": {
          "base_uri": "https://localhost:8080/"
        },
        "id": "37b9c777-5ed2-4916-8762-2912092143ed",
        "outputId": "b32ad389-0146-4c55-97e8-147f5aced3bb"
      },
      "source": [
        "# Which GPU Is The Current GPU?\n",
        "print(torch.cuda.current_device())"
      ],
      "id": "37b9c777-5ed2-4916-8762-2912092143ed",
      "execution_count": 53,
      "outputs": [
        {
          "output_type": "stream",
          "text": [
            "0\n"
          ],
          "name": "stdout"
        }
      ]
    },
    {
      "cell_type": "code",
      "metadata": {
        "colab": {
          "base_uri": "https://localhost:8080/"
        },
        "id": "d08c4673-2149-406d-b527-0081e9e7b7bf",
        "outputId": "795ac59f-57fc-4311-f8aa-efe099fe3bcd"
      },
      "source": [
        "# Get the name of the current GPU^M\n",
        "print(torch.cuda.get_device_name(torch.cuda.current_device()))"
      ],
      "id": "d08c4673-2149-406d-b527-0081e9e7b7bf",
      "execution_count": 54,
      "outputs": [
        {
          "output_type": "stream",
          "text": [
            "Tesla T4\n"
          ],
          "name": "stdout"
        }
      ]
    },
    {
      "cell_type": "code",
      "metadata": {
        "id": "7fb9a4ec-cdea-4f6c-8e8c-774c5a18de4c"
      },
      "source": [
        ""
      ],
      "id": "7fb9a4ec-cdea-4f6c-8e8c-774c5a18de4c",
      "execution_count": null,
      "outputs": []
    },
    {
      "cell_type": "code",
      "metadata": {
        "id": "5d4f9c7b-62bf-4f9a-9377-b63821d7e6e4"
      },
      "source": [
        ""
      ],
      "id": "5d4f9c7b-62bf-4f9a-9377-b63821d7e6e4",
      "execution_count": null,
      "outputs": []
    },
    {
      "cell_type": "code",
      "metadata": {
        "id": "a1765f3b-4366-4606-aac9-53796fc2d6e3"
      },
      "source": [
        "class MovieLensTrainDataset(Dataset):\n",
        "    \"\"\"\n",
        "    MovieLens PyTorch Dataset for Training\n",
        "    \n",
        "    Args:\n",
        "    1. ratings (pd.DataFrame): Dataframe containing the movie ratings\n",
        "    2. all_movieIds (list): List containing all movieIds\n",
        "    \"\"\"\n",
        "\n",
        "    def __init__(self, ratings, all_movieIds):\n",
        "        self.users, self.items, self.labels = self.get_dataset(ratings, all_movieIds)\n",
        "\n",
        "    def __len__(self):\n",
        "        return len(self.users)\n",
        "  \n",
        "    def __getitem__(self, idx):\n",
        "        return self.users[idx], self.items[idx], self.labels[idx]\n",
        "\n",
        "    def get_dataset(self, ratings, all_movieIds):\n",
        "        users, items, labels = [], [], []\n",
        "        user_item_set = set(zip(ratings['userId'], ratings['movieId']))\n",
        "\n",
        "        num_negatives = 4\n",
        "        for u, i in user_item_set:\n",
        "            users.append(u)\n",
        "            items.append(i)\n",
        "            labels.append(1)\n",
        "            for _ in range(num_negatives):\n",
        "                negative_item = np.random.choice(all_movieIds)\n",
        "                while (u, negative_item) in user_item_set:\n",
        "                    negative_item = np.random.choice(all_movieIds)\n",
        "                users.append(u)\n",
        "                items.append(negative_item)\n",
        "                labels.append(0)\n",
        "\n",
        "        return torch.tensor(users), torch.tensor(items), torch.tensor(labels)\n",
        "    "
      ],
      "id": "a1765f3b-4366-4606-aac9-53796fc2d6e3",
      "execution_count": 55,
      "outputs": []
    },
    {
      "cell_type": "code",
      "metadata": {
        "id": "8a377e77-4547-47f0-8231-4c2640ddf8e1"
      },
      "source": [
        ""
      ],
      "id": "8a377e77-4547-47f0-8231-4c2640ddf8e1",
      "execution_count": null,
      "outputs": []
    },
    {
      "cell_type": "code",
      "metadata": {
        "id": "20760532-f206-4713-aa33-f7bc82ba0c4a"
      },
      "source": [
        ""
      ],
      "id": "20760532-f206-4713-aa33-f7bc82ba0c4a",
      "execution_count": null,
      "outputs": []
    },
    {
      "cell_type": "markdown",
      "metadata": {
        "id": "3f50af92-ca20-486b-9b6a-d9104b1dcd3d"
      },
      "source": [
        "## Neural Collaborative Filtering (NCF):\n",
        "\n",
        "[Neural Collaborative Filtering](https://arxiv.org/abs/1708.05031) by Xiangnan He et al. is implemented here. It is straightforward using a _simple_ model."
      ],
      "id": "3f50af92-ca20-486b-9b6a-d9104b1dcd3d"
    },
    {
      "cell_type": "markdown",
      "metadata": {
        "id": "93d8112b-883d-4fcf-a2be-1e80feccb5ac"
      },
      "source": [
        "### User Embeddings:\n",
        "\n",
        "Before looking at the architecture of the neural network, let's look at the concept of _embeddings_. An __embedding is a low-dimensional space that captures the relationship of vectors from a higher dimensional space__. To better understand this concept, let's take a closer look at user embeddings.\n",
        "\n",
        "Imagine that we want to represent our users according to their preference for two genres of movies - 'action' and 'romance' movies. Let the first dimension be how much the user likes action movies, and the second dimension be how much the user likes romance movies.\n",
        "\n",
        "<img src=\"pics/user1.png\" width = 600 height = 600 />\n",
        "\n",
        "Now, assume that Bob is our first user. Bob likes action movies but isn't a fan of romance movies. To represent Bob as a two dimensional vector, we place him in the graph according to his preference.\n",
        "\n",
        "<img src=\"pics/user2.png\" width = 600 height = 600 />\n",
        "\n",
        "Our next user is Joe. Joe is a huge fan of both action and romance movies. We represent Joe using a two dimensional vector just like Bob.\n",
        "\n",
        "<img src=\"pics/user3.png\" width = 600 height = 600 />\n",
        "\n",
        "\n",
        "__This two dimensional space is known as an embedding. Essentially, the embedding reduces our users such that they can be represented in a meaningful manner in a lower dimensional space.__ _In this embedding, users with similar movie preferences are placed near to each other, and vice versa_.\n",
        "\n",
        "<img src=\"pics/embedding.png\" width = 600 height = 600 />\n",
        "\n",
        "\n",
        "_We are not just restricted to using just 2 dimensions to represent our users. We can use an arbitrary number of dimensions to represent our users_. __A larger number of dimensions would allow us to capture the traits of each user more accurately, at the cost of model complexity__. In this code example, we use 8 dimensions (which we will see later)."
      ],
      "id": "93d8112b-883d-4fcf-a2be-1e80feccb5ac"
    },
    {
      "cell_type": "markdown",
      "metadata": {
        "id": "2bb552f1-dfa9-40a7-b866-6c7b3e2be2b8"
      },
      "source": [
        "### Learned Embeddings:\n",
        "\n",
        "_Similarly, we will use a separate item embedding layer to represent the traits of the items (i.e. movies) in a lower dimensional space_.\n",
        "\n",
        "You might be wondering, _how can we learn the weights of the embedding layer, such that it provides an accurate representation of users and items_? In our previous example, we used Bob and Joe's preference for action and romance movies to manually create our embedding. Is there a way to learn such preferences automatically?\n",
        "\n",
        "The answer is __Collaborative Filtering - by using the ratings dataset, we can identify similar users and movies, creating user and item embeddings learned from existing ratings__."
      ],
      "id": "2bb552f1-dfa9-40a7-b866-6c7b3e2be2b8"
    },
    {
      "cell_type": "code",
      "metadata": {
        "id": "7d7c7e84-29a0-4797-aa74-9f17fda60a0d"
      },
      "source": [
        ""
      ],
      "id": "7d7c7e84-29a0-4797-aa74-9f17fda60a0d",
      "execution_count": null,
      "outputs": []
    },
    {
      "cell_type": "code",
      "metadata": {
        "id": "f584d206-6061-45e3-ae1d-475c2847b833"
      },
      "source": [
        ""
      ],
      "id": "f584d206-6061-45e3-ae1d-475c2847b833",
      "execution_count": null,
      "outputs": []
    },
    {
      "cell_type": "markdown",
      "metadata": {
        "id": "2e566898-c861-4529-b8f3-96dcf8acdbc8"
      },
      "source": [
        "### Model Architecture:\n",
        "\n",
        "Now that we have a better understanding of _embeddings_, we are ready to define the neural network model architecture. As you will see, the _user_ and _item_ embeddings are key to the model.\n",
        "\n",
        "Let's walk through the model architecture using the following training sample:\n",
        "\n",
        "<img src=\"pics/example.png\" width = 200 height = 200 />\n",
        "\n",
        "<img src=\"pics/model_architecture.png\" width = 600 height = 600 />\n",
        "\n",
        "\n",
        "The inputs to the model are the one-hot encoded user and item vector for ```userId = 3``` and ```movieId = 1```. Because this is a positive sample (movie actually rated by the user), the true label (```interacted```) is 1.\n",
        "\n",
        "The user input vector and item input vector are fed to the user embedding and item embedding respectively, which results in a smaller, denser user and item vectors.\n",
        "\n",
        "The embedded user and item vectors are concatenated before passing through a series of fully connected layers, which maps the concatenated embeddings into a prediction vector as output. Finally, we apply a ```Sigmoid``` function to obtain the most probable class. In the example above, the most probable class is 1 (positive class), since 0.8 > 0.2."
      ],
      "id": "2e566898-c861-4529-b8f3-96dcf8acdbc8"
    },
    {
      "cell_type": "code",
      "metadata": {
        "id": "-ID3Jd4dJjno"
      },
      "source": [
        "!pip install pytorch-lightning"
      ],
      "id": "-ID3Jd4dJjno",
      "execution_count": null,
      "outputs": []
    },
    {
      "cell_type": "code",
      "metadata": {
        "id": "3067f886-5841-4107-a416-d6f69f09a37f"
      },
      "source": [
        "'''\n",
        "import torch.nn as nn\n",
        "import torch.nn.functional as F\n",
        "import torchvision\n",
        "import torchvision.transforms as transforms\n",
        "'''\n",
        "import pytorch_lightning as pl"
      ],
      "id": "3067f886-5841-4107-a416-d6f69f09a37f",
      "execution_count": null,
      "outputs": []
    },
    {
      "cell_type": "code",
      "metadata": {
        "colab": {
          "base_uri": "https://localhost:8080/"
        },
        "id": "a725327e-1b70-4454-8de1-45e52ee66aad",
        "outputId": "1eab10d1-9b2c-46d4-9b0c-7c1d5cef2506"
      },
      "source": [
        "print(f\"PyTorch lightning version: {pl.__version__}\")"
      ],
      "id": "a725327e-1b70-4454-8de1-45e52ee66aad",
      "execution_count": 60,
      "outputs": [
        {
          "output_type": "stream",
          "text": [
            "PyTorch lightning version: 1.3.8\n"
          ],
          "name": "stdout"
        }
      ]
    },
    {
      "cell_type": "code",
      "metadata": {
        "id": "f9e1dcc8-a7d1-4711-8da9-31187d4c090c"
      },
      "source": [
        ""
      ],
      "id": "f9e1dcc8-a7d1-4711-8da9-31187d4c090c",
      "execution_count": null,
      "outputs": []
    },
    {
      "cell_type": "code",
      "metadata": {
        "id": "3f639873-2e5f-4636-9ebc-4e28725664f3"
      },
      "source": [
        ""
      ],
      "id": "3f639873-2e5f-4636-9ebc-4e28725664f3",
      "execution_count": null,
      "outputs": []
    },
    {
      "cell_type": "code",
      "metadata": {
        "id": "7496f280-4b82-4710-9885-750061c08b0b"
      },
      "source": [
        "class NCF(pl.LightningModule):\n",
        "    \"\"\" Neural Collaborative Filtering (NCF)\n",
        "    \n",
        "        Args:\n",
        "            num_users (int): Number of unique users\n",
        "            num_items (int): Number of unique items\n",
        "            ratings (pd.DataFrame): Dataframe containing the movie ratings for training\n",
        "            all_movieIds (list): List containing all movieIds (train + test)\n",
        "    \"\"\"\n",
        "    \n",
        "    def __init__(self, num_users, num_items, ratings, all_movieIds):\n",
        "        super().__init__()\n",
        "        self.user_embedding = nn.Embedding(num_embeddings = num_users, embedding_dim = 8)\n",
        "        self.item_embedding = nn.Embedding(num_embeddings = num_items, embedding_dim = 8)\n",
        "        self.fc1 = nn.Linear(in_features=16, out_features = 64)\n",
        "        self.fc2 = nn.Linear(in_features=64, out_features = 32)\n",
        "        self.output = nn.Linear(in_features=32, out_features = 1)\n",
        "        self.ratings = ratings\n",
        "        self.all_movieIds = all_movieIds\n",
        "        \n",
        "    def forward(self, user_input, item_input):\n",
        "        \n",
        "        # Pass through embedding layers\n",
        "        user_embedded = self.user_embedding(user_input)\n",
        "        item_embedded = self.item_embedding(item_input)\n",
        "\n",
        "        # Concat the two embedding layers\n",
        "        vector = torch.cat([user_embedded, item_embedded], dim = -1)\n",
        "\n",
        "        # Pass through dense layer\n",
        "        vector = nn.ReLU()(self.fc1(vector))\n",
        "        vector = nn.ReLU()(self.fc2(vector))\n",
        "\n",
        "        # Output layer\n",
        "        pred = nn.Sigmoid()(self.output(vector))\n",
        "\n",
        "        return pred\n",
        "    \n",
        "    def training_step(self, batch, batch_idx):\n",
        "        user_input, item_input, labels = batch\n",
        "        predicted_labels = self(user_input, item_input)\n",
        "        loss = nn.BCELoss()(predicted_labels, labels.view(-1, 1).float())\n",
        "        return loss\n",
        "\n",
        "    def configure_optimizers(self):\n",
        "        return torch.optim.Adam(self.parameters())\n",
        "\n",
        "    def train_dataloader(self):\n",
        "        return DataLoader(MovieLensTrainDataset(self.ratings, self.all_movieIds),\n",
        "                          batch_size = 512, num_workers = 4)\n",
        "    "
      ],
      "id": "7496f280-4b82-4710-9885-750061c08b0b",
      "execution_count": 61,
      "outputs": []
    },
    {
      "cell_type": "code",
      "metadata": {
        "id": "b9b40622-b23e-428d-a93b-3be32120f177"
      },
      "source": [
        ""
      ],
      "id": "b9b40622-b23e-428d-a93b-3be32120f177",
      "execution_count": null,
      "outputs": []
    },
    {
      "cell_type": "code",
      "metadata": {
        "id": "7bb26a7d-2f60-4e1f-a1e4-38c0d1df4e02"
      },
      "source": [
        "num_users = ratings['userId'].max() + 1\n",
        "num_items = ratings['movieId'].max() + 1\n",
        "\n",
        "all_movieIds = ratings['movieId'].unique()"
      ],
      "id": "7bb26a7d-2f60-4e1f-a1e4-38c0d1df4e02",
      "execution_count": 62,
      "outputs": []
    },
    {
      "cell_type": "code",
      "metadata": {
        "colab": {
          "base_uri": "https://localhost:8080/"
        },
        "id": "ef74e829-680d-417a-ab12-6be0cd61695c",
        "outputId": "274b205b-febd-4c4c-8bed-22b5c55da536"
      },
      "source": [
        "num_users, num_items, all_movieIds.shape"
      ],
      "id": "ef74e829-680d-417a-ab12-6be0cd61695c",
      "execution_count": 63,
      "outputs": [
        {
          "output_type": "execute_result",
          "data": {
            "text/plain": [
              "(703, 128595, (8227,))"
            ]
          },
          "metadata": {
            "tags": []
          },
          "execution_count": 63
        }
      ]
    },
    {
      "cell_type": "code",
      "metadata": {
        "id": "q8xDgaD0KAL4"
      },
      "source": [
        ""
      ],
      "id": "q8xDgaD0KAL4",
      "execution_count": null,
      "outputs": []
    },
    {
      "cell_type": "code",
      "metadata": {
        "id": "cmA7OayQJ85A"
      },
      "source": [
        "# Instantiate NCF model-\n",
        "model = NCF(num_users, num_items, train_ratings, all_movieIds)"
      ],
      "id": "cmA7OayQJ85A",
      "execution_count": 66,
      "outputs": []
    },
    {
      "cell_type": "code",
      "metadata": {
        "id": "b31c0754-52d2-4a3c-b66d-7482b9e0e769"
      },
      "source": [
        ""
      ],
      "id": "b31c0754-52d2-4a3c-b66d-7482b9e0e769",
      "execution_count": null,
      "outputs": []
    },
    {
      "cell_type": "code",
      "metadata": {
        "colab": {
          "base_uri": "https://localhost:8080/"
        },
        "id": "3b67eceb-404b-4cf9-8b75-a7afde116e20",
        "outputId": "c4d772e4-b98f-42f4-cb48-9d444da8b724"
      },
      "source": [
        "trainer = pl.Trainer(\n",
        "    max_epochs = 5, gpus = 1,\n",
        "    reload_dataloaders_every_epoch = True,\n",
        "    progress_bar_refresh_rate = 50, logger = False,\n",
        "    checkpoint_callback = False)"
      ],
      "id": "3b67eceb-404b-4cf9-8b75-a7afde116e20",
      "execution_count": 67,
      "outputs": [
        {
          "output_type": "stream",
          "text": [
            "GPU available: True, used: True\n",
            "TPU available: False, using: 0 TPU cores\n"
          ],
          "name": "stderr"
        }
      ]
    },
    {
      "cell_type": "markdown",
      "metadata": {
        "id": "HyqCYXMXKLoq"
      },
      "source": [
        "Notice that we are using the argument ```reload_dataloaders_every_epoch=True```. This creates a new randomly chosen set of negative samples for each epoch, which ensures that our model is not biased by the selection of negative samples."
      ],
      "id": "HyqCYXMXKLoq"
    },
    {
      "cell_type": "code",
      "metadata": {
        "colab": {
          "base_uri": "https://localhost:8080/",
          "height": 378,
          "referenced_widgets": [
            "dd84ff51f1354523bca6bd9fb3401089",
            "9c3c10b951cf40619c822f210e3036b3",
            "6bd1bb3ddfd14e5aa333dbb1a99ca765",
            "fb96d48125de45309387036ccde1be04",
            "9077501974c24390ac652f1cd4ac4456",
            "35d321286820438aa03cd092867adae1",
            "ae74f8c695f94c38b328b902217b10d6",
            "ee7314b59b104dc282ae7165fefb1f4d"
          ]
        },
        "id": "545d6738-7005-42f8-b5d8-6eedbf9a344f",
        "outputId": "6b04be7b-257e-4acd-c081-c56afaedb596"
      },
      "source": [
        "# Train NCF model-\n",
        "trainer.fit(model)"
      ],
      "id": "545d6738-7005-42f8-b5d8-6eedbf9a344f",
      "execution_count": 68,
      "outputs": [
        {
          "output_type": "stream",
          "text": [
            "LOCAL_RANK: 0 - CUDA_VISIBLE_DEVICES: [0]\n",
            "\n",
            "  | Name           | Type      | Params\n",
            "---------------------------------------------\n",
            "0 | user_embedding | Embedding | 5.6 K \n",
            "1 | item_embedding | Embedding | 1.0 M \n",
            "2 | fc1            | Linear    | 1.1 K \n",
            "3 | fc2            | Linear    | 2.1 K \n",
            "4 | output         | Linear    | 33    \n",
            "---------------------------------------------\n",
            "1.0 M     Trainable params\n",
            "0         Non-trainable params\n",
            "1.0 M     Total params\n",
            "4.150     Total estimated model params size (MB)\n",
            "/usr/local/lib/python3.7/dist-packages/torch/utils/data/dataloader.py:481: UserWarning: This DataLoader will create 4 worker processes in total. Our suggested max number of worker in current system is 2, which is smaller than what this DataLoader is going to create. Please be aware that excessive worker creation might get DataLoader running slow or even freeze, lower the worker number to avoid potential slowness/freeze if necessary.\n",
            "  cpuset_checked))\n"
          ],
          "name": "stderr"
        },
        {
          "output_type": "display_data",
          "data": {
            "application/vnd.jupyter.widget-view+json": {
              "model_id": "dd84ff51f1354523bca6bd9fb3401089",
              "version_minor": 0,
              "version_major": 2
            },
            "text/plain": [
              "HBox(children=(FloatProgress(value=1.0, bar_style='info', description='Training', layout=Layout(flex='2'), max…"
            ]
          },
          "metadata": {
            "tags": []
          }
        },
        {
          "output_type": "stream",
          "text": [
            "\n"
          ],
          "name": "stdout"
        }
      ]
    },
    {
      "cell_type": "code",
      "metadata": {
        "id": "00faa4b3-6aba-44f1-95a6-5b9f19e98ffb"
      },
      "source": [
        ""
      ],
      "id": "00faa4b3-6aba-44f1-95a6-5b9f19e98ffb",
      "execution_count": null,
      "outputs": []
    },
    {
      "cell_type": "code",
      "metadata": {
        "id": "a876b548-1dde-44f7-b14a-2ebfd0153db5"
      },
      "source": [
        ""
      ],
      "id": "a876b548-1dde-44f7-b14a-2ebfd0153db5",
      "execution_count": null,
      "outputs": []
    },
    {
      "cell_type": "markdown",
      "metadata": {
        "id": "I_qqVaLTKTua"
      },
      "source": [
        "### Evaluating our Recommender System:\n",
        "\n",
        "Now that our model is trained, we are ready to evaluate it using the test data. In traditional Machine Learning projects, we evaluate our models using metrics such as Accuracy (for classification problems) and RMSE (for regression problems). However, such metrics are too simplistic for evaluating recommender systems.\n",
        "\n",
        "\n",
        "_To design a good metric for evaluating recommender systems, we need to first understand how modern recommender systems are used_.\n",
        "\n",
        "For example, Netflix produces a list of recommendations and so does Amazon.\n",
        "\n",
        "The __key__ here is that __we don't need the user to interact on every single item in the list of recommendations. Instead, we just need the user to interact with at least one item on the list__ - _as long as the user does that, the recommendations have worked_.\n",
        "\n",
        "To simulate this, let's run the following evaluation protocol to generate a list of 10 recommended items for each user.\n",
        "\n",
        "- For each user, randomly select 99 items that the user __has not interacted with__\n",
        "- Combine these 99 items with the test item (the actual item that the user interacted with). We now have 100 items.\n",
        "- Run the model on these 100 items, and rank them according to their predicted probabilities\n",
        "- Select the top 10 items from the list of 100 items. If the test item is present within the top 10 items, then we say that this is a hit.\n",
        "- Repeat the process for all users. The Hit Ratio is then the average hits.\n",
        "\n",
        "This evaluation protocol is known as __Hit Ratio @ 10__, and it is commonly used to evaluate recommender systems."
      ],
      "id": "I_qqVaLTKTua"
    },
    {
      "cell_type": "code",
      "metadata": {
        "id": "sq0lnVbxK7wt"
      },
      "source": [
        "# User-item pairs for testing\n",
        "test_user_item_set = set(zip(test_ratings['userId'], test_ratings['movieId']))\n",
        "\n",
        "# Dict of all items that are interacted with by each user\n",
        "user_interacted_items = ratings.groupby('userId')['movieId'].apply(list).to_dict()"
      ],
      "id": "sq0lnVbxK7wt",
      "execution_count": 69,
      "outputs": []
    },
    {
      "cell_type": "code",
      "metadata": {
        "id": "j0x6gpObLImY"
      },
      "source": [
        "from tqdm import tqdm"
      ],
      "id": "j0x6gpObLImY",
      "execution_count": 73,
      "outputs": []
    },
    {
      "cell_type": "code",
      "metadata": {
        "colab": {
          "base_uri": "https://localhost:8080/"
        },
        "id": "1lGYeY7aLCbu",
        "outputId": "b08d85fc-38d3-436e-a54b-cf7439e35d9d"
      },
      "source": [
        "hits = []\n",
        "for (u,i) in tqdm(test_user_item_set):\n",
        "    interacted_items = user_interacted_items[u]\n",
        "    not_interacted_items = set(all_movieIds) - set(interacted_items)\n",
        "    selected_not_interacted = list(np.random.choice(list(not_interacted_items), 99))\n",
        "    test_items = selected_not_interacted + [i]\n",
        "    \n",
        "    predicted_labels = np.squeeze(model(torch.tensor([u]*100), \n",
        "                                        torch.tensor(test_items)).detach().numpy())\n",
        "    \n",
        "    top10_items = [test_items[i] for i in np.argsort(predicted_labels)[::-1][0:10].tolist()]\n",
        "    \n",
        "    if i in top10_items:\n",
        "        hits.append(1)\n",
        "    else:\n",
        "        hits.append(0)\n",
        "        \n",
        "print(\"The Hit Ratio @ 10 is {:.2f}\".format(np.average(hits)))"
      ],
      "id": "1lGYeY7aLCbu",
      "execution_count": 74,
      "outputs": [
        {
          "output_type": "stream",
          "text": [
            "100%|██████████| 702/702 [00:01<00:00, 355.41it/s]"
          ],
          "name": "stderr"
        },
        {
          "output_type": "stream",
          "text": [
            "The Hit Ratio @ 10 is 0.56\n"
          ],
          "name": "stdout"
        },
        {
          "output_type": "stream",
          "text": [
            "\n"
          ],
          "name": "stderr"
        }
      ]
    },
    {
      "cell_type": "markdown",
      "metadata": {
        "id": "naHiED-xLXrp"
      },
      "source": [
        "### _Hit Ratio @ 10_ interpretation:\n",
        "\n",
        "This means that 56% of the users were recommended the actual item (amongst a list of 10 items) that they eventually interacted with."
      ],
      "id": "naHiED-xLXrp"
    },
    {
      "cell_type": "code",
      "metadata": {
        "id": "oVJItD6iLDT3"
      },
      "source": [
        ""
      ],
      "id": "oVJItD6iLDT3",
      "execution_count": null,
      "outputs": []
    },
    {
      "cell_type": "code",
      "metadata": {
        "id": "814a8e8a-1142-4cd2-8473-f74ffc144dca"
      },
      "source": [
        ""
      ],
      "id": "814a8e8a-1142-4cd2-8473-f74ffc144dca",
      "execution_count": null,
      "outputs": []
    }
  ]
}